{
 "cells": [
  {
   "cell_type": "markdown",
   "id": "57fbabc1-09f1-40f8-911f-d0cf40c821ea",
   "metadata": {},
   "source": [
    "# Getting started with tskit\n",
    "This is the step-by-step tutorial found [here](https://tskit.dev/tutorials/getting_started.html). Here we generate an alignment using [msprime](https://tskit.dev/msprime/docs/stable/intro.html), which is a python package to generate data to be used with *tskit* stuff"
   ]
  },
  {
   "cell_type": "markdown",
   "id": "b99f27bd-41f2-48f2-b271-44473d3d097c",
   "metadata": {},
   "source": [
    "> A number of different software programs can generate tree sequences. For the purposes of this tutorial we’ll use msprime to create an example tree sequence representing the genetic genealogy of a 10Mb chromosome in twenty diploid individuals. To make it a bit more interesting, we’ll simulate the effects of a selective sweep in the middle of the chromosome, then throw some neutral mutations onto the resulting tree sequence."
   ]
  },
  {
   "cell_type": "code",
   "execution_count": 1,
   "id": "75849883-5cf4-48db-8eb2-f64249d10fe1",
   "metadata": {},
   "outputs": [
    {
     "data": {
      "text/html": [
       "\n",
       "            <div>\n",
       "              <style>\n",
       "                .tskit-table thead tr th {text-align: left;padding: 0.5em 0.5em;}\n",
       "                .tskit-table tbody tr td {padding: 0.5em 0.5em;}\n",
       "                .tskit-table tbody tr td:first-of-type {text-align: left;}\n",
       "                .tskit-details-label {vertical-align: top; padding-right:5px;}\n",
       "                .tskit-table-set {display: inline-flex;flex-wrap: wrap;margin: -12px 0 0 -12px;width: calc(100% + 12px);}\n",
       "                .tskit-table-set-table {margin: 12px 0 0 12px;}\n",
       "                details {display: inline-block;}\n",
       "                summary {cursor: pointer; outline: 0; display: list-item;}\n",
       "              </style>\n",
       "              <div class=\"tskit-table-set\">\n",
       "                <div class=\"tskit-table-set-table\">\n",
       "                  <table class=\"tskit-table\">\n",
       "                    <thead>\n",
       "                      <tr>\n",
       "                        <th style=\"padding:0;line-height:21px;\">\n",
       "                          <img style=\"height: 32px;display: inline-block;padding: 3px 5px 3px 0;\" src=\"https://raw.githubusercontent.com/tskit-dev/administrative/main/tskit_logo.svg\"/>\n",
       "                          <a target=\"_blank\" href=\"https://tskit.dev/tskit/docs/latest/python-api.html#the-treesequence-class\"> Tree Sequence </a>\n",
       "                        </th>\n",
       "                      </tr>\n",
       "                    </thead>\n",
       "                    <tbody>\n",
       "                      <tr><td>Trees</td><td>11167</td></tr>\n",
       "                      <tr><td>Sequence Length</td><td>10000000.0</td></tr>\n",
       "                      <tr><td>Time Units</td><td>generations</td></tr>\n",
       "                      <tr><td>Sample Nodes</td><td>40</td></tr>\n",
       "                      <tr><td>Total Size</td><td>2.4 MiB</td></tr>\n",
       "                      <tr>\n",
       "                        <td>Metadata</td><td style=\"text-align: left;\">No Metadata</td></tr>\n",
       "                    </tbody>\n",
       "                  </table>\n",
       "                </div>\n",
       "                <div class=\"tskit-table-set-table\">\n",
       "                  <table class=\"tskit-table\">\n",
       "                    <thead>\n",
       "                      <tr>\n",
       "                        <th style=\"line-height:21px;\">Table</th>\n",
       "                        <th>Rows</th>\n",
       "                        <th>Size</th>\n",
       "                        <th>Has Metadata</th>\n",
       "                      </tr>\n",
       "                    </thead>\n",
       "                    <tbody>\n",
       "                    \n",
       "                  <tr>\n",
       "                    <td>Edges</td>\n",
       "                      <td>36372</td>\n",
       "                      <td>1.1 MiB</td>\n",
       "                      <td style=\"text-align: center;\">\n",
       "                        \n",
       "                      </td>\n",
       "                    </tr>\n",
       "                \n",
       "                  <tr>\n",
       "                    <td>Individuals</td>\n",
       "                      <td>20</td>\n",
       "                      <td>584 Bytes</td>\n",
       "                      <td style=\"text-align: center;\">\n",
       "                        \n",
       "                      </td>\n",
       "                    </tr>\n",
       "                \n",
       "                  <tr>\n",
       "                    <td>Migrations</td>\n",
       "                      <td>0</td>\n",
       "                      <td>8 Bytes</td>\n",
       "                      <td style=\"text-align: center;\">\n",
       "                        \n",
       "                      </td>\n",
       "                    </tr>\n",
       "                \n",
       "                  <tr>\n",
       "                    <td>Mutations</td>\n",
       "                      <td>13568</td>\n",
       "                      <td>490.3 KiB</td>\n",
       "                      <td style=\"text-align: center;\">\n",
       "                        \n",
       "                      </td>\n",
       "                    </tr>\n",
       "                \n",
       "                  <tr>\n",
       "                    <td>Nodes</td>\n",
       "                      <td>7342</td>\n",
       "                      <td>200.8 KiB</td>\n",
       "                      <td style=\"text-align: center;\">\n",
       "                        \n",
       "                      </td>\n",
       "                    </tr>\n",
       "                \n",
       "                  <tr>\n",
       "                    <td>Populations</td>\n",
       "                      <td>1</td>\n",
       "                      <td>224 Bytes</td>\n",
       "                      <td style=\"text-align: center;\">\n",
       "                        ✅\n",
       "                      </td>\n",
       "                    </tr>\n",
       "                \n",
       "                  <tr>\n",
       "                    <td>Provenances</td>\n",
       "                      <td>2</td>\n",
       "                      <td>1.9 KiB</td>\n",
       "                      <td style=\"text-align: center;\">\n",
       "                        \n",
       "                      </td>\n",
       "                    </tr>\n",
       "                \n",
       "                  <tr>\n",
       "                    <td>Sites</td>\n",
       "                      <td>13554</td>\n",
       "                      <td>330.9 KiB</td>\n",
       "                      <td style=\"text-align: center;\">\n",
       "                        \n",
       "                      </td>\n",
       "                    </tr>\n",
       "                \n",
       "                    </tbody>\n",
       "                  </table>\n",
       "                </div>\n",
       "              </div>\n",
       "            </div>\n",
       "            "
      ],
      "text/plain": [
       "<tskit.trees.TreeSequence at 0x7fcc8c44b130>"
      ]
     },
     "execution_count": 1,
     "metadata": {},
     "output_type": "execute_result"
    }
   ],
   "source": [
    "import msprime\n",
    "\n",
    "pop_size=10_000\n",
    "seq_length=10_000_000\n",
    "\n",
    "sweep_model = msprime.SweepGenicSelection(\n",
    "    position=seq_length/2, start_frequency=0.0001, end_frequency=0.9999, s=0.25, dt=1e-6)\n",
    "\n",
    "ts = msprime.sim_ancestry(\n",
    "    20,\n",
    "    model=[sweep_model, msprime.StandardCoalescent()],\n",
    "    population_size=pop_size,\n",
    "    sequence_length=seq_length,\n",
    "    recombination_rate=1e-8,\n",
    "    random_seed=1234,  # only needed for repeatabilty\n",
    "    )\n",
    "# Optionally add finite-site mutations to the ts using the Jukes & Cantor model, creating SNPs\n",
    "ts = msprime.sim_mutations(ts, rate=1e-8, random_seed=4321)\n",
    "ts"
   ]
  },
  {
   "cell_type": "markdown",
   "id": "9f485e42-5850-42fb-be58-0fb53654f208",
   "metadata": {},
   "source": [
    "We have tousand of trees in `ts` object. We have *20 dyploid* individuals, so 40 nodes (one for genome? have I *two* genomes per individual as described by the tutorial?)\n",
    "\n",
    "Iterate over the *trees* with the `trees()` method:"
   ]
  },
  {
   "cell_type": "code",
   "execution_count": 2,
   "id": "165bbeb6-68d9-42f7-aa85-6db277ada3c5",
   "metadata": {},
   "outputs": [
    {
     "name": "stdout",
     "output_type": "stream",
     "text": [
      "Tree 0 covers Interval(left=0.0, right=661.0)\n",
      "Tree 1 covers Interval(left=661.0, right=3116.0)\n",
      "Tree 2 covers Interval(left=3116.0, right=4451.0)\n",
      "Tree 3 covers Interval(left=4451.0, right=4673.0)\n",
      "Tree 4 covers Interval(left=4673.0, right=5020.0)\n",
      "...\n",
      "Tree 11166 covers Interval(left=9999635.0, right=10000000.0)\n"
     ]
    }
   ],
   "source": [
    "for tree in ts.trees():\n",
    "    print(f\"Tree {tree.index} covers {tree.interval}\")\n",
    "    if tree.index >= 4:\n",
    "        print(\"...\")\n",
    "        break\n",
    "print(f\"Tree {ts.last().index} covers {ts.last().interval}\")"
   ]
  },
  {
   "cell_type": "markdown",
   "id": "f004d2cc-9bfd-4f8c-8ab5-f3d7af4dd507",
   "metadata": {},
   "source": [
    "There are also `last()` and `first()` methods to access to the *last* and *first* trees respectively. Check if trees coalesce (not always true for [forward simulations](https://tskit.dev/tutorials/forward_sims.html#sec-tskit-forward-simulations))"
   ]
  },
  {
   "cell_type": "code",
   "execution_count": 3,
   "id": "85660fb0-b6ac-4c80-afcd-985dac370547",
   "metadata": {},
   "outputs": [
    {
     "name": "stdout",
     "output_type": "stream",
     "text": [
      "All 11167 trees coalesced\n",
      "Checked in 0.0209928 secs\n"
     ]
    }
   ],
   "source": [
    "import time\n",
    "elapsed = time.time()\n",
    "for tree in ts.trees():\n",
    "    if tree.has_multiple_roots:\n",
    "        print(\"Tree {tree.index} has not coalesced\")\n",
    "        break\n",
    "else:\n",
    "    elapsed = time.time() - elapsed\n",
    "    print(f\"All {ts.num_trees} trees coalesced\")\n",
    "    print(f\"Checked in {elapsed:.6g} secs\")"
   ]
  },
  {
   "cell_type": "code",
   "execution_count": null,
   "id": "08ba57c4",
   "metadata": {},
   "outputs": [],
   "source": []
  }
 ],
 "metadata": {
  "kernelspec": {
   "display_name": "Python 3 (ipykernel)",
   "language": "python",
   "name": "python3"
  },
  "language_info": {
   "codemirror_mode": {
    "name": "ipython",
    "version": 3
   },
   "file_extension": ".py",
   "mimetype": "text/x-python",
   "name": "python",
   "nbconvert_exporter": "python",
   "pygments_lexer": "ipython3",
   "version": "3.9.2"
  }
 },
 "nbformat": 4,
 "nbformat_minor": 5
}
