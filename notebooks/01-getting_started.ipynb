{
 "cells": [
  {
   "cell_type": "markdown",
   "id": "57fbabc1-09f1-40f8-911f-d0cf40c821ea",
   "metadata": {},
   "source": [
    "# Getting started with tskit\n",
    "This is the step-by-step tutorial found [here](https://tskit.dev/tutorials/getting_started.html). Here we generate an alignment using [msprime](https://tskit.dev/msprime/docs/stable/intro.html), which is a python package to generate data to be used with *tskit* stuff"
   ]
  },
  {
   "cell_type": "markdown",
   "id": "b99f27bd-41f2-48f2-b271-44473d3d097c",
   "metadata": {},
   "source": [
    "> A number of different software programs can generate tree sequences. For the purposes of this tutorial we’ll use msprime to create an example tree sequence representing the genetic genealogy of a 10Mb chromosome in twenty diploid individuals. To make it a bit more interesting, we’ll simulate the effects of a selective sweep in the middle of the chromosome, then throw some neutral mutations onto the resulting tree sequence."
   ]
  },
  {
   "cell_type": "code",
   "execution_count": null,
   "id": "75849883-5cf4-48db-8eb2-f64249d10fe1",
   "metadata": {},
   "outputs": [],
   "source": [
    "import msprime\n",
    "\n",
    "pop_size=10_000\n",
    "seq_length=10_000_000\n",
    "\n",
    "sweep_model = msprime.SweepGenicSelection(\n",
    "    position=seq_length/2, start_frequency=0.0001, end_frequency=0.9999, s=0.25, dt=1e-6)\n",
    "\n",
    "ts = msprime.sim_ancestry(\n",
    "    20,\n",
    "    model=[sweep_model, msprime.StandardCoalescent()],\n",
    "    population_size=pop_size,\n",
    "    sequence_length=seq_length,\n",
    "    recombination_rate=1e-8,\n",
    "    random_seed=1234,  # only needed for repeatabilty\n",
    "    )\n",
    "# Optionally add finite-site mutations to the ts using the Jukes & Cantor model, creating SNPs\n",
    "ts = msprime.sim_mutations(ts, rate=1e-8, random_seed=4321)\n",
    "ts"
   ]
  },
  {
   "cell_type": "markdown",
   "id": "9f485e42-5850-42fb-be58-0fb53654f208",
   "metadata": {},
   "source": [
    "We have tousand of trees in `ts` object. We have *20 dyploid* individuals, so 40 nodes (one for genome? have I *two* genomes per individual as described by the tutorial?)\n",
    "\n",
    "## Processing trees\n",
    "\n",
    "Iterate over the *trees* with the `trees()` method:"
   ]
  },
  {
   "cell_type": "code",
   "execution_count": null,
   "id": "165bbeb6-68d9-42f7-aa85-6db277ada3c5",
   "metadata": {},
   "outputs": [],
   "source": [
    "for tree in ts.trees():\n",
    "    print(f\"Tree {tree.index} covers {tree.interval}\")\n",
    "    if tree.index >= 4:\n",
    "        print(\"...\")\n",
    "        break\n",
    "print(f\"Tree {ts.last().index} covers {ts.last().interval}\")"
   ]
  },
  {
   "cell_type": "markdown",
   "id": "f004d2cc-9bfd-4f8c-8ab5-f3d7af4dd507",
   "metadata": {},
   "source": [
    "There are also `last()` and `first()` methods to access to the *last* and *first* trees respectively. Check if trees coalesce (not always true for [forward simulations](https://tskit.dev/tutorials/forward_sims.html#sec-tskit-forward-simulations))"
   ]
  },
  {
   "cell_type": "code",
   "execution_count": null,
   "id": "85660fb0-b6ac-4c80-afcd-985dac370547",
   "metadata": {},
   "outputs": [],
   "source": [
    "import time\n",
    "elapsed = time.time()\n",
    "for tree in ts.trees():\n",
    "    if tree.has_multiple_roots:\n",
    "        print(\"Tree {tree.index} has not coalesced\")\n",
    "        break\n",
    "else:\n",
    "    elapsed = time.time() - elapsed\n",
    "    print(f\"All {ts.num_trees} trees coalesced\")\n",
    "    print(f\"Checked in {elapsed:.6g} secs\")"
   ]
  },
  {
   "cell_type": "markdown",
   "id": "08ba57c4",
   "metadata": {},
   "source": [
    "Now that we know all trees have coalesced, we know that at each position in the \n",
    "genome all the 40 sample nodes must have one most recent common ancestor (MRCA). \n",
    "Below, we iterate over the trees, finding the IDs of the root (MRCA) node for e\n",
    "ach tree. The time of this root node can be found via the `tskit.TreeSequence.node()`\n",
    "method, which returns a `Node` object whose attributes include the node time:"
   ]
  },
  {
   "cell_type": "code",
   "execution_count": null,
   "id": "59440f0d",
   "metadata": {},
   "outputs": [],
   "source": [
    "import matplotlib.pyplot as plt\n",
    "\n",
    "kb = [0]  # Starting genomic position\n",
    "mrca_time = []\n",
    "for tree in ts.trees():\n",
    "    kb.append(tree.interval.right/1000)  # convert to kb\n",
    "    mrca = ts.node(tree.root)  # For msprime tree sequences, the root node is the MRCA\n",
    "    mrca_time.append(mrca.time)\n",
    "plt.stairs(mrca_time, kb, baseline=None)\n",
    "plt.xlabel(\"Genome position (kb)\")\n",
    "plt.ylabel(\"Time of root (or MRCA) in generations\")\n",
    "plt.yscale(\"log\")\n",
    "plt.show()"
   ]
  },
  {
   "cell_type": "markdown",
   "id": "f74f4c38",
   "metadata": {},
   "source": [
    "It’s obvious that there’s something unusual about the trees in the middle of\n",
    "this chromosome, where the selective sweep occurred.\n",
    "\n",
    "Although tskit is designed so that is it rapid to pass through trees sequentially,\n",
    "it is also possible to pull out individual trees from the middle of a tree sequence\n",
    "via the `TreeSequence.at()` method. Here’s how you can use that to extract the \n",
    "tree at location - the position of the sweep - and draw it using the `Tree.draw_svg()`\n",
    "method:"
   ]
  },
  {
   "cell_type": "code",
   "execution_count": null,
   "id": "6d72472f",
   "metadata": {},
   "outputs": [],
   "source": [
    "swept_tree = ts.at(5_000_000)  # or you can get e.g. the nth tree using ts.at_index(n)\n",
    "intvl = swept_tree.interval\n",
    "print(f\"Tree number {swept_tree.index}, which runs from position {intvl.left} to {intvl.right}:\")\n",
    "# Draw it at a wide size, to make room for all 40 tips\n",
    "swept_tree.draw_svg(size=(1000, 200))"
   ]
  },
  {
   "cell_type": "markdown",
   "id": "eca1a1ec",
   "metadata": {},
   "source": [
    "This tree shows the classic signature of a recent expansion or selection event,\n",
    "with many long terminal branches, resulting in an excess of singleton mutations.\n",
    "\n",
    "It can often be helpful to slim down a tree sequence so that it represents the\n",
    "genealogy of a smaller subset of the original samples. This can be done using\n",
    "the powerful `TreeSequence.simplify()` method.\n",
    "\n",
    "The `TreeSequence.draw_svg()` method allows us to draw more than one tree:\n",
    "either the entire tree sequence, or (by using the `x_lim` parameter) a smaller\n",
    "region of the genome:"
   ]
  },
  {
   "cell_type": "code",
   "execution_count": null,
   "id": "1ca8c4bc",
   "metadata": {},
   "outputs": [],
   "source": [
    "reduced_ts = ts.simplify([0, 1, 2, 3, 4, 5, 6, 7, 8, 9])  # simplify to the first 10 samples\n",
    "print(\"Genealogy of the first 10 samples for the first 5kb of the genome\")\n",
    "reduced_ts.draw_svg(x_lim=(0, 5000))"
   ]
  },
  {
   "cell_type": "markdown",
   "id": "a626170c",
   "metadata": {},
   "source": [
    "These are much more standard-looking coalescent trees, with far longer branches\n",
    "higher up in the tree, and therefore many more mutations at higher-frequencies.\n",
    "\n",
    "> In this tutorial we refer to objects, such as sample nodes, by their numerical\n",
    "> IDs. These can change after simplification, and it is often more meaningful\n",
    "> to [work with metadata](https://tskit.dev/tutorials/metadata.html#sec-tutorial-metadata), \n",
    "> such as sample and population names, which can be permanently attached to\n",
    "> objects in the tree sequence. Such metadata is often incorporated automatically\n",
    "> by the tools generating the tree sequence."
   ]
  },
  {
   "cell_type": "markdown",
   "id": "651b0a30",
   "metadata": {},
   "source": []
  }
 ],
 "metadata": {
  "kernelspec": {
   "display_name": "Python 3 (ipykernel)",
   "language": "python",
   "name": "python3"
  },
  "language_info": {
   "codemirror_mode": {
    "name": "ipython",
    "version": 3
   },
   "file_extension": ".py",
   "mimetype": "text/x-python",
   "name": "python",
   "nbconvert_exporter": "python",
   "pygments_lexer": "ipython3",
   "version": "3.9.2"
  }
 },
 "nbformat": 4,
 "nbformat_minor": 5
}
