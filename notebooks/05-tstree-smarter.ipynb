{
 "cells": [
  {
   "cell_type": "markdown",
   "metadata": {},
   "source": [
    "# Reading data from chromosome 26\n",
    "* [One-way statistics](#one-way-statistics)\n",
    "* [Multi-way statistics](#multi-way-statistics)"
   ]
  },
  {
   "cell_type": "code",
   "execution_count": null,
   "metadata": {},
   "outputs": [],
   "source": [
    "import tskit\n",
    "import tsinfer\n",
    "import numpy as np\n",
    "import pandas as pd\n",
    "\n",
    "from tskitetude import get_project_dir"
   ]
  },
  {
   "cell_type": "markdown",
   "metadata": {},
   "source": [
    "loading data from one chromosome:"
   ]
  },
  {
   "cell_type": "code",
   "execution_count": null,
   "metadata": {},
   "outputs": [],
   "source": [
    "ts = tskit.load(get_project_dir() / \"results/tsinfer/SMARTER-OA-OAR3-forward-0.4.9.focal.26.trees\")\n",
    "ts"
   ]
  },
  {
   "cell_type": "code",
   "execution_count": null,
   "metadata": {},
   "outputs": [],
   "source": [
    "samples = tsinfer.load(get_project_dir() / \"results/tsinfer/SMARTER-OA-OAR3-forward-0.4.9.focal.26.samples\")\n",
    "print(samples.info)"
   ]
  },
  {
   "cell_type": "markdown",
   "metadata": {},
   "source": [
    "<a id='one-way-statistics'></a>\n",
    "## One-way statistics\n",
    "We refer to statistics that are defined with respect to a single set of samples as “one-way”. An example of such a statistic is diversity, which is computed using the [TreeSequence.diversity()](https://tskit.dev/tskit/docs/stable/python-api.html#tskit.TreeSequence.diversity) method:"
   ]
  },
  {
   "cell_type": "code",
   "execution_count": null,
   "metadata": {},
   "outputs": [],
   "source": [
    "pi = ts.diversity()\n",
    "print(f\"Average diversity per unit sequence length = {pi:.3G}\")\n"
   ]
  },
  {
   "cell_type": "markdown",
   "metadata": {},
   "source": [
    "Computes mean genetic diversity (also known as `pi`) in each of the sets of nodes from sample_sets. The statistic is also known as *sample heterozygosity*; a common citation for the definition is [Nei and Li (1979)](https://doi.org/10.1073/pnas.76.10.5269) (equation 22), so it is sometimes called called “Nei’s pi” (but also sometimes “Tajima’s pi”). This tells the average diversity across the whole sequence and returns a single number. We’ll usually want to compute statistics in [windows](https://tskit.dev/tskit/docs/stable/stats.html#sec-stats-windows) along the genome and we use the windows argument to do this:"
   ]
  },
  {
   "cell_type": "code",
   "execution_count": null,
   "metadata": {},
   "outputs": [],
   "source": [
    "print(\"Sequence length = \", ts.sequence_length)\n",
    "# windows = np.linspace(0, ts.sequence_length, num=int(ts.sequence_length / 1_000_000) + 1)\n",
    "# it's seems that windows needs to contain the initial and final positions\n",
    "windows = np.append(np.arange(0, ts.sequence_length, 5_000_000), ts.sequence_length)\n",
    "# transform into integer\n",
    "windows = windows.astype(int)\n",
    "pi = ts.diversity(windows=windows)\n",
    "df = pd.DataFrame({\"windows\": windows[1:], \"pi\": pi})\n",
    "df[\"pi\"] = df[\"pi\"].map(lambda x: f\"{x:.3G}\")\n",
    "df"
   ]
  },
  {
   "cell_type": "markdown",
   "metadata": {},
   "source": [
    "Suppose we wanted to compute diversity within a specific subset of samples. We can do this using the `sample_sets` argument:"
   ]
  },
  {
   "cell_type": "code",
   "execution_count": null,
   "metadata": {},
   "outputs": [],
   "source": [
    "A = ts.samples()[:100]\n",
    "d = ts.diversity(sample_sets=A)\n",
    "print(d)"
   ]
  },
  {
   "cell_type": "markdown",
   "metadata": {},
   "source": [
    "Here, we’ve computed the average diversity within the first hundred samples across the whole genome. As we’ve not specified any windows, this is again a single value. We can also compute diversity in multiple sample sets at the same time by providing a list of sample sets as an argument:"
   ]
  },
  {
   "cell_type": "code",
   "execution_count": null,
   "metadata": {},
   "outputs": [],
   "source": [
    "A = ts.samples()[:100]\n",
    "B = ts.samples()[100:200]\n",
    "C = ts.samples()[200:300]\n",
    "d = ts.diversity(sample_sets=[A, B, C])\n",
    "print(d)"
   ]
  },
  {
   "cell_type": "markdown",
   "metadata": {},
   "source": [
    "Ok, this was done by following the tutorial an getting samples by indexes. But can I select my data by *breeds*? this information seems not to be stored in *tstree* object itself, but in the *sample* data I used to generate my stuff. Let's discover the samples by breed. Remember that in my data I have 11477 samples, which stand for a pair of chromosomes for my 5739 individuals:"
   ]
  },
  {
   "cell_type": "code",
   "execution_count": null,
   "metadata": {},
   "outputs": [],
   "source": [
    "print(f\"I have {ts.samples().size} samples\")\n",
    "print(f\"which stand for {sum(1 for _ in samples.individuals())} individuals\")"
   ]
  },
  {
   "cell_type": "code",
   "execution_count": null,
   "metadata": {},
   "outputs": [],
   "source": [
    "def get_sample_indexes(samples: tsinfer.SampleData, breed: str):\n",
    "    # return np.where(samples.individuals_metadata[\"breed\"] == breed)[0]\n",
    "    # get breed index from samples.population_metadata\n",
    "    breed_idx = next((index for index, d in enumerate(samples.populations_metadata) if d['breed'] == breed), None)\n",
    "\n",
    "    # get individuals indexes by breed index\n",
    "    individuals = [i.id for i in filter(lambda i: i.population == breed_idx, samples.individuals())]\n",
    "\n",
    "    # get samples by individual index\n",
    "    samples = [s.id for s in filter(lambda s: s.individual in individuals, samples.samples())]\n",
    "\n",
    "    return samples"
   ]
  },
  {
   "cell_type": "markdown",
   "metadata": {},
   "source": [
    "Get indexes for *MER* and *TEX* and calculate diversity:"
   ]
  },
  {
   "cell_type": "code",
   "execution_count": null,
   "metadata": {},
   "outputs": [],
   "source": [
    "TEX = get_sample_indexes(samples, \"TEX\")\n",
    "MER = get_sample_indexes(samples, \"MER\")"
   ]
  },
  {
   "cell_type": "code",
   "execution_count": null,
   "metadata": {},
   "outputs": [],
   "source": [
    "pi = ts.diversity(sample_sets=[TEX, MER])\n",
    "print(pi)"
   ]
  },
  {
   "cell_type": "markdown",
   "metadata": {},
   "source": [
    "Same stuff as before but using windows:"
   ]
  },
  {
   "cell_type": "code",
   "execution_count": null,
   "metadata": {},
   "outputs": [],
   "source": [
    "windows = np.append(np.arange(0, ts.sequence_length, 5_000_000), ts.sequence_length)\n",
    "windows = windows.astype(int)\n",
    "pi = ts.diversity(sample_sets=[TEX, MER], windows=windows)\n",
    "df = pd.DataFrame({\"windows\": windows[1:], \"MER_pi\": pi[:, 0], \"TEX_pi\": pi[:, 1]})\n",
    "df[\"MER_pi\"] = df[\"MER_pi\"].map(lambda x: f\"{x:.3G}\")\n",
    "df[\"TEX_pi\"] = df[\"TEX_pi\"].map(lambda x: f\"{x:.3G}\")\n",
    "df"
   ]
  },
  {
   "cell_type": "markdown",
   "metadata": {},
   "source": [
    "<a id='multi-way-statistics'></a>\n",
    "## Multi-way statistics"
   ]
  },
  {
   "cell_type": "markdown",
   "metadata": {},
   "source": [
    "Many population genetic statistics compare multiple sets of samples to each other. For example, the [TreeSequence.divergence()](https://tskit.dev/tskit/docs/stable/python-api.html#tskit.TreeSequence.divergence) method computes the divergence between two subsets of samples:"
   ]
  },
  {
   "cell_type": "code",
   "execution_count": null,
   "metadata": {},
   "outputs": [],
   "source": [
    "d = ts.divergence([TEX, MER])\n",
    "print(f\"Divergence between TEX and MER: {d:.3G}\")"
   ]
  },
  {
   "cell_type": "markdown",
   "metadata": {},
   "source": [
    "The divergence between two sets of samples is a single number, and we we again return a single floating point value as the result. We can also compute this in windows along the genome, as before:"
   ]
  },
  {
   "cell_type": "code",
   "execution_count": null,
   "metadata": {},
   "outputs": [],
   "source": [
    "d = ts.divergence([TEX, MER], windows=windows)\n",
    "print(d)"
   ]
  },
  {
   "cell_type": "markdown",
   "metadata": {},
   "source": [
    "A powerful feature of tskit’s stats API is that we can compute the divergences between multiple sets of samples simultaneously using the `indexes` argument:"
   ]
  },
  {
   "cell_type": "code",
   "execution_count": null,
   "metadata": {},
   "outputs": [],
   "source": [
    "CRL = get_sample_indexes(samples, \"CRL\")"
   ]
  },
  {
   "cell_type": "code",
   "execution_count": null,
   "metadata": {},
   "outputs": [],
   "source": [
    "d = ts.divergence([TEX, MER, CRL], indexes=[(0, 1), (0, 2)])\n",
    "print(d)"
   ]
  },
  {
   "cell_type": "markdown",
   "metadata": {},
   "source": [
    "The indexes argument is used to specify which pairs of sets we are interested in. In this example we’ve computed two different divergence values and the output is therefore a `numpy` array of length 2.\n",
    "\n",
    "As before, we can combine computing multiple statistics in multiple windows to return a 2D `numpy` array:"
   ]
  },
  {
   "cell_type": "code",
   "execution_count": null,
   "metadata": {},
   "outputs": [],
   "source": [
    "d = ts.divergence([TEX, MER, CRL], indexes=[(0, 1), (0, 2)], windows=windows)\n",
    "df = pd.DataFrame({\"windows\": windows[1:], \"TEXvsMER\": d[:, 0], \"MERvsCRL\": d[:, 1]})\n",
    "for column in df.columns[1:]:\n",
    "    df[column] = df[column].map(lambda x: f\"{x:.3G}\")\n",
    "df"
   ]
  },
  {
   "cell_type": "markdown",
   "metadata": {},
   "source": [
    "Each row again corresponds to a window, which contains the average divergence values between the chosen sets."
   ]
  }
 ],
 "metadata": {
  "kernelspec": {
   "display_name": "Python 3 (ipykernel)",
   "language": "python",
   "name": "python3"
  },
  "language_info": {
   "codemirror_mode": {
    "name": "ipython",
    "version": 3
   },
   "file_extension": ".py",
   "mimetype": "text/x-python",
   "name": "python",
   "nbconvert_exporter": "python",
   "pygments_lexer": "ipython3",
   "version": "3.9.2"
  }
 },
 "nbformat": 4,
 "nbformat_minor": 2
}
