{
 "cells": [
  {
   "cell_type": "markdown",
   "metadata": {},
   "source": [
    "# About tstree space\n",
    "\n",
    "A *tstree* object created from the smarter dataset occupies a lot of space. Even \n",
    "by providing *REF* allele as ancestor alleles and dropping mutation in tstree object\n",
    "there is still a lot of space occupied by the object. So try to deal with *tables* \n",
    "and inspect how much data is stored here"
   ]
  },
  {
   "cell_type": "code",
   "execution_count": null,
   "metadata": {},
   "outputs": [],
   "source": [
    "from pprint import pprint\n",
    "import numpy as np\n",
    "\n",
    "import tskit\n",
    "\n",
    "from tskitetude import get_project_dir"
   ]
  },
  {
   "cell_type": "code",
   "execution_count": null,
   "metadata": {},
   "outputs": [],
   "source": [
    "ts = tskit.load(str(get_project_dir() / \"results-reference/background_samples/tsinfer/SMARTER-OA-OAR3-forward-0.4.10.focal.26.trees\"))\n",
    "ts"
   ]
  },
  {
   "cell_type": "markdown",
   "metadata": {},
   "source": [
    "Inspecting table nodes:"
   ]
  },
  {
   "cell_type": "code",
   "execution_count": null,
   "metadata": {},
   "outputs": [],
   "source": [
    "print(f\"Nodes are {len(ts.tables.nodes)}\")\n",
    "pprint(ts.tables.nodes.asdict())\n",
    "pprint(ts.tables.nodes[-1])"
   ]
  },
  {
   "cell_type": "markdown",
   "metadata": {},
   "source": [
    "It seems that are *edges* the most predominant data structure in *tstree* object:"
   ]
  },
  {
   "cell_type": "code",
   "execution_count": null,
   "metadata": {},
   "outputs": [],
   "source": [
    "print(f\"Edges are {len(ts.tables.edges)}\")\n",
    "pprint(ts.tables.edges.asdict())\n",
    "pprint(ts.tables.edges[-1])"
   ]
  },
  {
   "cell_type": "markdown",
   "metadata": {},
   "source": [
    "Ok, try to focus only on a SNP. Get the tree for the first SNP and try to get stuff\n",
    "from tables:"
   ]
  },
  {
   "cell_type": "code",
   "execution_count": null,
   "metadata": {},
   "outputs": [],
   "source": [
    "POS = 209049\n",
    "tree = ts.at(POS)\n",
    "tree"
   ]
  },
  {
   "cell_type": "markdown",
   "metadata": {},
   "source": [
    "Now get the intervals of this tree. Then try to filter out edges between those positions:"
   ]
  },
  {
   "cell_type": "code",
   "execution_count": null,
   "metadata": {},
   "outputs": [],
   "source": [
    "interval = tree.interval\n",
    "left_bound = interval.left\n",
    "right_bound = interval.right\n",
    "\n",
    "filtered_edges = ts.tables.edges[\n",
    "    np.logical_and(ts.tables.edges.left >= left_bound, ts.tables.edges.right <= right_bound)]\n",
    "filtered_edges[:10]"
   ]
  },
  {
   "cell_type": "code",
   "execution_count": null,
   "metadata": {},
   "outputs": [],
   "source": [
    "len(filtered_edges)"
   ]
  },
  {
   "cell_type": "markdown",
   "metadata": {},
   "source": [
    "Can I filter out the nodes in the same way? In this case I don't have a left and right \n",
    "position like in the edge table. However, from the edge table I can derive which nodes are\n",
    "*child* of *parents*:"
   ]
  },
  {
   "cell_type": "code",
   "execution_count": null,
   "metadata": {},
   "outputs": [],
   "source": [
    "parents = set(filtered_edges.parent)\n",
    "childs = set(filtered_edges.child)\n",
    "\n",
    "node_ids = parents.union(childs)\n",
    "print(f\"Got {len(node_ids)} distinct nodes\")\n"
   ]
  },
  {
   "cell_type": "code",
   "execution_count": null,
   "metadata": {},
   "outputs": [],
   "source": [
    "tree.draw_svg(\n",
    "    size=(800, 400),\n",
    "    time_scale=\"log_time\",\n",
    ")"
   ]
  },
  {
   "cell_type": "code",
   "execution_count": null,
   "metadata": {},
   "outputs": [],
   "source": []
  }
 ],
 "metadata": {
  "kernelspec": {
   "display_name": "Python 3 (ipykernel)",
   "language": "python",
   "name": "python3"
  },
  "language_info": {
   "codemirror_mode": {
    "name": "ipython",
    "version": 3
   },
   "file_extension": ".py",
   "mimetype": "text/x-python",
   "name": "python",
   "nbconvert_exporter": "python",
   "pygments_lexer": "ipython3",
   "version": "3.9.16"
  }
 },
 "nbformat": 4,
 "nbformat_minor": 2
}
