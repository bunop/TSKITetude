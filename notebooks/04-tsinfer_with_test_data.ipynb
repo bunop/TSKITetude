{
 "cells": [
  {
   "cell_type": "markdown",
   "metadata": {},
   "source": [
    "# TSINFER with SMARTER test data\n",
    "I've created a test dataset consisting of 10 samples and genotype data for the\n",
    "chromosome *26* of the SMARTER database. I've created a nextflow pipeline to prepare\n",
    "a dataset and generate a *phased/imputed* genotype with *Beagle*. Now try to read\n",
    "and determine a *tstree* object with *tsdata*:"
   ]
  },
  {
   "cell_type": "code",
   "execution_count": null,
   "metadata": {},
   "outputs": [],
   "source": [
    "import tsinfer\n",
    "import cyvcf2\n",
    "\n",
    "from tqdm.notebook import tqdm\n",
    "from tskit import MISSING_DATA\n",
    "\n",
    "from tskitetude import get_project_dir, get_data_dir\n",
    "from tskitetude.helper import add_populations, add_diploid_individuals, get_ancestors_alleles"
   ]
  },
  {
   "cell_type": "markdown",
   "metadata": {},
   "source": [
    "Define some useful stuff:"
   ]
  },
  {
   "cell_type": "code",
   "execution_count": null,
   "metadata": {},
   "outputs": [],
   "source": [
    "def get_chromosome_lengths(vcf):\n",
    "    results = {}\n",
    "    for seqname, seqlen in zip(vcf.seqnames, vcf.seqlens):\n",
    "        results[seqname] = seqlen\n",
    "\n",
    "    return results\n",
    "\n",
    "vcf_location = get_project_dir() / \"tskit-pipeline/results/focal/test_dataset.focal.norm.vcf.gz\"\n",
    "samples_location = get_data_dir() / \"test_dataset.focal.norm.samples\"\n",
    "\n",
    "vcf = cyvcf2.VCF(vcf_location)\n",
    "chromosome_lengths = get_chromosome_lengths(vcf)"
   ]
  },
  {
   "cell_type": "markdown",
   "metadata": {},
   "source": [
    "I've derived ancient alleles with `est-sfs`. Try to load data from my results:"
   ]
  },
  {
   "cell_type": "code",
   "execution_count": null,
   "metadata": {},
   "outputs": [],
   "source": [
    "ancestors_alleles = get_ancestors_alleles(get_project_dir() / \"tskit-pipeline/results/estsfs/samples-merged.ancestral.csv\")"
   ]
  },
  {
   "cell_type": "markdown",
   "metadata": {},
   "source": [
    "Now try to define a custom function to deal with VCF data:"
   ]
  },
  {
   "cell_type": "code",
   "execution_count": null,
   "metadata": {},
   "outputs": [],
   "source": [
    "def add_diploid_sites(vcf, samples, ancestors_alleles):\n",
    "    \"\"\"\n",
    "    Read the sites in the vcf and add them to the samples object.\n",
    "    \"\"\"\n",
    "    # You may want to change the following line, e.g. here we allow\n",
    "    # \"*\" (a spanning deletion) to be a valid allele state\n",
    "    allele_chars = set(\"ATGCatgc*\")\n",
    "    pos = 0\n",
    "    progressbar = tqdm(total=samples.sequence_length, desc=\"Read VCF\", unit='bp')\n",
    "\n",
    "    for variant in vcf:  # Loop over variants, each assumed at a unique site\n",
    "        progressbar.update(variant.POS - pos)\n",
    "\n",
    "        if pos == variant.POS:\n",
    "            print(f\"Duplicate entries at position {pos}, ignoring all but the first\")\n",
    "            continue\n",
    "\n",
    "        else:\n",
    "            pos = variant.POS\n",
    "\n",
    "        if any([not phased for _, _, phased in variant.genotypes]):\n",
    "            raise ValueError(\"Unphased genotypes for variant at position\", pos)\n",
    "\n",
    "        alleles = [variant.REF.upper()] + [v.upper() for v in variant.ALT]\n",
    "        ancestral_allele = ancestors_alleles.get((variant.CHROM, variant.POS), MISSING_DATA)\n",
    "\n",
    "        # Check we have ATCG alleles\n",
    "        for a in alleles:\n",
    "            if len(set(a) - allele_chars) > 0:\n",
    "                print(f\"Ignoring site at pos {pos}: allele {a} not in {allele_chars}\")\n",
    "                continue\n",
    "\n",
    "        # Map original allele indexes to their indexes in the new alleles list.\n",
    "        genotypes = [g for row in variant.genotypes for g in row[0:2]]\n",
    "        samples.add_site(pos, genotypes, alleles, ancestral_allele=ancestral_allele)"
   ]
  },
  {
   "cell_type": "markdown",
   "metadata": {},
   "source": [
    "Add individual and populations to empty samples data:"
   ]
  },
  {
   "cell_type": "code",
   "execution_count": null,
   "metadata": {},
   "outputs": [],
   "source": [
    "with tsinfer.SampleData(\n",
    "        path=str(samples_location), sequence_length=chromosome_lengths[\"26\"]) as samples:\n",
    "    samples_tsv = get_project_dir() / \"tskit-pipeline/tests/test_dataset.tsv\"\n",
    "    pop_lookup = add_populations(samples_tsv, samples)\n",
    "    indv_lookup = add_diploid_individuals(samples_tsv, pop_lookup, samples)\n",
    "    add_diploid_sites(vcf, samples, ancestors_alleles)"
   ]
  }
 ],
 "metadata": {
  "kernelspec": {
   "display_name": "Python 3 (ipykernel)",
   "language": "python",
   "name": "python3"
  },
  "language_info": {
   "codemirror_mode": {
    "name": "ipython",
    "version": 3
   },
   "file_extension": ".py",
   "mimetype": "text/x-python",
   "name": "python",
   "nbconvert_exporter": "python",
   "pygments_lexer": "ipython3",
   "version": "3.9.2"
  }
 },
 "nbformat": 4,
 "nbformat_minor": 2
}
