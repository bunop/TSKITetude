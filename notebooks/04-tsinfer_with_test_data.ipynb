{
 "cells": [
  {
   "cell_type": "markdown",
   "metadata": {},
   "source": [
    "# TSINFER with SMARTER test data\n",
    "I've created a test dataset consisting of 10 samples and genotype data for the\n",
    "chromosome *26* of the SMARTER database. I've created a nextflow pipeline to prepare\n",
    "a dataset and generate a *phased/imputed* genotype with *Beagle*. Now try to read\n",
    "and determine a *tstree* object with *tsdata*:"
   ]
  },
  {
   "cell_type": "code",
   "execution_count": null,
   "metadata": {},
   "outputs": [],
   "source": [
    "import tsinfer\n",
    "\n",
    "from tskitetude import get_project_dir\n",
    "from tskitetude.helper import add_populations, add_diploid_individuals"
   ]
  },
  {
   "cell_type": "markdown",
   "metadata": {},
   "source": [
    "Add individual and populations to fake samples data:"
   ]
  },
  {
   "cell_type": "code",
   "execution_count": null,
   "metadata": {},
   "outputs": [],
   "source": [
    "samples = tsinfer.SampleData()\n",
    "samples_tsv = get_project_dir() / \"tskit-pipeline/tests/test_dataset.tsv\"\n",
    "pop_lookup = add_populations(samples_tsv, samples)\n",
    "indv_lookup = add_diploid_individuals(samples_tsv, pop_lookup, samples)"
   ]
  },
  {
   "cell_type": "code",
   "execution_count": null,
   "metadata": {},
   "outputs": [],
   "source": []
  }
 ],
 "metadata": {
  "kernelspec": {
   "display_name": "Python 3 (ipykernel)",
   "language": "python",
   "name": "python3"
  },
  "language_info": {
   "codemirror_mode": {
    "name": "ipython",
    "version": 3
   },
   "file_extension": ".py",
   "mimetype": "text/x-python",
   "name": "python",
   "nbconvert_exporter": "python",
   "pygments_lexer": "ipython3",
   "version": "3.9.2"
  }
 },
 "nbformat": 4,
 "nbformat_minor": 2
}
