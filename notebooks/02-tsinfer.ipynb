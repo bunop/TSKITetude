{
 "cells": [
  {
   "cell_type": "markdown",
   "metadata": {},
   "source": [
    "# TSINFER tutorial\n",
    "Supposing to have phased haplotype data for five samples at six sites like this:\n",
    "\n",
    "```text\n",
    "sample  haplotype\n",
    "0       AGCGAT\n",
    "1       TGACAG\n",
    "2       AGACAC\n",
    "3       ACCGCT\n",
    "4       ACCGCT\n",
    "```\n",
    "\n",
    "Before to derive a `tstree` object that model these data, in need to import data\n",
    "with `tsinfer`: this requires to know the ancestral alleles first:"
   ]
  },
  {
   "cell_type": "code",
   "execution_count": null,
   "metadata": {},
   "outputs": [],
   "source": [
    "import string\n",
    "import numpy as np\n",
    "import tsinfer\n",
    "from tskit import MISSING_DATA\n",
    "\n",
    "with tsinfer.SampleData(sequence_length=6) as sample_data:\n",
    "    sample_data.add_site(0, [0, 1, 0, 0, 0], [\"A\", \"T\"], ancestral_allele=0)\n",
    "    sample_data.add_site(1, [0, 0, 0, 1, 1], [\"G\", \"C\"], ancestral_allele=0)\n",
    "    sample_data.add_site(2, [0, 1, 1, 0, 0], [\"C\", \"A\"], ancestral_allele=0)\n",
    "    sample_data.add_site(3, [0, 1, 1, 0, 0], [\"G\", \"C\"], ancestral_allele=MISSING_DATA)\n",
    "    sample_data.add_site(4, [0, 0, 0, 1, 1], [\"A\", \"C\"], ancestral_allele=0)\n",
    "    sample_data.add_site(5, [0, 1, 2, 0, 0], [\"T\", \"G\", \"C\"], ancestral_allele=0)"
   ]
  },
  {
   "cell_type": "markdown",
   "metadata": {},
   "source": [
    "`tsinfer.Sampledata` is the object required for inferring a `tstree` object. Using \n",
    "the `add_site()` method a can add information for each SNP respectively. The first\n",
    "argument is the *SNP position*: here for simplicity we track SNP in positional order\n",
    "but it can be any positive value (even float). The only requirement is that this \n",
    "position should be unique and added in increasing order. The 2nd argument is for \n",
    "the *genotypes* of each sample in this position: is and index of the allele I can \n",
    "find in the 3rd argument. If I have a missing data, I need to use the `tskit.MISSING_DATA`\n",
    "The last argument is the index of the ancestral allele. Not all the sites are used\n",
    "to infer the *tree* object: sites with missing data or ancestral alleles or sites with\n",
    "more than 2 genotypes are not considered by will be modeled in the resulting tree.\n",
    "Once we have the `SampleData` instance, we can infer a `tstree` object using\n",
    "`tsinfer.infer`:"
   ]
  },
  {
   "cell_type": "code",
   "execution_count": null,
   "metadata": {},
   "outputs": [],
   "source": [
    "ts = tsinfer.infer(sample_data)"
   ]
  },
  {
   "cell_type": "markdown",
   "metadata": {},
   "source": [
    "This `ts` object is a full *Tree Sequence* object:"
   ]
  },
  {
   "cell_type": "code",
   "execution_count": null,
   "metadata": {},
   "outputs": [],
   "source": [
    "ts"
   ]
  },
  {
   "cell_type": "markdown",
   "metadata": {},
   "source": [
    "This *Tree sequence* object can be analyzed as usual:"
   ]
  },
  {
   "cell_type": "code",
   "execution_count": null,
   "metadata": {},
   "outputs": [],
   "source": [
    "print(\"==Haplotypes==\")\n",
    "for sample_id, h in enumerate(ts.haplotypes()):\n",
    "    print(sample_id, h, sep=\"\\t\")\n",
    "ts.draw_svg(y_axis=True)"
   ]
  },
  {
   "cell_type": "markdown",
   "metadata": {},
   "source": [
    "If I understand correctly, `tsinfer` can impute missing data (check this). For the\n",
    "data I put, there's a *root* note with three *childs*: this is also known as *polytomy*.\n",
    "Every *internal* node represent an ancestral sequence, By default, the time of those\n",
    "nodes is not measured in years or generations, but is the frequency of the shared\n",
    "derived alleles on which the ancestral sequence is based. This is why the time is\n",
    "*uncalibrated* in the graph above."
   ]
  },
  {
   "cell_type": "code",
   "execution_count": null,
   "metadata": {},
   "outputs": [],
   "source": [
    "# Extra code to label and order the tips alphabetically rather than numerically\n",
    "labels = {i: string.ascii_lowercase[i] for i in range(ts.num_nodes)}\n",
    "genome_order = [n for n in ts.first().nodes(order=\"minlex_postorder\") if ts.node(n).is_sample()]\n",
    "labels.update({n: labels[i] for i, n in enumerate(genome_order)})\n",
    "style1 = (\n",
    "    \".node:not(.sample) > .sym, .node:not(.sample) > .lab {visibility: hidden;}\"\n",
    "    \".mut {font-size: 12px} .y-axis .tick .lab {font-size: 85%}\")\n",
    "sz = (800, 250)  # size of the plot, slightly larger than the default\n",
    "\n",
    "# ticks = [0, 5000, 10000, 15000, 20000]\n",
    "# get max generations time:\n",
    "max_time = ts.node(ts.get_num_nodes() - 1).time\n",
    "ticks = np.linspace(0, max_time, 5)\n",
    "ts.draw_svg(\n",
    "    size=sz, node_labels=labels, style=style1, y_label=\"Time ago (uncalibrated)\",\n",
    "    y_axis=True, y_ticks=ticks)"
   ]
  },
  {
   "cell_type": "code",
   "execution_count": null,
   "metadata": {},
   "outputs": [],
   "source": []
  }
 ],
 "metadata": {
  "kernelspec": {
   "display_name": "Python 3 (ipykernel)",
   "language": "python",
   "name": "python3"
  },
  "language_info": {
   "codemirror_mode": {
    "name": "ipython",
    "version": 3
   },
   "file_extension": ".py",
   "mimetype": "text/x-python",
   "name": "python",
   "nbconvert_exporter": "python",
   "pygments_lexer": "ipython3",
   "version": "3.9.2"
  }
 },
 "nbformat": 4,
 "nbformat_minor": 2
}
