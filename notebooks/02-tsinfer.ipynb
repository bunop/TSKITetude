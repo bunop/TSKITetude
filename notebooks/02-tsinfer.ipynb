{
 "cells": [
  {
   "cell_type": "markdown",
   "metadata": {},
   "source": [
    "# TSINFER tutorial"
   ]
  },
  {
   "cell_type": "code",
   "execution_count": null,
   "metadata": {},
   "outputs": [],
   "source": [
    "import string\n",
    "import numpy as np\n",
    "import tsinfer\n",
    "from tskit import MISSING_DATA\n",
    "\n",
    "with tsinfer.SampleData(sequence_length=6) as sample_data:\n",
    "    sample_data.add_site(0, [0, 1, 0, 0, 0], [\"A\", \"T\"], ancestral_allele=0)\n",
    "    sample_data.add_site(1, [0, 0, 0, 1, 1], [\"G\", \"C\"], ancestral_allele=0)\n",
    "    sample_data.add_site(2, [0, 1, 1, 0, 0], [\"C\", \"A\"], ancestral_allele=0)\n",
    "    sample_data.add_site(3, [0, 1, 1, 0, 0], [\"G\", \"C\"], ancestral_allele=MISSING_DATA)\n",
    "    sample_data.add_site(4, [0, 0, 0, 1, 1], [\"A\", \"C\"], ancestral_allele=0)\n",
    "    sample_data.add_site(5, [0, 1, 2, 0, 0], [\"T\", \"G\", \"C\"], ancestral_allele=0)"
   ]
  },
  {
   "cell_type": "code",
   "execution_count": null,
   "metadata": {},
   "outputs": [],
   "source": [
    "ts = tsinfer.infer(sample_data)"
   ]
  },
  {
   "cell_type": "code",
   "execution_count": null,
   "metadata": {},
   "outputs": [],
   "source": [
    "ts"
   ]
  },
  {
   "cell_type": "code",
   "execution_count": null,
   "metadata": {},
   "outputs": [],
   "source": [
    "first_tree = ts.first()\n",
    "print(\"Total branch length in first tree is\", first_tree.total_branch_length, ts.time_units)\n",
    "print(\"The first of\", ts.num_trees, \"trees is plotted below\")\n",
    "first_tree.draw_svg(y_axis=True)  # plot the tree: only useful for small trees"
   ]
  },
  {
   "cell_type": "code",
   "execution_count": null,
   "metadata": {},
   "outputs": [],
   "source": [
    "# Extra code to label and order the tips alphabetically rather than numerically\n",
    "labels = {i: string.ascii_lowercase[i] for i in range(ts.num_nodes)}\n",
    "genome_order = [n for n in ts.first().nodes(order=\"minlex_postorder\") if ts.node(n).is_sample()]\n",
    "labels.update({n: labels[i] for i, n in enumerate(genome_order)})\n",
    "style1 = (\n",
    "    \".node:not(.sample) > .sym, .node:not(.sample) > .lab {visibility: hidden;}\"\n",
    "    \".mut {font-size: 12px} .y-axis .tick .lab {font-size: 85%}\")\n",
    "sz = (800, 250)  # size of the plot, slightly larger than the default\n",
    "\n",
    "# ticks = [0, 5000, 10000, 15000, 20000]\n",
    "# get max generations time:\n",
    "max_time = ts.node(ts.get_num_nodes() - 1).time\n",
    "ticks = np.linspace(0, max_time, 5)\n",
    "ts.draw_svg(\n",
    "    size=sz, node_labels=labels, style=style1, y_label=\"Time ago\",\n",
    "    y_axis=True, y_ticks=ticks)"
   ]
  },
  {
   "cell_type": "code",
   "execution_count": null,
   "metadata": {},
   "outputs": [],
   "source": []
  }
 ],
 "metadata": {
  "kernelspec": {
   "display_name": "Python 3 (ipykernel)",
   "language": "python",
   "name": "python3"
  },
  "language_info": {
   "codemirror_mode": {
    "name": "ipython",
    "version": 3
   },
   "file_extension": ".py",
   "mimetype": "text/x-python",
   "name": "python",
   "nbconvert_exporter": "python",
   "pygments_lexer": "ipython3",
   "version": "3.9.2"
  }
 },
 "nbformat": 4,
 "nbformat_minor": 2
}
