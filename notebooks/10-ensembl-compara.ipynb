{
 "cells": [
  {
   "cell_type": "markdown",
   "metadata": {},
   "source": [
    "# Get ancient information from ensemble compara\n",
    "\n",
    "Try to collect ancient alleles from ensemble compara."
   ]
  },
  {
   "cell_type": "code",
   "execution_count": null,
   "metadata": {},
   "outputs": [],
   "source": [
    "from urllib.parse import urljoin\n",
    "from tqdm.notebook import tqdm\n",
    "import pandas as pd\n",
    "\n",
    "from ensemblrest import EnsemblRest\n",
    "from tskitetude.smarterapi import VariantsEndpoint\n",
    "from tskitetude.ensembl import ComparaSheepSNP"
   ]
  },
  {
   "cell_type": "markdown",
   "metadata": {},
   "source": [
    "If I want to recover the coordinates of old `OAR3` I need to connect to the compara\n",
    "archive:"
   ]
  },
  {
   "cell_type": "code",
   "execution_count": null,
   "metadata": {},
   "outputs": [],
   "source": [
    "base_url = 'https://nov2020.rest.ensembl.org'\n",
    "ensRest = EnsemblRest(base_url=base_url)\n",
    "session = ensRest.session"
   ]
  },
  {
   "cell_type": "markdown",
   "metadata": {},
   "source": [
    "Get information on assembly. Mind to the *top level coordinates*, which are the \n",
    "assembled chromosomes."
   ]
  },
  {
   "cell_type": "code",
   "execution_count": null,
   "metadata": {},
   "outputs": [],
   "source": [
    "data = ensRest.getInfoAssembly(species=\"ovis_aries\")\n",
    "chromosomes = pd.DataFrame(list(filter(lambda record: record['coord_system'] == \"chromosome\", data[\"top_level_region\"])))\n",
    "chromosomes.head()"
   ]
  },
  {
   "cell_type": "markdown",
   "metadata": {},
   "source": [
    "A simple test to collect alignments:"
   ]
  },
  {
   "cell_type": "code",
   "execution_count": null,
   "metadata": {},
   "outputs": [],
   "source": [
    "url = urljoin(base_url, \"alignment/region/ovis_aries/1:649900..650000\")\n",
    "params = [\n",
    "    ('method', 'EPO'),\n",
    "    ('species_set_group', 'mammals'),\n",
    "    ('display_species_set', 'ovis_aries'),\n",
    "    ('display_species_set', 'capra_hircus')\n",
    "]\n",
    "\n",
    "response = session.get(url, params=params)\n",
    "response.json()"
   ]
  },
  {
   "cell_type": "markdown",
   "metadata": {},
   "source": [
    "Ok, now try to collect some variant from 50K from the SMARTER API endpoint:"
   ]
  },
  {
   "cell_type": "code",
   "execution_count": null,
   "metadata": {},
   "outputs": [],
   "source": [
    "variant_api = VariantsEndpoint(species=\"Sheep\", assembly=\"OAR3\")\n",
    "\n",
    "region = \"1:1-5000000\"\n",
    "chip_name = \"IlluminaOvineSNP50\"\n",
    "\n",
    "data = variant_api.get_variants(chip_name=chip_name, region=region)\n",
    "page = page = data[\"page\"]\n",
    "variants = pd.json_normalize(data[\"items\"])\n",
    "\n",
    "while data[\"next\"] is not None:\n",
    "    data = variant_api.get_variants(chip_name=chip_name, region=region, page=page+1)\n",
    "    df_page = pd.json_normalize(data[\"items\"])\n",
    "    page = data[\"page\"]\n",
    "    variants = pd.concat([variants, df_page], ignore_index=True)\n",
    "\n",
    "variants.info()"
   ]
  },
  {
   "cell_type": "markdown",
   "metadata": {},
   "source": [
    "Get a sample of the positions of the selected variants:"
   ]
  },
  {
   "cell_type": "code",
   "execution_count": null,
   "metadata": {},
   "outputs": [],
   "source": [
    "variants[[\"rs_id\", \"locations.chrom\", \"locations.position\", \"locations.alleles\"]].head()"
   ]
  },
  {
   "cell_type": "markdown",
   "metadata": {},
   "source": [
    "Get an helper object to query ensemble compara:"
   ]
  },
  {
   "cell_type": "code",
   "execution_count": null,
   "metadata": {},
   "outputs": [],
   "source": [
    "compara = ComparaSheepSNP(base_url=base_url)"
   ]
  },
  {
   "cell_type": "markdown",
   "metadata": {},
   "source": [
    "Now try to collect ancestor alleles from alignments:"
   ]
  },
  {
   "cell_type": "code",
   "execution_count": null,
   "metadata": {},
   "outputs": [],
   "source": [
    "results = []\n",
    "for idx, variant in tqdm(variants.iterrows(), total=variants.shape[0]):\n",
    "    ancestor = compara.get_ancestor(chrom=variant[\"locations.chrom\"], position=variant[\"locations.position\"])\n",
    "    results.append(ancestor)"
   ]
  },
  {
   "cell_type": "markdown",
   "metadata": {},
   "source": [
    "Get only ancestor allele when an alignment is found:"
   ]
  },
  {
   "cell_type": "code",
   "execution_count": null,
   "metadata": {},
   "outputs": [],
   "source": [
    "ancestor_alleles = [None if result is None else result[\"seq\"] for result in results]"
   ]
  },
  {
   "cell_type": "markdown",
   "metadata": {},
   "source": [
    "Add ancestor allele to the variant dataframe:"
   ]
  },
  {
   "cell_type": "code",
   "execution_count": null,
   "metadata": {},
   "outputs": [],
   "source": [
    "variants[\"ancestor_alleles\"] = ancestor_alleles\n",
    "filtered_variants = variants[variants[\"ancestor_alleles\"].notna()]\n",
    "filtered_variants[[\"rs_id\", \"locations.chrom\", \"locations.position\", \"locations.alleles\", \"ancestor_alleles\"]].head()"
   ]
  },
  {
   "cell_type": "markdown",
   "metadata": {},
   "source": [
    "Please note that I can collect an ancestral allele which is not present in the alleles itself"
   ]
  },
  {
   "cell_type": "code",
   "execution_count": null,
   "metadata": {},
   "outputs": [],
   "source": []
  }
 ],
 "metadata": {
  "kernelspec": {
   "display_name": "Python 3 (ipykernel)",
   "language": "python",
   "name": "python3"
  },
  "language_info": {
   "codemirror_mode": {
    "name": "ipython",
    "version": 3
   },
   "file_extension": ".py",
   "mimetype": "text/x-python",
   "name": "python",
   "nbconvert_exporter": "python",
   "pygments_lexer": "ipython3",
   "version": "3.9.2"
  }
 },
 "nbformat": 4,
 "nbformat_minor": 2
}
