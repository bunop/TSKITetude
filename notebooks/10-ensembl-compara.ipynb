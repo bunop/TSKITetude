{
 "cells": [
  {
   "cell_type": "markdown",
   "metadata": {},
   "source": [
    "# Get ancient information from ensemble compara\n",
    "\n",
    "Try to collect ancient alleles from ensemble compara."
   ]
  },
  {
   "cell_type": "code",
   "execution_count": null,
   "metadata": {},
   "outputs": [],
   "source": [
    "from urllib.parse import urljoin\n",
    "import pandas as pd\n",
    "\n",
    "from ensemblrest import EnsemblRest"
   ]
  },
  {
   "cell_type": "markdown",
   "metadata": {},
   "source": [
    "If I want to recover the coordinates of old `OAR3` I need to connect to the compara\n",
    "archive:"
   ]
  },
  {
   "cell_type": "code",
   "execution_count": null,
   "metadata": {},
   "outputs": [],
   "source": [
    "base_url = 'https://nov2020.rest.ensembl.org'\n",
    "ensRest = EnsemblRest(base_url=base_url)\n",
    "session = ensRest.session"
   ]
  },
  {
   "cell_type": "markdown",
   "metadata": {},
   "source": [
    "Get information on assembly. Mind to the *top level coordinates*, which are the \n",
    "assembled chromosomes."
   ]
  },
  {
   "cell_type": "code",
   "execution_count": null,
   "metadata": {},
   "outputs": [],
   "source": [
    "data = ensRest.getInfoAssembly(species=\"ovis_aries\")\n",
    "chromosomes = pd.DataFrame(list(filter(lambda record: record['coord_system'] == \"chromosome\", data[\"top_level_region\"])))\n",
    "chromosomes.head()"
   ]
  },
  {
   "cell_type": "markdown",
   "metadata": {},
   "source": [
    "A simple test to collect alignments:"
   ]
  },
  {
   "cell_type": "code",
   "execution_count": null,
   "metadata": {},
   "outputs": [],
   "source": [
    "url = urljoin(base_url, \"alignment/region/ovis_aries/1:649900..650000\")\n",
    "params = [\n",
    "    ('method', 'EPO'),\n",
    "    ('species_set_group', 'mammals'),\n",
    "    ('display_species_set', 'ovis_aries'),\n",
    "    ('display_species_set', 'capra_hircus')\n",
    "]\n",
    "\n",
    "response = session.get(url, params=params)\n",
    "response.json()\n"
   ]
  },
  {
   "cell_type": "code",
   "execution_count": null,
   "metadata": {},
   "outputs": [],
   "source": []
  }
 ],
 "metadata": {
  "kernelspec": {
   "display_name": "Python 3 (ipykernel)",
   "language": "python",
   "name": "python3"
  },
  "language_info": {
   "codemirror_mode": {
    "name": "ipython",
    "version": 3
   },
   "file_extension": ".py",
   "mimetype": "text/x-python",
   "name": "python",
   "nbconvert_exporter": "python",
   "pygments_lexer": "ipython3",
   "version": "3.9.2"
  }
 },
 "nbformat": 4,
 "nbformat_minor": 2
}
