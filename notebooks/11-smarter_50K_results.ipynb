{
 "cells": [
  {
   "cell_type": "markdown",
   "metadata": {},
   "source": [
    "# 50K simulations results\n",
    "\n",
    "Let's test the 50K simulations results:"
   ]
  },
  {
   "cell_type": "code",
   "execution_count": null,
   "metadata": {},
   "outputs": [],
   "source": [
    "from pathlib import Path\n",
    "from collections import defaultdict\n",
    "\n",
    "import tskit\n",
    "import numpy as np\n",
    "import pandas as pd\n",
    "import seaborn as sns\n",
    "import matplotlib.pyplot as plt\n",
    "\n",
    "from tskitetude import get_project_dir"
   ]
  },
  {
   "cell_type": "markdown",
   "metadata": {},
   "source": [
    "Let's declare some stuff"
   ]
  },
  {
   "cell_type": "code",
   "execution_count": null,
   "metadata": {},
   "outputs": [],
   "source": [
    "repeats = 5\n",
    "breed_size = [1, 2, 5, 10, 15, 20]\n",
    "simulation = \"50K_simulations\"\n",
    "reference_prefix = \"results-reference\"\n",
    "compara_prefix = \"results-compara\"\n",
    "chromosome = \"26\""
   ]
  },
  {
   "cell_type": "code",
   "execution_count": null,
   "metadata": {},
   "outputs": [],
   "source": [
    "def collect_stats(results_prefix, simulation, chromosome, breed_size, repeats):\n",
    "\n",
    "    data = defaultdict(list)\n",
    "    prefix = get_project_dir() / results_prefix / simulation\n",
    "\n",
    "    for i in breed_size:\n",
    "\n",
    "        for j in range(repeats):\n",
    "            run = f\"{i}_breeds-{j}-50K\"\n",
    "            filename = prefix / run / \"tsinfer\" / f\"SMARTER-OA-OAR3-forward-0.4.10-50K.focal.{chromosome}.trees\"\n",
    "\n",
    "            if not  filename.exists():\n",
    "                print(f\"File {filename} does not exist\")\n",
    "                continue\n",
    "\n",
    "            ts = tskit.load(filename)\n",
    "\n",
    "            # track some stats for tree object\n",
    "            data[\"breeds\"] += [i]\n",
    "            data[\"repeat\"] += [j]\n",
    "            data[\"filename\"] += [filename]\n",
    "            data[\"sites\"] += [ts.num_sites]\n",
    "            data[\"trees\"] += [ts.num_trees]\n",
    "            data[\"edges\"] += [ts.num_edges]\n",
    "            data[\"individuals\"] += [ts.num_individuals]\n",
    "            data[\"samples\"] += [ts.num_samples]\n",
    "            data[\"mutations\"] += [ts.num_mutations]\n",
    "            data[\"nodes\"] += [ts.num_nodes]\n",
    "            data[\"populations\"] += [ts.num_populations]\n",
    "\n",
    "    return pd.DataFrame(data)"
   ]
  },
  {
   "cell_type": "markdown",
   "metadata": {},
   "source": [
    "Read data from reference simulations:"
   ]
  },
  {
   "cell_type": "code",
   "execution_count": null,
   "metadata": {},
   "outputs": [],
   "source": [
    "reference = collect_stats(reference_prefix, simulation, chromosome, breed_size, repeats)\n",
    "reference.head()"
   ]
  },
  {
   "cell_type": "markdown",
   "metadata": {},
   "source": [
    "Collect stats for compara:"
   ]
  },
  {
   "cell_type": "code",
   "execution_count": null,
   "metadata": {},
   "outputs": [],
   "source": [
    "compara = collect_stats(compara_prefix, simulation, chromosome, breed_size, repeats)\n",
    "compara.head()"
   ]
  },
  {
   "cell_type": "code",
   "execution_count": null,
   "metadata": {},
   "outputs": [],
   "source": [
    "sns.pairplot(reference[reference.columns.difference(['repeat'])], hue=\"breeds\", palette=\"viridis\")"
   ]
  },
  {
   "cell_type": "code",
   "execution_count": null,
   "metadata": {},
   "outputs": [],
   "source": [
    "sns.pairplot(compara[compara.columns.difference([\"repeat\"])], hue=\"breeds\", palette=\"viridis\")"
   ]
  },
  {
   "cell_type": "markdown",
   "metadata": {},
   "source": [
    "It seems that the number of mutation is higher using the *compara* approach instead of the *reference* approach. Let's\n",
    "try to model the number of mutations relying on the numer or samples. Try to fit a linear model using `sns.regplot`:"
   ]
  },
  {
   "cell_type": "code",
   "execution_count": null,
   "metadata": {},
   "outputs": [],
   "source": [
    "sns.regplot(data=compara, x=\"samples\", y=\"mutations\", ci=95)"
   ]
  },
  {
   "cell_type": "markdown",
   "metadata": {},
   "source": [
    "Try to fit a 2nd degree polynomial model using `np.polyfit`:"
   ]
  },
  {
   "cell_type": "code",
   "execution_count": null,
   "metadata": {},
   "outputs": [],
   "source": [
    "# fit a polynomial to the data\n",
    "coeffs = np.polyfit(compara['samples'], compara['mutations'], 2)\n",
    "poly = np.poly1d(coeffs)\n",
    "\n",
    "# generate values for x and y\n",
    "x_vals = np.linspace(compara['samples'].min(), compara['samples'].max(), 100)\n",
    "y_vals = poly(x_vals)\n",
    "\n",
    "# calculate residuals\n",
    "y_fit = poly(compara['samples'])\n",
    "residuals = compara['mutations'] - y_fit\n",
    "std_residuals = np.std(residuals)\n",
    "\n",
    "# calculate R^2\n",
    "ss_res = np.sum(residuals**2)\n",
    "ss_tot = np.sum((compara['mutations'] - np.mean(compara['mutations']))**2)\n",
    "r2 = 1 - (ss_res / ss_tot)\n",
    "\n",
    "# plot the data\n",
    "plt.figure(figsize=(10, 6))\n",
    "plt.scatter(compara['samples'], compara['mutations'], label='Data')\n",
    "plt.plot(x_vals, y_vals, color='red', label='fitted polynomial')\n",
    "plt.fill_between(x_vals, y_vals - std_residuals, y_vals + std_residuals, color='red', alpha=0.2, label='Error')\n",
    "\n",
    "# add formula to the plot\n",
    "formula = f'$y = {coeffs[0]:.2f}x^2 + {coeffs[1]:.2f}x + {coeffs[2]:.2f}$'\n",
    "r2_text = f'$R^2 = {r2:.2f}$'\n",
    "plt.text(0.05, 0.95, formula, transform=plt.gca().transAxes, fontsize=12, verticalalignment='top')\n",
    "plt.text(0.05, 0.90, r2_text, transform=plt.gca().transAxes, fontsize=12, verticalalignment='top')\n",
    "\n",
    "# Add labels and title\n",
    "plt.xlabel('samples')\n",
    "plt.ylabel('mutations')\n",
    "plt.title('Samples Vs Mutations')\n",
    "plt.legend(loc='lower right')\n",
    "\n",
    "# Show the plot\n",
    "plt.show()"
   ]
  },
  {
   "cell_type": "code",
   "execution_count": null,
   "metadata": {},
   "outputs": [],
   "source": []
  }
 ],
 "metadata": {
  "kernelspec": {
   "display_name": "Python 3 (ipykernel)",
   "language": "python",
   "name": "python3"
  },
  "language_info": {
   "codemirror_mode": {
    "name": "ipython",
    "version": 3
   },
   "file_extension": ".py",
   "mimetype": "text/x-python",
   "name": "python",
   "nbconvert_exporter": "python",
   "pygments_lexer": "ipython3",
   "version": "3.9.16"
  }
 },
 "nbformat": 4,
 "nbformat_minor": 2
}
