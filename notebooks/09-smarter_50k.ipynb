{
 "cells": [
  {
   "cell_type": "markdown",
   "metadata": {},
   "source": [
    "# SMARTER 50K\n",
    "\n",
    "This is an attempt to test tstree with different 50K data. A single example of\n",
    "50 samples is described in `notebooks/03-smarter_database.ipynb`. Here we want\n",
    "to select different breeds from 50K and test how the tstree will results"
   ]
  },
  {
   "cell_type": "code",
   "execution_count": null,
   "metadata": {},
   "outputs": [],
   "source": [
    "import pandas as pd\n",
    "import seaborn as sns\n",
    "import matplotlib.pyplot as plt\n",
    "\n",
    "from tskitetude import get_data_dir\n",
    "from tskitetude.smarterapi import SheepEndpoint"
   ]
  },
  {
   "cell_type": "markdown",
   "metadata": {},
   "source": [
    "Collect all sheep samples from 50K:"
   ]
  },
  {
   "cell_type": "code",
   "execution_count": null,
   "metadata": {},
   "outputs": [],
   "source": [
    "sheep_api = SheepEndpoint()\n",
    "\n",
    "data = sheep_api.get_samples(chip_name=\"IlluminaOvineSNP50\")\n",
    "page = page = data[\"page\"]\n",
    "sheep = pd.DataFrame(data[\"items\"])\n",
    "\n",
    "while data[\"next\"] is not None:\n",
    "    data = sheep_api.get_samples(page=page+1, _type=\"background\")\n",
    "    df_page = pd.DataFrame(data[\"items\"])\n",
    "    page = data[\"page\"]\n",
    "    sheep = pd.concat([sheep, df_page], ignore_index=True)\n",
    "\n",
    "sheep.info()"
   ]
  },
  {
   "cell_type": "markdown",
   "metadata": {},
   "source": [
    "Count how many samples I have by breed:"
   ]
  },
  {
   "cell_type": "code",
   "execution_count": null,
   "metadata": {},
   "outputs": [],
   "source": [
    "sheep_count = sheep.groupby('breed_code').size().reset_index(name='count')\n",
    "sheep_count"
   ]
  },
  {
   "cell_type": "markdown",
   "metadata": {},
   "source": [
    "Plot count distribution:"
   ]
  },
  {
   "cell_type": "code",
   "execution_count": null,
   "metadata": {},
   "outputs": [],
   "source": [
    "fig, ax = plt.subplots(figsize=(12, 6))\n",
    "sns.histplot(data=sheep_count, x='count', kde=True, binwidth=10, ax=ax)\n",
    "plt.show()"
   ]
  },
  {
   "cell_type": "markdown",
   "metadata": {},
   "source": [
    "The majority of the breed have <= 50 samples:"
   ]
  },
  {
   "cell_type": "code",
   "execution_count": null,
   "metadata": {},
   "outputs": [],
   "source": [
    "print(f\"There are {sheep_count[sheep_count['count'] < 50]['count'].sum()} sheep with equal or less than 50 samples.\")"
   ]
  },
  {
   "cell_type": "markdown",
   "metadata": {},
   "source": []
  }
 ],
 "metadata": {
  "kernelspec": {
   "display_name": "Python 3 (ipykernel)",
   "language": "python",
   "name": "python3"
  },
  "language_info": {
   "codemirror_mode": {
    "name": "ipython",
    "version": 3
   },
   "file_extension": ".py",
   "mimetype": "text/x-python",
   "name": "python",
   "nbconvert_exporter": "python",
   "pygments_lexer": "ipython3",
   "version": "3.9.2"
  }
 },
 "nbformat": 4,
 "nbformat_minor": 2
}
