{
 "cells": [
  {
   "cell_type": "markdown",
   "metadata": {},
   "source": [
    "# Nucleotide diversity\n",
    "\n",
    "## Using REF as ancestral alleles\n",
    "\n",
    "We are wondering how the ancestral allele inference effect the final treesequence object.\n",
    "We are testing a *tstree* object created by imposing the reference allele as the \n",
    "ancestral allele. The effect is that there are more or less the same mutations as the\n",
    "number of variants (while in the case of the ancestrall allele calculated with \n",
    "`est-sfs` we can see million of mutations). Let's start by loading data for this\n",
    "*REF-based* treeseq object"
   ]
  },
  {
   "cell_type": "code",
   "execution_count": 1,
   "metadata": {},
   "outputs": [],
   "source": [
    "import pandas as pd\n",
    "import numpy as np\n",
    "import matplotlib.pyplot as plt\n",
    "\n",
    "import tskit\n",
    "\n",
    "from tskitetude import get_project_dir\n",
    "from tskitetude.helper import create_windows"
   ]
  },
  {
   "cell_type": "code",
   "execution_count": 2,
   "metadata": {},
   "outputs": [
    {
     "data": {
      "text/html": [
       "\n",
       "            <div>\n",
       "              <style>\n",
       "                .tskit-table thead tr th {text-align: left;padding: 0.5em 0.5em;}\n",
       "                .tskit-table tbody tr td {padding: 0.5em 0.5em;}\n",
       "                .tskit-table tbody tr td:first-of-type {text-align: left;}\n",
       "                .tskit-details-label {vertical-align: top; padding-right:5px;}\n",
       "                .tskit-table-set {display: inline-flex;flex-wrap: wrap;margin: -12px 0 0 -12px;width: calc(100% + 12px);}\n",
       "                .tskit-table-set-table {margin: 12px 0 0 12px;}\n",
       "                details {display: inline-block;}\n",
       "                summary {cursor: pointer; outline: 0; display: list-item;}\n",
       "              </style>\n",
       "              <div class=\"tskit-table-set\">\n",
       "                <div class=\"tskit-table-set-table\">\n",
       "                  <table class=\"tskit-table\">\n",
       "                    <thead>\n",
       "                      <tr>\n",
       "                        <th style=\"padding:0;line-height:21px;\">\n",
       "                          <img style=\"height: 32px;display: inline-block;padding: 3px 5px 3px 0;\" src=\"https://raw.githubusercontent.com/tskit-dev/administrative/main/tskit_logo.svg\"/>\n",
       "                          <a target=\"_blank\" href=\"https://tskit.dev/tskit/docs/latest/python-api.html#the-treesequence-class\"> Tree Sequence </a>\n",
       "                        </th>\n",
       "                      </tr>\n",
       "                    </thead>\n",
       "                    <tbody>\n",
       "                      <tr><td>Trees</td><td>659</td></tr>\n",
       "                      <tr><td>Sequence Length</td><td>44077779.0</td></tr>\n",
       "                      <tr><td>Time Units</td><td>generations</td></tr>\n",
       "                      <tr><td>Sample Nodes</td><td>11478</td></tr>\n",
       "                      <tr><td>Total Size</td><td>93.1 MiB</td></tr>\n",
       "                      <tr>\n",
       "                        <td>Metadata</td><td style=\"text-align: left;\">\n",
       "                <div>\n",
       "                  <span class=\"tskit-details-label\"></span>\n",
       "                  <details open>\n",
       "                    <summary>dict</summary>\n",
       "                    \n",
       "                  </details>\n",
       "                </div>\n",
       "                </td></tr>\n",
       "                    </tbody>\n",
       "                  </table>\n",
       "                </div>\n",
       "                <div class=\"tskit-table-set-table\">\n",
       "                  <table class=\"tskit-table\">\n",
       "                    <thead>\n",
       "                      <tr>\n",
       "                        <th style=\"line-height:21px;\">Table</th>\n",
       "                        <th>Rows</th>\n",
       "                        <th>Size</th>\n",
       "                        <th>Has Metadata</th>\n",
       "                      </tr>\n",
       "                    </thead>\n",
       "                    <tbody>\n",
       "                    \n",
       "                  <tr>\n",
       "                    <td>Edges</td>\n",
       "                      <td>2399964</td>\n",
       "                      <td>73.2 MiB</td>\n",
       "                      <td style=\"text-align: center;\">\n",
       "                        \n",
       "                      </td>\n",
       "                    </tr>\n",
       "                \n",
       "                  <tr>\n",
       "                    <td>Individuals</td>\n",
       "                      <td>5739</td>\n",
       "                      <td>353.1 KiB</td>\n",
       "                      <td style=\"text-align: center;\">\n",
       "                        ✅\n",
       "                      </td>\n",
       "                    </tr>\n",
       "                \n",
       "                  <tr>\n",
       "                    <td>Migrations</td>\n",
       "                      <td>0</td>\n",
       "                      <td>8 Bytes</td>\n",
       "                      <td style=\"text-align: center;\">\n",
       "                        \n",
       "                      </td>\n",
       "                    </tr>\n",
       "                \n",
       "                  <tr>\n",
       "                    <td>Mutations</td>\n",
       "                      <td>657</td>\n",
       "                      <td>23.8 KiB</td>\n",
       "                      <td style=\"text-align: center;\">\n",
       "                        \n",
       "                      </td>\n",
       "                    </tr>\n",
       "                \n",
       "                  <tr>\n",
       "                    <td>Nodes</td>\n",
       "                      <td>21910</td>\n",
       "                      <td>1.1 MiB</td>\n",
       "                      <td style=\"text-align: center;\">\n",
       "                        ✅\n",
       "                      </td>\n",
       "                    </tr>\n",
       "                \n",
       "                  <tr>\n",
       "                    <td>Populations</td>\n",
       "                      <td>202</td>\n",
       "                      <td>4.7 KiB</td>\n",
       "                      <td style=\"text-align: center;\">\n",
       "                        ✅\n",
       "                      </td>\n",
       "                    </tr>\n",
       "                \n",
       "                  <tr>\n",
       "                    <td>Provenances</td>\n",
       "                      <td>4</td>\n",
       "                      <td>2.3 KiB</td>\n",
       "                      <td style=\"text-align: center;\">\n",
       "                        \n",
       "                      </td>\n",
       "                    </tr>\n",
       "                \n",
       "                  <tr>\n",
       "                    <td>Sites</td>\n",
       "                      <td>657</td>\n",
       "                      <td>32.7 KiB</td>\n",
       "                      <td style=\"text-align: center;\">\n",
       "                        ✅\n",
       "                      </td>\n",
       "                    </tr>\n",
       "                \n",
       "                    </tbody>\n",
       "                  </table>\n",
       "                </div>\n",
       "              </div>\n",
       "            </div>\n",
       "            "
      ],
      "text/plain": [
       "<tskit.trees.TreeSequence at 0x7fa934292040>"
      ]
     },
     "execution_count": 2,
     "metadata": {},
     "output_type": "execute_result"
    }
   ],
   "source": [
    "ts_reference = tskit.load(str(get_project_dir() / \"results-reference/background_samples/tsinfer/SMARTER-OA-OAR3-forward-0.4.10.focal.26.trees\"))\n",
    "ts_reference"
   ]
  },
  {
   "cell_type": "markdown",
   "metadata": {},
   "source": [
    "I need to calculate nucleotide diversity *per site*. The only way to do this seems\n",
    "to be calculating windows containing the SNPs an then calculating the nucleotide\n",
    "diversity with the `tskit.TreeSequence.diversity` function. I've created a function\n",
    "`create_windows` in `helper` module:"
   ]
  },
  {
   "cell_type": "code",
   "execution_count": 3,
   "metadata": {},
   "outputs": [
    {
     "data": {
      "text/plain": [
       "array([0.42888107, 0.48993439, 0.49405594, 0.2701865 , 0.45915964,\n",
       "       0.24879865, 0.14893215, 0.39075449, 0.46029766, 0.48983504])"
      ]
     },
     "execution_count": 3,
     "metadata": {},
     "output_type": "execute_result"
    }
   ],
   "source": [
    "# the last index is a simply a 2 step starting from position 1\n",
    "reference_diversity = ts_reference.diversity(windows=create_windows(ts_reference))[1::2]\n",
    "reference_diversity[:10]"
   ]
  },
  {
   "cell_type": "markdown",
   "metadata": {},
   "source": [
    "Now let's compare the nucleotide diversity calculated using vcftools: here's the \n",
    "command line to calculate nucleotide diversity *per site*:\n",
    "\n",
    "```bash\n",
    "cd results-reference/background_samples/focal\n",
    "vcftools --gzvcf SMARTER-OA-OAR3-forward-0.4.10.focal.26.vcf.gz --out allsamples_pi --site-pi\n",
    "```\n",
    "\n",
    "The `allsamples_pi.sites.pi` is a *TSV* file with the positions and the nucleotide diversity. Read it with pandas:"
   ]
  },
  {
   "cell_type": "code",
   "execution_count": 4,
   "metadata": {},
   "outputs": [
    {
     "data": {
      "text/html": [
       "<div>\n",
       "<style scoped>\n",
       "    .dataframe tbody tr th:only-of-type {\n",
       "        vertical-align: middle;\n",
       "    }\n",
       "\n",
       "    .dataframe tbody tr th {\n",
       "        vertical-align: top;\n",
       "    }\n",
       "\n",
       "    .dataframe thead th {\n",
       "        text-align: right;\n",
       "    }\n",
       "</style>\n",
       "<table border=\"1\" class=\"dataframe\">\n",
       "  <thead>\n",
       "    <tr style=\"text-align: right;\">\n",
       "      <th></th>\n",
       "      <th>CHROM</th>\n",
       "      <th>POS</th>\n",
       "      <th>PI</th>\n",
       "    </tr>\n",
       "  </thead>\n",
       "  <tbody>\n",
       "    <tr>\n",
       "      <th>0</th>\n",
       "      <td>26</td>\n",
       "      <td>209049</td>\n",
       "      <td>0.428881</td>\n",
       "    </tr>\n",
       "    <tr>\n",
       "      <th>1</th>\n",
       "      <td>26</td>\n",
       "      <td>268822</td>\n",
       "      <td>0.489934</td>\n",
       "    </tr>\n",
       "    <tr>\n",
       "      <th>2</th>\n",
       "      <td>26</td>\n",
       "      <td>285471</td>\n",
       "      <td>0.494056</td>\n",
       "    </tr>\n",
       "    <tr>\n",
       "      <th>3</th>\n",
       "      <td>26</td>\n",
       "      <td>405330</td>\n",
       "      <td>0.270187</td>\n",
       "    </tr>\n",
       "    <tr>\n",
       "      <th>4</th>\n",
       "      <td>26</td>\n",
       "      <td>528308</td>\n",
       "      <td>0.459160</td>\n",
       "    </tr>\n",
       "  </tbody>\n",
       "</table>\n",
       "</div>"
      ],
      "text/plain": [
       "   CHROM     POS        PI\n",
       "0     26  209049  0.428881\n",
       "1     26  268822  0.489934\n",
       "2     26  285471  0.494056\n",
       "3     26  405330  0.270187\n",
       "4     26  528308  0.459160"
      ]
     },
     "execution_count": 4,
     "metadata": {},
     "output_type": "execute_result"
    }
   ],
   "source": [
    "vcftools_diversity = pd.read_csv(get_project_dir() / \"results-reference/background_samples/focal/allsamples_pi.sites.pi\", sep=\"\\t\")\n",
    "vcftools_diversity.head()"
   ]
  },
  {
   "cell_type": "markdown",
   "metadata": {},
   "source": [
    "Are this values similar?"
   ]
  },
  {
   "cell_type": "code",
   "execution_count": 5,
   "metadata": {},
   "outputs": [
    {
     "data": {
      "text/plain": [
       "True"
      ]
     },
     "execution_count": 5,
     "metadata": {},
     "output_type": "execute_result"
    }
   ],
   "source": [
    "np.isclose(reference_diversity, vcftools_diversity[\"PI\"], atol=1e-6).all()"
   ]
  },
  {
   "cell_type": "markdown",
   "metadata": {},
   "source": [
    "Calculate diversity using *branch*:"
   ]
  },
  {
   "cell_type": "code",
   "execution_count": 6,
   "metadata": {},
   "outputs": [
    {
     "data": {
      "text/plain": [
       "array([26.34394592, 60.60212185, 21.00527885, 19.92243044, 25.48782386,\n",
       "       17.64541918, 32.80104135, 16.381481  , 51.06145221, 89.23446712])"
      ]
     },
     "execution_count": 6,
     "metadata": {},
     "output_type": "execute_result"
    }
   ],
   "source": [
    "# the last index is a simply a 2 step starting from position 1\n",
    "reference_diversity_branch = ts_reference.diversity(mode='branch', windows=create_windows(ts_reference))[1::2]\n",
    "reference_diversity_branch[:10]"
   ]
  },
  {
   "cell_type": "markdown",
   "metadata": {},
   "source": [
    "Try to plot the tow different diversities with vcftools output:"
   ]
  },
  {
   "cell_type": "code",
   "execution_count": 7,
   "metadata": {},
   "outputs": [
    {
     "data": {
      "text/plain": [
       "<matplotlib.collections.PathCollection at 0x7fa8ca7c42e0>"
      ]
     },
     "execution_count": 7,
     "metadata": {},
     "output_type": "execute_result"
    },
    {
     "data": {
      "image/png": "[encoded data removed]",
      "text/plain": [
       "<Figure size 640x480 with 1 Axes>"
      ]
     },
     "metadata": {},
     "output_type": "display_data"
    }
   ],
   "source": [
    "plt.scatter(reference_diversity, vcftools_diversity[\"PI\"])"
   ]
  },
  {
   "cell_type": "code",
   "execution_count": 8,
   "metadata": {},
   "outputs": [
    {
     "data": {
      "text/plain": [
       "(0.0, 1000.0)"
      ]
     },
     "execution_count": 8,
     "metadata": {},
     "output_type": "execute_result"
    },
    {
     "data": {
      "image/png": "[encoded data removed]",
      "text/plain": [
       "<Figure size 640x480 with 1 Axes>"
      ]
     },
     "metadata": {},
     "output_type": "display_data"
    }
   ],
   "source": [
    "plt.scatter(reference_diversity_branch, vcftools_diversity[\"PI\"])\n",
    "plt.xlim(0, 1000)"
   ]
  },
  {
   "cell_type": "markdown",
   "metadata": {},
   "source": [
    "## EST-SFS output as ancestral alleles\n",
    "\n",
    "Can we calculate nucleotide diversity using the *tree files* generated by the pipeline\n",
    "using the `est-sfs` output as ancestral alleles?"
   ]
  },
  {
   "cell_type": "code",
   "execution_count": 9,
   "metadata": {},
   "outputs": [
    {
     "data": {
      "text/html": [
       "\n",
       "            <div>\n",
       "              <style>\n",
       "                .tskit-table thead tr th {text-align: left;padding: 0.5em 0.5em;}\n",
       "                .tskit-table tbody tr td {padding: 0.5em 0.5em;}\n",
       "                .tskit-table tbody tr td:first-of-type {text-align: left;}\n",
       "                .tskit-details-label {vertical-align: top; padding-right:5px;}\n",
       "                .tskit-table-set {display: inline-flex;flex-wrap: wrap;margin: -12px 0 0 -12px;width: calc(100% + 12px);}\n",
       "                .tskit-table-set-table {margin: 12px 0 0 12px;}\n",
       "                details {display: inline-block;}\n",
       "                summary {cursor: pointer; outline: 0; display: list-item;}\n",
       "              </style>\n",
       "              <div class=\"tskit-table-set\">\n",
       "                <div class=\"tskit-table-set-table\">\n",
       "                  <table class=\"tskit-table\">\n",
       "                    <thead>\n",
       "                      <tr>\n",
       "                        <th style=\"padding:0;line-height:21px;\">\n",
       "                          <img style=\"height: 32px;display: inline-block;padding: 3px 5px 3px 0;\" src=\"https://raw.githubusercontent.com/tskit-dev/administrative/main/tskit_logo.svg\"/>\n",
       "                          <a target=\"_blank\" href=\"https://tskit.dev/tskit/docs/latest/python-api.html#the-treesequence-class\"> Tree Sequence </a>\n",
       "                        </th>\n",
       "                      </tr>\n",
       "                    </thead>\n",
       "                    <tbody>\n",
       "                      <tr><td>Trees</td><td>549</td></tr>\n",
       "                      <tr><td>Sequence Length</td><td>44077779.0</td></tr>\n",
       "                      <tr><td>Time Units</td><td>generations</td></tr>\n",
       "                      <tr><td>Sample Nodes</td><td>11478</td></tr>\n",
       "                      <tr><td>Total Size</td><td>83.3 MiB</td></tr>\n",
       "                      <tr>\n",
       "                        <td>Metadata</td><td style=\"text-align: left;\">\n",
       "                <div>\n",
       "                  <span class=\"tskit-details-label\"></span>\n",
       "                  <details open>\n",
       "                    <summary>dict</summary>\n",
       "                    \n",
       "                  </details>\n",
       "                </div>\n",
       "                </td></tr>\n",
       "                    </tbody>\n",
       "                  </table>\n",
       "                </div>\n",
       "                <div class=\"tskit-table-set-table\">\n",
       "                  <table class=\"tskit-table\">\n",
       "                    <thead>\n",
       "                      <tr>\n",
       "                        <th style=\"line-height:21px;\">Table</th>\n",
       "                        <th>Rows</th>\n",
       "                        <th>Size</th>\n",
       "                        <th>Has Metadata</th>\n",
       "                      </tr>\n",
       "                    </thead>\n",
       "                    <tbody>\n",
       "                    \n",
       "                  <tr>\n",
       "                    <td>Edges</td>\n",
       "                      <td>1885493</td>\n",
       "                      <td>57.5 MiB</td>\n",
       "                      <td style=\"text-align: center;\">\n",
       "                        \n",
       "                      </td>\n",
       "                    </tr>\n",
       "                \n",
       "                  <tr>\n",
       "                    <td>Individuals</td>\n",
       "                      <td>5739</td>\n",
       "                      <td>353.1 KiB</td>\n",
       "                      <td style=\"text-align: center;\">\n",
       "                        ✅\n",
       "                      </td>\n",
       "                    </tr>\n",
       "                \n",
       "                  <tr>\n",
       "                    <td>Migrations</td>\n",
       "                      <td>0</td>\n",
       "                      <td>8 Bytes</td>\n",
       "                      <td style=\"text-align: center;\">\n",
       "                        \n",
       "                      </td>\n",
       "                    </tr>\n",
       "                \n",
       "                  <tr>\n",
       "                    <td>Mutations</td>\n",
       "                      <td>285079</td>\n",
       "                      <td>10.1 MiB</td>\n",
       "                      <td style=\"text-align: center;\">\n",
       "                        \n",
       "                      </td>\n",
       "                    </tr>\n",
       "                \n",
       "                  <tr>\n",
       "                    <td>Nodes</td>\n",
       "                      <td>19321</td>\n",
       "                      <td>919.6 KiB</td>\n",
       "                      <td style=\"text-align: center;\">\n",
       "                        ✅\n",
       "                      </td>\n",
       "                    </tr>\n",
       "                \n",
       "                  <tr>\n",
       "                    <td>Populations</td>\n",
       "                      <td>202</td>\n",
       "                      <td>4.7 KiB</td>\n",
       "                      <td style=\"text-align: center;\">\n",
       "                        ✅\n",
       "                      </td>\n",
       "                    </tr>\n",
       "                \n",
       "                  <tr>\n",
       "                    <td>Provenances</td>\n",
       "                      <td>4</td>\n",
       "                      <td>2.3 KiB</td>\n",
       "                      <td style=\"text-align: center;\">\n",
       "                        \n",
       "                      </td>\n",
       "                    </tr>\n",
       "                \n",
       "                  <tr>\n",
       "                    <td>Sites</td>\n",
       "                      <td>657</td>\n",
       "                      <td>33.3 KiB</td>\n",
       "                      <td style=\"text-align: center;\">\n",
       "                        ✅\n",
       "                      </td>\n",
       "                    </tr>\n",
       "                \n",
       "                    </tbody>\n",
       "                  </table>\n",
       "                </div>\n",
       "              </div>\n",
       "            </div>\n",
       "            "
      ],
      "text/plain": [
       "<tskit.trees.TreeSequence at 0x7fa8cb4a9fd0>"
      ]
     },
     "execution_count": 9,
     "metadata": {},
     "output_type": "execute_result"
    }
   ],
   "source": [
    "ts_estsfs = tskit.load(str(get_project_dir() / \"results-estsfs/background_samples/tsinfer/SMARTER-OA-OAR3-forward-0.4.10.focal.26.trees\"))\n",
    "ts_estsfs"
   ]
  },
  {
   "cell_type": "markdown",
   "metadata": {},
   "source": [
    "Same stuff as before"
   ]
  },
  {
   "cell_type": "code",
   "execution_count": 10,
   "metadata": {},
   "outputs": [
    {
     "data": {
      "text/plain": [
       "array([0.42888107, 0.48993439, 0.49405594, 0.2701865 , 0.45915964,\n",
       "       0.24879865, 0.14893215, 0.39075449, 0.46029766, 0.48983504])"
      ]
     },
     "execution_count": 10,
     "metadata": {},
     "output_type": "execute_result"
    }
   ],
   "source": [
    "# the last index is a simply a 2 step starting from position 1\n",
    "estsfs_diversity = ts_estsfs.diversity(windows=create_windows(ts_estsfs))[1::2]\n",
    "estsfs_diversity[:10]"
   ]
  },
  {
   "cell_type": "markdown",
   "metadata": {},
   "source": [
    "Are this values similar to the values calculated using VCFtools?"
   ]
  },
  {
   "cell_type": "code",
   "execution_count": 11,
   "metadata": {},
   "outputs": [
    {
     "data": {
      "text/plain": [
       "True"
      ]
     },
     "execution_count": 11,
     "metadata": {},
     "output_type": "execute_result"
    }
   ],
   "source": [
    "np.isclose(estsfs_diversity, vcftools_diversity[\"PI\"], atol=1e-6).all()"
   ]
  },
  {
   "cell_type": "markdown",
   "metadata": {},
   "source": [
    "So *nucleotide diversity* is the same in both cases (using the REF as ancestral allele and using the `est-sfs` output as ancestral allele). Calculate diversity using *branch*:"
   ]
  },
  {
   "cell_type": "code",
   "execution_count": 12,
   "metadata": {},
   "outputs": [
    {
     "data": {
      "text/plain": [
       "array([624.52643271, 624.52643271, 624.52643271, 412.42594145,\n",
       "       412.09530421, 392.60494822, 381.37829267, 382.35883582,\n",
       "       554.71395337, 554.71395337])"
      ]
     },
     "execution_count": 12,
     "metadata": {},
     "output_type": "execute_result"
    }
   ],
   "source": [
    "# the last index is a simply a 2 step starting from position 1\n",
    "estsfs_diversity_branch = ts_estsfs.diversity(mode='branch', windows=create_windows(ts_estsfs))[1::2]\n",
    "estsfs_diversity_branch[:10]"
   ]
  },
  {
   "cell_type": "markdown",
   "metadata": {},
   "source": [
    "Try to plot the tow different diversities with vcftools output:"
   ]
  },
  {
   "cell_type": "code",
   "execution_count": 13,
   "metadata": {},
   "outputs": [
    {
     "data": {
      "text/plain": [
       "<matplotlib.collections.PathCollection at 0x7fa8ebeb0a90>"
      ]
     },
     "execution_count": 13,
     "metadata": {},
     "output_type": "execute_result"
    },
    {
     "data": {
      "image/png": "[encoded data removed]",
      "text/plain": [
       "<Figure size 640x480 with 1 Axes>"
      ]
     },
     "metadata": {},
     "output_type": "display_data"
    }
   ],
   "source": [
    "plt.scatter(estsfs_diversity, vcftools_diversity[\"PI\"])"
   ]
  },
  {
   "cell_type": "code",
   "execution_count": 14,
   "metadata": {},
   "outputs": [
    {
     "data": {
      "text/plain": [
       "(0.0, 1000.0)"
      ]
     },
     "execution_count": 14,
     "metadata": {},
     "output_type": "execute_result"
    },
    {
     "data": {
      "image/png": "[encoded data removed]",
      "text/plain": [
       "<Figure size 640x480 with 1 Axes>"
      ]
     },
     "metadata": {},
     "output_type": "display_data"
    }
   ],
   "source": [
    "plt.scatter(estsfs_diversity_branch, vcftools_diversity[\"PI\"])\n",
    "plt.xlim(0, 1000)"
   ]
  },
  {
   "cell_type": "markdown",
   "metadata": {},
   "source": [
    "## Compara output as ancestral alleles\n",
    "\n",
    "Calculate nucleotide diversity using the *tree files* generated by the pipeline\n",
    "using the `compara` approach as ancestral alleles."
   ]
  },
  {
   "cell_type": "code",
   "execution_count": 15,
   "metadata": {},
   "outputs": [
    {
     "data": {
      "text/html": [
       "\n",
       "            <div>\n",
       "              <style>\n",
       "                .tskit-table thead tr th {text-align: left;padding: 0.5em 0.5em;}\n",
       "                .tskit-table tbody tr td {padding: 0.5em 0.5em;}\n",
       "                .tskit-table tbody tr td:first-of-type {text-align: left;}\n",
       "                .tskit-details-label {vertical-align: top; padding-right:5px;}\n",
       "                .tskit-table-set {display: inline-flex;flex-wrap: wrap;margin: -12px 0 0 -12px;width: calc(100% + 12px);}\n",
       "                .tskit-table-set-table {margin: 12px 0 0 12px;}\n",
       "                details {display: inline-block;}\n",
       "                summary {cursor: pointer; outline: 0; display: list-item;}\n",
       "              </style>\n",
       "              <div class=\"tskit-table-set\">\n",
       "                <div class=\"tskit-table-set-table\">\n",
       "                  <table class=\"tskit-table\">\n",
       "                    <thead>\n",
       "                      <tr>\n",
       "                        <th style=\"padding:0;line-height:21px;\">\n",
       "                          <img style=\"height: 32px;display: inline-block;padding: 3px 5px 3px 0;\" src=\"https://raw.githubusercontent.com/tskit-dev/administrative/main/tskit_logo.svg\"/>\n",
       "                          <a target=\"_blank\" href=\"https://tskit.dev/tskit/docs/latest/python-api.html#the-treesequence-class\"> Tree Sequence </a>\n",
       "                        </th>\n",
       "                      </tr>\n",
       "                    </thead>\n",
       "                    <tbody>\n",
       "                      <tr><td>Trees</td><td>496</td></tr>\n",
       "                      <tr><td>Sequence Length</td><td>44077779.0</td></tr>\n",
       "                      <tr><td>Time Units</td><td>generations</td></tr>\n",
       "                      <tr><td>Sample Nodes</td><td>11478</td></tr>\n",
       "                      <tr><td>Total Size</td><td>89.6 MiB</td></tr>\n",
       "                      <tr>\n",
       "                        <td>Metadata</td><td style=\"text-align: left;\">\n",
       "                <div>\n",
       "                  <span class=\"tskit-details-label\"></span>\n",
       "                  <details open>\n",
       "                    <summary>dict</summary>\n",
       "                    \n",
       "                  </details>\n",
       "                </div>\n",
       "                </td></tr>\n",
       "                    </tbody>\n",
       "                  </table>\n",
       "                </div>\n",
       "                <div class=\"tskit-table-set-table\">\n",
       "                  <table class=\"tskit-table\">\n",
       "                    <thead>\n",
       "                      <tr>\n",
       "                        <th style=\"line-height:21px;\">Table</th>\n",
       "                        <th>Rows</th>\n",
       "                        <th>Size</th>\n",
       "                        <th>Has Metadata</th>\n",
       "                      </tr>\n",
       "                    </thead>\n",
       "                    <tbody>\n",
       "                    \n",
       "                  <tr>\n",
       "                    <td>Edges</td>\n",
       "                      <td>1832498</td>\n",
       "                      <td>55.9 MiB</td>\n",
       "                      <td style=\"text-align: center;\">\n",
       "                        \n",
       "                      </td>\n",
       "                    </tr>\n",
       "                \n",
       "                  <tr>\n",
       "                    <td>Individuals</td>\n",
       "                      <td>5739</td>\n",
       "                      <td>353.1 KiB</td>\n",
       "                      <td style=\"text-align: center;\">\n",
       "                        ✅\n",
       "                      </td>\n",
       "                    </tr>\n",
       "                \n",
       "                  <tr>\n",
       "                    <td>Migrations</td>\n",
       "                      <td>0</td>\n",
       "                      <td>8 Bytes</td>\n",
       "                      <td style=\"text-align: center;\">\n",
       "                        \n",
       "                      </td>\n",
       "                    </tr>\n",
       "                \n",
       "                  <tr>\n",
       "                    <td>Mutations</td>\n",
       "                      <td>522618</td>\n",
       "                      <td>18.4 MiB</td>\n",
       "                      <td style=\"text-align: center;\">\n",
       "                        \n",
       "                      </td>\n",
       "                    </tr>\n",
       "                \n",
       "                  <tr>\n",
       "                    <td>Nodes</td>\n",
       "                      <td>18859</td>\n",
       "                      <td>884.6 KiB</td>\n",
       "                      <td style=\"text-align: center;\">\n",
       "                        ✅\n",
       "                      </td>\n",
       "                    </tr>\n",
       "                \n",
       "                  <tr>\n",
       "                    <td>Populations</td>\n",
       "                      <td>202</td>\n",
       "                      <td>4.7 KiB</td>\n",
       "                      <td style=\"text-align: center;\">\n",
       "                        ✅\n",
       "                      </td>\n",
       "                    </tr>\n",
       "                \n",
       "                  <tr>\n",
       "                    <td>Provenances</td>\n",
       "                      <td>4</td>\n",
       "                      <td>2.3 KiB</td>\n",
       "                      <td style=\"text-align: center;\">\n",
       "                        \n",
       "                      </td>\n",
       "                    </tr>\n",
       "                \n",
       "                  <tr>\n",
       "                    <td>Sites</td>\n",
       "                      <td>657</td>\n",
       "                      <td>33.5 KiB</td>\n",
       "                      <td style=\"text-align: center;\">\n",
       "                        ✅\n",
       "                      </td>\n",
       "                    </tr>\n",
       "                \n",
       "                    </tbody>\n",
       "                  </table>\n",
       "                </div>\n",
       "              </div>\n",
       "            </div>\n",
       "            "
      ],
      "text/plain": [
       "<tskit.trees.TreeSequence at 0x7fa8cb704c70>"
      ]
     },
     "execution_count": 15,
     "metadata": {},
     "output_type": "execute_result"
    }
   ],
   "source": [
    "ts_compara = tskit.load(str(get_project_dir() / \"results-compara/background_samples/tsinfer/SMARTER-OA-OAR3-forward-0.4.10.focal.26.trees\"))\n",
    "ts_compara"
   ]
  },
  {
   "cell_type": "markdown",
   "metadata": {},
   "source": [
    "Calculate nucleotide diversity as before:"
   ]
  },
  {
   "cell_type": "code",
   "execution_count": 16,
   "metadata": {},
   "outputs": [
    {
     "data": {
      "text/plain": [
       "array([0.42888107, 0.48993439, 0.49405594, 0.2701865 , 0.45915964,\n",
       "       0.24879865, 0.14893215, 0.39075449, 0.46029766, 0.48983504])"
      ]
     },
     "execution_count": 16,
     "metadata": {},
     "output_type": "execute_result"
    }
   ],
   "source": [
    "# the last index is a simply a 2 step starting from position 1\n",
    "compara_diversity = ts_compara.diversity(windows=create_windows(ts_compara))[1::2]\n",
    "compara_diversity[:10]"
   ]
  },
  {
   "cell_type": "markdown",
   "metadata": {},
   "source": [
    "Are this values similar to the values calculated using VCFtools?"
   ]
  },
  {
   "cell_type": "code",
   "execution_count": 17,
   "metadata": {},
   "outputs": [
    {
     "data": {
      "text/plain": [
       "True"
      ]
     },
     "execution_count": 17,
     "metadata": {},
     "output_type": "execute_result"
    }
   ],
   "source": [
    "np.isclose(compara_diversity, vcftools_diversity[\"PI\"], atol=1e-6).all()"
   ]
  },
  {
   "cell_type": "markdown",
   "metadata": {},
   "source": [
    "So *nucleotide diversity* is the same in both cases (using the REF as ancestral allele and using the `compara` as ancestral allele). Calculate diversity using *branch*:"
   ]
  },
  {
   "cell_type": "code",
   "execution_count": 18,
   "metadata": {},
   "outputs": [
    {
     "data": {
      "text/plain": [
       "array([480.2888314 , 357.66219101, 359.66089727, 362.93811695,\n",
       "       380.69863508, 414.7738581 , 419.34958348, 419.14009411,\n",
       "       419.14009411, 419.14009411])"
      ]
     },
     "execution_count": 18,
     "metadata": {},
     "output_type": "execute_result"
    }
   ],
   "source": [
    "# the last index is a simply a 2 step starting from position 1\n",
    "compara_diversity_branch = ts_compara.diversity(mode='branch', windows=create_windows(ts_compara))[1::2]\n",
    "compara_diversity_branch[:10]"
   ]
  },
  {
   "cell_type": "markdown",
   "metadata": {},
   "source": [
    "Try to plot the tow different diversities with vcftools output:"
   ]
  },
  {
   "cell_type": "code",
   "execution_count": 19,
   "metadata": {},
   "outputs": [
    {
     "data": {
      "text/plain": [
       "<matplotlib.collections.PathCollection at 0x7fa8cadff2e0>"
      ]
     },
     "execution_count": 19,
     "metadata": {},
     "output_type": "execute_result"
    },
    {
     "data": {
      "image/png": "[encoded data removed]",
      "text/plain": [
       "<Figure size 640x480 with 1 Axes>"
      ]
     },
     "metadata": {},
     "output_type": "display_data"
    }
   ],
   "source": [
    "plt.scatter(compara_diversity, vcftools_diversity[\"PI\"])"
   ]
  },
  {
   "cell_type": "code",
   "execution_count": 20,
   "metadata": {},
   "outputs": [
    {
     "data": {
      "text/plain": [
       "(0.0, 1000.0)"
      ]
     },
     "execution_count": 20,
     "metadata": {},
     "output_type": "execute_result"
    },
    {
     "data": {
      "image/png": "[encoded data removed]",
      "text/plain": [
       "<Figure size 640x480 with 1 Axes>"
      ]
     },
     "metadata": {},
     "output_type": "display_data"
    }
   ],
   "source": [
    "plt.scatter(compara_diversity_branch, vcftools_diversity[\"PI\"])\n",
    "plt.xlim(0, 1000)"
   ]
  },
  {
   "cell_type": "code",
   "execution_count": null,
   "metadata": {},
   "outputs": [],
   "source": []
  }
 ],
 "metadata": {
  "kernelspec": {
   "display_name": "Python 3 (ipykernel)",
   "language": "python",
   "name": "python3"
  },
  "language_info": {
   "codemirror_mode": {
    "name": "ipython",
    "version": 3
   },
   "file_extension": ".py",
   "mimetype": "text/x-python",
   "name": "python",
   "nbconvert_exporter": "python",
   "pygments_lexer": "ipython3",
   "version": "3.9.16"
  }
 },
 "nbformat": 4,
 "nbformat_minor": 2
}
