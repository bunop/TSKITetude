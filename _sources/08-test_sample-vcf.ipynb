{
 "cells": [
  {
   "cell_type": "markdown",
   "metadata": {},
   "source": [
    "# Inference from a test VCF file\n",
    "\n",
    "Try to infer a tstree object like I did with `nf-treeseq` pipeline but using the \n",
    "sample VCF provided in [sheepTSexample](https://github.com/HighlanderLab/sheepTSexample)"
   ]
  },
  {
   "cell_type": "code",
   "execution_count": 1,
   "metadata": {},
   "outputs": [],
   "source": [
    "import cyvcf2\n",
    "import tsinfer\n",
    "import tsdate\n",
    "import numpy as np\n",
    "import matplotlib.pyplot as plt\n",
    "import pandas as pd\n",
    "\n",
    "from tskitetude import get_project_dir\n",
    "from tskitetude.helper import get_chromosome_lengths, add_diploid_sites, create_windows"
   ]
  },
  {
   "cell_type": "markdown",
   "metadata": {},
   "source": [
    "Configure `tskitetude` module to use `tqdm.notebook`:"
   ]
  },
  {
   "cell_type": "code",
   "execution_count": 2,
   "metadata": {},
   "outputs": [],
   "source": [
    "from tqdm.notebook import tqdm\n",
    "\n",
    "import tskitetude.helper\n",
    "\n",
    "tskitetude.helper.tqdm = tqdm"
   ]
  },
  {
   "cell_type": "code",
   "execution_count": 3,
   "metadata": {},
   "outputs": [
    {
     "name": "stdout",
     "output_type": "stream",
     "text": [
      "Getting information for chromosome 1 with length 1000000 bp\n"
     ]
    }
   ],
   "source": [
    "vcf_file = str(get_project_dir() / \"experiments/test1M/test1M.out.inf.vcf.gz\")\n",
    "vcf = cyvcf2.VCF(vcf_file)\n",
    "chromosome_lengths = get_chromosome_lengths(vcf)\n",
    "\n",
    "# get first variant like I did in the helper script\n",
    "variant = next(vcf)\n",
    "sequence_length = chromosome_lengths[variant.CHROM]\n",
    "\n",
    "print(f\"Getting information for chromosome {variant.CHROM} with length {sequence_length} bp\")"
   ]
  },
  {
   "cell_type": "markdown",
   "metadata": {},
   "source": [
    "Create `SampleData` object. Add additional information (as we did in [tutorial](https://github.com/HighlanderLab/sheepTSexample/blob/main/Notebooks/10Inference.ipynb)):"
   ]
  },
  {
   "cell_type": "code",
   "execution_count": 4,
   "metadata": {},
   "outputs": [
    {
     "name": "stderr",
     "output_type": "stream",
     "text": [
      "2024-09-05 12:40:20,596 - tskitetude.helper - INFO - Using ancestral allele from est-sfs\n"
     ]
    },
    {
     "data": {
      "application/vnd.jupyter.widget-view+json": {
       "model_id": "c39aaa01bf154787a0a4b90ed4eb41b2",
       "version_major": 2,
       "version_minor": 0
      },
      "text/plain": [
       "Read VCF:   0%|          | 0/1000000.0 [00:00<?, ?bp/s]"
      ]
     },
     "metadata": {},
     "output_type": "display_data"
    },
    {
     "name": "stdout",
     "output_type": "stream",
     "text": [
      "Duplicate entries at position 83850, ignoring all but the first\n",
      "Duplicate entries at position 119222, ignoring all but the first\n",
      "Duplicate entries at position 176965, ignoring all but the first\n",
      "Duplicate entries at position 214451, ignoring all but the first\n",
      "Duplicate entries at position 231728, ignoring all but the first\n",
      "Duplicate entries at position 232122, ignoring all but the first\n",
      "Duplicate entries at position 233613, ignoring all but the first\n",
      "Duplicate entries at position 250950, ignoring all but the first\n",
      "Duplicate entries at position 289598, ignoring all but the first\n",
      "Duplicate entries at position 355578, ignoring all but the first\n",
      "Duplicate entries at position 368226, ignoring all but the first\n",
      "Duplicate entries at position 380744, ignoring all but the first\n",
      "Duplicate entries at position 389742, ignoring all but the first\n",
      "Duplicate entries at position 401443, ignoring all but the first\n",
      "Duplicate entries at position 423892, ignoring all but the first\n",
      "Duplicate entries at position 463723, ignoring all but the first\n",
      "Duplicate entries at position 484903, ignoring all but the first\n",
      "Duplicate entries at position 497351, ignoring all but the first\n",
      "Duplicate entries at position 530338, ignoring all but the first\n",
      "Duplicate entries at position 533058, ignoring all but the first\n",
      "Duplicate entries at position 547183, ignoring all but the first\n",
      "Duplicate entries at position 559588, ignoring all but the first\n",
      "Duplicate entries at position 585695, ignoring all but the first\n",
      "Duplicate entries at position 588075, ignoring all but the first\n",
      "Duplicate entries at position 641377, ignoring all but the first\n",
      "Duplicate entries at position 668752, ignoring all but the first\n",
      "Duplicate entries at position 685839, ignoring all but the first\n",
      "Duplicate entries at position 708451, ignoring all but the first\n",
      "Duplicate entries at position 708624, ignoring all but the first\n",
      "Duplicate entries at position 738714, ignoring all but the first\n",
      "Duplicate entries at position 771513, ignoring all but the first\n",
      "Duplicate entries at position 796270, ignoring all but the first\n",
      "Duplicate entries at position 801989, ignoring all but the first\n",
      "Duplicate entries at position 842642, ignoring all but the first\n",
      "Duplicate entries at position 844811, ignoring all but the first\n",
      "Duplicate entries at position 849212, ignoring all but the first\n",
      "Duplicate entries at position 869978, ignoring all but the first\n",
      "Duplicate entries at position 901725, ignoring all but the first\n",
      "Duplicate entries at position 917886, ignoring all but the first\n",
      "Duplicate entries at position 925039, ignoring all but the first\n",
      "Duplicate entries at position 950803, ignoring all but the first\n",
      "Sample file created for 210 samples (105 individuals) with 12844 variable sites.\n"
     ]
    }
   ],
   "source": [
    "# reset the VCF file\n",
    "vcf = cyvcf2.VCF(vcf_file)\n",
    "\n",
    "with tsinfer.SampleData(\n",
    "        path = str(get_project_dir() / \"experiments/test1M/test1M.out.inf.samples\"),\n",
    "        sequence_length = sequence_length) as samples:\n",
    "\n",
    "    # add population information (optional)\n",
    "    samples.add_population(metadata={\"name\": \"Mouflon\"})\n",
    "    samples.add_population(metadata={\"name\": \"Iranian\"})\n",
    "    samples.add_population(metadata={\"name\": \"Border\"})\n",
    "\n",
    "    # add individuals (optional)\n",
    "\n",
    "    # create a population lookup list to iterate over\n",
    "    popID = np.repeat([0,1,2], [5, 50, 50]).tolist()\n",
    "\n",
    "    for i in range(105):\n",
    "        samples.add_individual(ploidy=2, population=popID[i], metadata={\"name\": f\"tsk_{i}\"})\n",
    "\n",
    "    add_diploid_sites(vcf, samples, {}, allele_chars=set(\"01\"))\n",
    "\n",
    "print(\n",
    "    f\"Sample file created for {samples.num_samples} samples \"\n",
    "    f\"({samples.num_individuals} individuals) \"\n",
    "    f\"with {samples.num_sites} variable sites.\"\n",
    ")"
   ]
  },
  {
   "cell_type": "code",
   "execution_count": 5,
   "metadata": {},
   "outputs": [
    {
     "name": "stderr",
     "output_type": "stream",
     "text": [
      "2024-09-05 12:40:24,733 - tsinfer.inference - INFO - Starting addition of 12844 sites\n"
     ]
    },
    {
     "name": "stderr",
     "output_type": "stream",
     "text": [
      "2024-09-05 12:40:25,052 - tsinfer.inference - INFO - Finished adding sites\n",
      "2024-09-05 12:40:25,055 - tsinfer.inference - WARNING - No sites used for inference\n",
      "2024-09-05 12:40:25,066 - tsinfer.inference - INFO - Mismatch prevented by setting constant high recombination and low mismatch probabilities\n",
      "2024-09-05 12:40:25,067 - tsinfer.inference - INFO - Fewer than two inference sites: no recombination possible\n",
      "2024-09-05 12:40:25,068 - tsinfer.inference - INFO - No inference sites: no mismatch possible\n",
      "2024-09-05 12:40:25,068 - tsinfer.inference - INFO - Matching using 13 digits of precision in likelihood calcs\n",
      "2024-09-05 12:40:25,071 - tsinfer.inference - INFO - Starting ancestor matching for 0 epochs\n",
      "2024-09-05 12:40:25,074 - tsinfer.inference - INFO - Finished ancestor matching\n",
      "2024-09-05 12:40:25,077 - tsinfer.inference - WARNING - No sites used for inference\n",
      "2024-09-05 12:40:25,089 - tsinfer.inference - INFO - Mismatch prevented by setting constant high recombination and low mismatch probabilities\n",
      "2024-09-05 12:40:25,089 - tsinfer.inference - INFO - Fewer than two inference sites: no recombination possible\n",
      "2024-09-05 12:40:25,090 - tsinfer.inference - INFO - No inference sites: no mismatch possible\n",
      "2024-09-05 12:40:25,091 - tsinfer.inference - INFO - Matching using 13 digits of precision in likelihood calcs\n",
      "2024-09-05 12:40:25,324 - tsinfer.inference - INFO - Loaded 210 samples 0 nodes; 0 edges; 0 sites; 0 mutations\n",
      "2024-09-05 12:40:25,325 - tsinfer.inference - INFO - Started matching for 210 samples\n",
      "2024-09-05 12:40:25,326 - tsinfer.inference - INFO - Finalising tree sequence\n",
      "2024-09-05 12:40:25,343 - tsinfer.inference - INFO - Built samples tree sequence: 212 nodes (0 pc); 211 edges; 0 sites; 0 mutations\n",
      "2024-09-05 12:40:25,344 - tsinfer.inference - INFO - Mapping additional sites\n",
      "2024-09-05 12:40:27,094 - tsinfer.inference - INFO - Removing the oldest edge to detach the virtual-root-like ancestor\n",
      "2024-09-05 12:40:27,124 - tsinfer.inference - INFO - Located the all zeros ultimate ancestor\n",
      "2024-09-05 12:40:27,165 - tsinfer.inference - INFO - Erased flanks covering 0.0119% of the genome: 108.0 units at the start and 11.0 units at the end\n",
      "2024-09-05 12:40:27,166 - tsinfer.inference - INFO - Simplifying with filter_sites=False, filter_populations=False, filter_individuals=False, and keep_unary=True on 212 nodes and 210 edges\n",
      "2024-09-05 12:40:27,180 - tsinfer.inference - INFO - Finished simplify; now have 211 nodes and 210 edges\n"
     ]
    },
    {
     "name": "stdout",
     "output_type": "stream",
     "text": [
      "Inferred tree sequence `ts`: 3 trees over 1.0 Mb\n"
     ]
    }
   ],
   "source": [
    "# Do the inference\n",
    "sparrow_ts = tsinfer.infer(\n",
    "    samples,\n",
    "    num_threads=4\n",
    ")\n",
    "\n",
    "# Simplify the tree sequence\n",
    "ts = sparrow_ts.simplify()\n",
    "\n",
    "print(\n",
    "    f\"Inferred tree sequence `ts`: {ts.num_trees} \"\n",
    "    f\"trees over {ts.sequence_length / 1e6} Mb\"\n",
    ")"
   ]
  },
  {
   "cell_type": "code",
   "execution_count": 6,
   "metadata": {},
   "outputs": [
    {
     "data": {
      "text/html": [
       "\n",
       "            <div>\n",
       "              <style>\n",
       "                .tskit-table thead tr th {text-align: left;padding: 0.5em 0.5em;}\n",
       "                .tskit-table tbody tr td {padding: 0.5em 0.5em;}\n",
       "                .tskit-table tbody tr td:first-of-type {text-align: left;}\n",
       "                .tskit-details-label {vertical-align: top; padding-right:5px;}\n",
       "                .tskit-table-set {display: inline-flex;flex-wrap: wrap;margin: -12px 0 0 -12px;width: calc(100% + 12px);}\n",
       "                .tskit-table-set-table {margin: 12px 0 0 12px;}\n",
       "                details {display: inline-block;}\n",
       "                summary {cursor: pointer; outline: 0; display: list-item;}\n",
       "              </style>\n",
       "              <div class=\"tskit-table-set\">\n",
       "                <div class=\"tskit-table-set-table\">\n",
       "                  <table class=\"tskit-table\">\n",
       "                    <thead>\n",
       "                      <tr>\n",
       "                        <th style=\"padding:0;line-height:21px;\">\n",
       "                          <img style=\"height: 32px;display: inline-block;padding: 3px 5px 3px 0;\" src=\"https://raw.githubusercontent.com/tskit-dev/administrative/main/tskit_logo.svg\"/>\n",
       "                          <a target=\"_blank\" href=\"https://tskit.dev/tskit/docs/latest/python-api.html#the-treesequence-class\"> Tree Sequence </a>\n",
       "                        </th>\n",
       "                      </tr>\n",
       "                    </thead>\n",
       "                    <tbody>\n",
       "                      <tr><td>Trees</td><td>3</td></tr>\n",
       "                      <tr><td>Sequence Length</td><td>1000000.0</td></tr>\n",
       "                      <tr><td>Time Units</td><td>uncalibrated</td></tr>\n",
       "                      <tr><td>Sample Nodes</td><td>210</td></tr>\n",
       "                      <tr><td>Total Size</td><td>7.3 MiB</td></tr>\n",
       "                      <tr>\n",
       "                        <td>Metadata</td><td style=\"text-align: left;\">\n",
       "                <div>\n",
       "                  <span class=\"tskit-details-label\"></span>\n",
       "                  <details open>\n",
       "                    <summary>dict</summary>\n",
       "                    \n",
       "                  </details>\n",
       "                </div>\n",
       "                </td></tr>\n",
       "                    </tbody>\n",
       "                  </table>\n",
       "                </div>\n",
       "                <div class=\"tskit-table-set-table\">\n",
       "                  <table class=\"tskit-table\">\n",
       "                    <thead>\n",
       "                      <tr>\n",
       "                        <th style=\"line-height:21px;\">Table</th>\n",
       "                        <th>Rows</th>\n",
       "                        <th>Size</th>\n",
       "                        <th>Has Metadata</th>\n",
       "                      </tr>\n",
       "                    </thead>\n",
       "                    <tbody>\n",
       "                    \n",
       "                  <tr>\n",
       "                    <td>Edges</td>\n",
       "                      <td>210</td>\n",
       "                      <td>6.6 KiB</td>\n",
       "                      <td style=\"text-align: center;\">\n",
       "                        \n",
       "                      </td>\n",
       "                    </tr>\n",
       "                \n",
       "                  <tr>\n",
       "                    <td>Individuals</td>\n",
       "                      <td>105</td>\n",
       "                      <td>4.7 KiB</td>\n",
       "                      <td style=\"text-align: center;\">\n",
       "                        ✅\n",
       "                      </td>\n",
       "                    </tr>\n",
       "                \n",
       "                  <tr>\n",
       "                    <td>Migrations</td>\n",
       "                      <td>0</td>\n",
       "                      <td>8 Bytes</td>\n",
       "                      <td style=\"text-align: center;\">\n",
       "                        \n",
       "                      </td>\n",
       "                    </tr>\n",
       "                \n",
       "                  <tr>\n",
       "                    <td>Mutations</td>\n",
       "                      <td>187726</td>\n",
       "                      <td>6.6 MiB</td>\n",
       "                      <td style=\"text-align: center;\">\n",
       "                        \n",
       "                      </td>\n",
       "                    </tr>\n",
       "                \n",
       "                  <tr>\n",
       "                    <td>Nodes</td>\n",
       "                      <td>211</td>\n",
       "                      <td>5.8 KiB</td>\n",
       "                      <td style=\"text-align: center;\">\n",
       "                        \n",
       "                      </td>\n",
       "                    </tr>\n",
       "                \n",
       "                  <tr>\n",
       "                    <td>Populations</td>\n",
       "                      <td>3</td>\n",
       "                      <td>88 Bytes</td>\n",
       "                      <td style=\"text-align: center;\">\n",
       "                        ✅\n",
       "                      </td>\n",
       "                    </tr>\n",
       "                \n",
       "                  <tr>\n",
       "                    <td>Provenances</td>\n",
       "                      <td>2</td>\n",
       "                      <td>1.0 KiB</td>\n",
       "                      <td style=\"text-align: center;\">\n",
       "                        \n",
       "                      </td>\n",
       "                    </tr>\n",
       "                \n",
       "                  <tr>\n",
       "                    <td>Sites</td>\n",
       "                      <td>12844</td>\n",
       "                      <td>702.4 KiB</td>\n",
       "                      <td style=\"text-align: center;\">\n",
       "                        ✅\n",
       "                      </td>\n",
       "                    </tr>\n",
       "                \n",
       "                    </tbody>\n",
       "                  </table>\n",
       "                </div>\n",
       "              </div>\n",
       "            </div>\n",
       "            "
      ],
      "text/plain": [
       "<tskit.trees.TreeSequence at 0x7f1db2d8b910>"
      ]
     },
     "execution_count": 6,
     "metadata": {},
     "output_type": "execute_result"
    }
   ],
   "source": [
    "ts"
   ]
  },
  {
   "cell_type": "code",
   "execution_count": 7,
   "metadata": {},
   "outputs": [
    {
     "name": "stderr",
     "output_type": "stream",
     "text": [
      "2024-09-05 12:40:27,366 - tsdate.util - INFO - Beginning preprocessing\n",
      "2024-09-05 12:40:27,367 - tsdate.util - INFO - Minimum_gap: None and remove_telomeres: None\n",
      "2024-09-05 12:40:27,372 - tsdate.util - INFO - REMOVING TELOMERE: Snip topology from 0 to first site at 107.0.\n",
      "2024-09-05 12:40:27,372 - tsdate.util - INFO - REMOVING TELOMERE: Snip topology from 999989.0 to end of sequence at 1000000.0.\n"
     ]
    },
    {
     "data": {
      "text/html": [
       "\n",
       "            <div>\n",
       "              <style>\n",
       "                .tskit-table thead tr th {text-align: left;padding: 0.5em 0.5em;}\n",
       "                .tskit-table tbody tr td {padding: 0.5em 0.5em;}\n",
       "                .tskit-table tbody tr td:first-of-type {text-align: left;}\n",
       "                .tskit-details-label {vertical-align: top; padding-right:5px;}\n",
       "                .tskit-table-set {display: inline-flex;flex-wrap: wrap;margin: -12px 0 0 -12px;width: calc(100% + 12px);}\n",
       "                .tskit-table-set-table {margin: 12px 0 0 12px;}\n",
       "                details {display: inline-block;}\n",
       "                summary {cursor: pointer; outline: 0; display: list-item;}\n",
       "              </style>\n",
       "              <div class=\"tskit-table-set\">\n",
       "                <div class=\"tskit-table-set-table\">\n",
       "                  <table class=\"tskit-table\">\n",
       "                    <thead>\n",
       "                      <tr>\n",
       "                        <th style=\"padding:0;line-height:21px;\">\n",
       "                          <img style=\"height: 32px;display: inline-block;padding: 3px 5px 3px 0;\" src=\"https://raw.githubusercontent.com/tskit-dev/administrative/main/tskit_logo.svg\"/>\n",
       "                          <a target=\"_blank\" href=\"https://tskit.dev/tskit/docs/latest/python-api.html#the-treesequence-class\"> Tree Sequence </a>\n",
       "                        </th>\n",
       "                      </tr>\n",
       "                    </thead>\n",
       "                    <tbody>\n",
       "                      <tr><td>Trees</td><td>3</td></tr>\n",
       "                      <tr><td>Sequence Length</td><td>1000000.0</td></tr>\n",
       "                      <tr><td>Time Units</td><td>generations</td></tr>\n",
       "                      <tr><td>Sample Nodes</td><td>210</td></tr>\n",
       "                      <tr><td>Total Size</td><td>7.3 MiB</td></tr>\n",
       "                      <tr>\n",
       "                        <td>Metadata</td><td style=\"text-align: left;\">\n",
       "                <div>\n",
       "                  <span class=\"tskit-details-label\"></span>\n",
       "                  <details open>\n",
       "                    <summary>dict</summary>\n",
       "                    \n",
       "                  </details>\n",
       "                </div>\n",
       "                </td></tr>\n",
       "                    </tbody>\n",
       "                  </table>\n",
       "                </div>\n",
       "                <div class=\"tskit-table-set-table\">\n",
       "                  <table class=\"tskit-table\">\n",
       "                    <thead>\n",
       "                      <tr>\n",
       "                        <th style=\"line-height:21px;\">Table</th>\n",
       "                        <th>Rows</th>\n",
       "                        <th>Size</th>\n",
       "                        <th>Has Metadata</th>\n",
       "                      </tr>\n",
       "                    </thead>\n",
       "                    <tbody>\n",
       "                    \n",
       "                  <tr>\n",
       "                    <td>Edges</td>\n",
       "                      <td>210</td>\n",
       "                      <td>6.6 KiB</td>\n",
       "                      <td style=\"text-align: center;\">\n",
       "                        \n",
       "                      </td>\n",
       "                    </tr>\n",
       "                \n",
       "                  <tr>\n",
       "                    <td>Individuals</td>\n",
       "                      <td>105</td>\n",
       "                      <td>4.7 KiB</td>\n",
       "                      <td style=\"text-align: center;\">\n",
       "                        ✅\n",
       "                      </td>\n",
       "                    </tr>\n",
       "                \n",
       "                  <tr>\n",
       "                    <td>Migrations</td>\n",
       "                      <td>0</td>\n",
       "                      <td>8 Bytes</td>\n",
       "                      <td style=\"text-align: center;\">\n",
       "                        \n",
       "                      </td>\n",
       "                    </tr>\n",
       "                \n",
       "                  <tr>\n",
       "                    <td>Mutations</td>\n",
       "                      <td>187726</td>\n",
       "                      <td>6.6 MiB</td>\n",
       "                      <td style=\"text-align: center;\">\n",
       "                        \n",
       "                      </td>\n",
       "                    </tr>\n",
       "                \n",
       "                  <tr>\n",
       "                    <td>Nodes</td>\n",
       "                      <td>211</td>\n",
       "                      <td>5.8 KiB</td>\n",
       "                      <td style=\"text-align: center;\">\n",
       "                        ✅\n",
       "                      </td>\n",
       "                    </tr>\n",
       "                \n",
       "                  <tr>\n",
       "                    <td>Populations</td>\n",
       "                      <td>3</td>\n",
       "                      <td>88 Bytes</td>\n",
       "                      <td style=\"text-align: center;\">\n",
       "                        ✅\n",
       "                      </td>\n",
       "                    </tr>\n",
       "                \n",
       "                  <tr>\n",
       "                    <td>Provenances</td>\n",
       "                      <td>4</td>\n",
       "                      <td>2.3 KiB</td>\n",
       "                      <td style=\"text-align: center;\">\n",
       "                        \n",
       "                      </td>\n",
       "                    </tr>\n",
       "                \n",
       "                  <tr>\n",
       "                    <td>Sites</td>\n",
       "                      <td>12844</td>\n",
       "                      <td>702.4 KiB</td>\n",
       "                      <td style=\"text-align: center;\">\n",
       "                        ✅\n",
       "                      </td>\n",
       "                    </tr>\n",
       "                \n",
       "                    </tbody>\n",
       "                  </table>\n",
       "                </div>\n",
       "              </div>\n",
       "            </div>\n",
       "            "
      ],
      "text/plain": [
       "<tskit.trees.TreeSequence at 0x7f1db2be3a60>"
      ]
     },
     "execution_count": 7,
     "metadata": {},
     "output_type": "execute_result"
    }
   ],
   "source": [
    "# Removes unary nodes (currently required in tsdate), keeps historical-only sites\n",
    "ts = tsdate.preprocess_ts(ts, filter_sites=False)\n",
    "\n",
    "ts = tsdate.date(\n",
    "    ts,\n",
    "    mutation_rate=1e-8,\n",
    "    Ne=1e4\n",
    ")\n",
    "\n",
    "ts"
   ]
  },
  {
   "cell_type": "markdown",
   "metadata": {},
   "source": [
    "dump the *treesequence* file:"
   ]
  },
  {
   "cell_type": "code",
   "execution_count": 8,
   "metadata": {},
   "outputs": [],
   "source": [
    "# save generated tree\n",
    "ts.dump(get_project_dir() / \"tests/test1M.out.inf.trees\")"
   ]
  },
  {
   "cell_type": "markdown",
   "metadata": {},
   "source": [
    "I want to try to collect the first tree like I did in a previous example:"
   ]
  },
  {
   "cell_type": "code",
   "execution_count": 9,
   "metadata": {},
   "outputs": [
    {
     "data": {
      "text/html": [
       "\n",
       "            <div>\n",
       "              <style>\n",
       "                .tskit-table thead tr th {text-align: left;padding: 0.5em 0.5em;}\n",
       "                .tskit-table tbody tr td {padding: 0.5em 0.5em;}\n",
       "                .tskit-table tbody tr td:first-of-type {text-align: left;}\n",
       "                .tskit-details-label {vertical-align: top; padding-right:5px;}\n",
       "                .tskit-table-set {display: inline-flex;flex-wrap: wrap;margin: -12px 0 0 -12px;width: calc(100% + 12px);}\n",
       "                .tskit-table-set-table {margin: 12px 0 0 12px;}\n",
       "                details {display: inline-block;}\n",
       "                summary {cursor: pointer; outline: 0; display: list-item;}\n",
       "              </style>\n",
       "              <div class=\"tskit-table-set\">\n",
       "                <div class=\"tskit-table-set-table\">\n",
       "                  <table class=\"tskit-table\">\n",
       "                    <thead>\n",
       "                      <tr>\n",
       "                        <th style=\"padding:0;line-height:21px;\">\n",
       "                          <img style=\"height: 32px;display: inline-block;padding: 3px 5px 3px 0;\" src=\"https://raw.githubusercontent.com/tskit-dev/administrative/main/tskit_logo.svg\"/>\n",
       "                          <a target=\"_blank\" href=\"https://tskit.dev/tskit/docs/latest/python-api.html#the-tree-class\"> Tree </a>\n",
       "                        </th>\n",
       "                      </tr>\n",
       "                    </thead>\n",
       "                    <tbody>\n",
       "                      <tr><td>Index</td><td>1</td></tr>\n",
       "                      <tr><td>Interval</td><td>108-999989 (999881)</td></tr>\n",
       "                      <tr><td>Roots</td><td>1</td></tr>\n",
       "                      <tr><td>Nodes</td><td>211</td></tr>\n",
       "                      <tr><td>Sites</td><td>12844</td></tr>\n",
       "                      <tr><td>Mutations</td><td>187726</td></tr>\n",
       "                      <tr><td>Total Branch Length</td><td>17122624</td></tr>\n",
       "                    </tbody>\n",
       "                  </table>\n",
       "                </div>\n",
       "              </div>\n",
       "            </div>\n",
       "            "
      ],
      "text/plain": [
       "<tskit.trees.Tree at 0x7e1db24cdd30>"
      ]
     },
     "execution_count": 9,
     "metadata": {},
     "output_type": "execute_result"
    }
   ],
   "source": [
    "POS = 108\n",
    "tree = ts.at(POS)\n",
    "tree"
   ]
  },
  {
   "cell_type": "markdown",
   "metadata": {},
   "source": [
    "Now get the intervals of this tree. Then try to filter out edges between those positions:"
   ]
  },
  {
   "cell_type": "code",
   "execution_count": 10,
   "metadata": {},
   "outputs": [
    {
     "data": {
      "text/html": [
       "\n",
       "        <div>\n",
       "            <style scoped=\"\">\n",
       "                .tskit-table tbody tr th:only-of-type {vertical-align: middle;}\n",
       "                .tskit-table tbody tr th {vertical-align: top;}\n",
       "                .tskit-table tbody td {text-align: right;padding: 0.5em 0.5em;}\n",
       "                .tskit-table tbody th {padding: 0.5em 0.5em;}\n",
       "            </style>\n",
       "            <table border=\"1\" class=\"tskit-table\">\n",
       "                <thead>\n",
       "                    <tr>\n",
       "                        <th>id</th><th>left</th><th>right</th><th>parent</th><th>child</th><th>metadata</th>\n",
       "                    </tr>\n",
       "                </thead>\n",
       "                <tbody>\n",
       "                    <tr><td>0</td><td>108</td><td>999989</td><td>210</td><td>0</td><td></td></tr>\n",
       "<tr><td>1</td><td>108</td><td>999989</td><td>210</td><td>1</td><td></td></tr>\n",
       "<tr><td>2</td><td>108</td><td>999989</td><td>210</td><td>2</td><td></td></tr>\n",
       "<tr><td>3</td><td>108</td><td>999989</td><td>210</td><td>3</td><td></td></tr>\n",
       "<tr><td>4</td><td>108</td><td>999989</td><td>210</td><td>4</td><td></td></tr>\n",
       "<tr><td>5</td><td>108</td><td>999989</td><td>210</td><td>5</td><td></td></tr>\n",
       "<tr><td>6</td><td>108</td><td>999989</td><td>210</td><td>6</td><td></td></tr>\n",
       "<tr><td>7</td><td>108</td><td>999989</td><td>210</td><td>7</td><td></td></tr>\n",
       "<tr><td>8</td><td>108</td><td>999989</td><td>210</td><td>8</td><td></td></tr>\n",
       "<tr><td>9</td><td>108</td><td>999989</td><td>210</td><td>9</td><td></td></tr>\n",
       "\n",
       "                </tbody>\n",
       "            </table>\n",
       "        </div>\n",
       "    "
      ],
      "text/plain": [
       "<tskit.tables.EdgeTable at 0x7e1db2d02ee0>"
      ]
     },
     "execution_count": 10,
     "metadata": {},
     "output_type": "execute_result"
    }
   ],
   "source": [
    "interval = tree.interval\n",
    "left_bound = interval.left\n",
    "right_bound = interval.right\n",
    "\n",
    "filtered_edges = ts.tables.edges[\n",
    "    np.logical_and(ts.tables.edges.left >= left_bound, ts.tables.edges.right <= right_bound)]\n",
    "filtered_edges[:10]"
   ]
  },
  {
   "cell_type": "code",
   "execution_count": 11,
   "metadata": {},
   "outputs": [
    {
     "data": {
      "text/plain": [
       "210"
      ]
     },
     "execution_count": 11,
     "metadata": {},
     "output_type": "execute_result"
    }
   ],
   "source": [
    "len(filtered_edges)"
   ]
  },
  {
   "cell_type": "markdown",
   "metadata": {},
   "source": [
    "why so few edges in this cases? How I can draw a tree with so few edges? Maybe the table\n",
    "itself doesn't model every connection between nodes. Or the way I collect data on edges\n",
    "is completely wrong."
   ]
  },
  {
   "cell_type": "markdown",
   "metadata": {},
   "source": [
    "Can I filter out the nodes in the same way? In this case I don't have a left and right \n",
    "position like in the edge table. However, from the edge table I can derive which nodes are\n",
    "*child* of *parents*:"
   ]
  },
  {
   "cell_type": "code",
   "execution_count": 12,
   "metadata": {},
   "outputs": [
    {
     "name": "stdout",
     "output_type": "stream",
     "text": [
      "Got 211 distinct nodes\n"
     ]
    }
   ],
   "source": [
    "parents = set(filtered_edges.parent)\n",
    "childs = set(filtered_edges.child)\n",
    "\n",
    "node_ids = parents.union(childs)\n",
    "print(f\"Got {len(node_ids)} distinct nodes\")\n"
   ]
  },
  {
   "cell_type": "code",
   "execution_count": 13,
   "metadata": {},
   "outputs": [],
   "source": [
    "# heavy intensive operation\n",
    "# tree.draw_svg(\n",
    "#     size=(800, 400),\n",
    "#     time_scale=\"log_time\",\n",
    "# )"
   ]
  },
  {
   "cell_type": "markdown",
   "metadata": {},
   "source": [
    "## Exploring nucleotide diversity\n",
    "\n",
    "Calculate diversity *per SNP positions*: use the `create_windows` function and select all the\n",
    "odd positions:"
   ]
  },
  {
   "cell_type": "code",
   "execution_count": 14,
   "metadata": {},
   "outputs": [
    {
     "data": {
      "text/plain": [
       "array([0.18086124, 0.01895648, 0.00952381, 0.00952381, 0.04670768,\n",
       "       0.06475279, 0.06475279, 0.00952381, 0.01895648, 0.04670768])"
      ]
     },
     "execution_count": 14,
     "metadata": {},
     "output_type": "execute_result"
    }
   ],
   "source": [
    "# remove the 0 values will be enough!\n",
    "ts_diversity = ts.diversity(windows=create_windows(ts))\n",
    "ts_diversity = ts_diversity[ts_diversity > 0]\n",
    "ts_diversity[:10]"
   ]
  },
  {
   "cell_type": "markdown",
   "metadata": {},
   "source": [
    "Now let's compare the nucleotide diversity calculated using vcftools: here's the \n",
    "command line to calculate nucleotide diversity *per site*:\n",
    "\n",
    "```bash\n",
    "cd test\n",
    "vcftools --gzvcf test1M.out.inf.vcf.gz --out allsamples_pi --site-pi\n",
    "```\n",
    "\n",
    "The `allsamples_pi.sites.pi` is a *TSV* file with the positions and the nucleotide diversity. Read it with pandas:"
   ]
  },
  {
   "cell_type": "code",
   "execution_count": 15,
   "metadata": {},
   "outputs": [
    {
     "data": {
      "text/html": [
       "<div>\n",
       "<style scoped>\n",
       "    .dataframe tbody tr th:only-of-type {\n",
       "        vertical-align: middle;\n",
       "    }\n",
       "\n",
       "    .dataframe tbody tr th {\n",
       "        vertical-align: top;\n",
       "    }\n",
       "\n",
       "    .dataframe thead th {\n",
       "        text-align: right;\n",
       "    }\n",
       "</style>\n",
       "<table border=\"1\" class=\"dataframe\">\n",
       "  <thead>\n",
       "    <tr style=\"text-align: right;\">\n",
       "      <th></th>\n",
       "      <th>CHROM</th>\n",
       "      <th>POS</th>\n",
       "      <th>PI</th>\n",
       "    </tr>\n",
       "  </thead>\n",
       "  <tbody>\n",
       "    <tr>\n",
       "      <th>0</th>\n",
       "      <td>1</td>\n",
       "      <td>108</td>\n",
       "      <td>0.180861</td>\n",
       "    </tr>\n",
       "    <tr>\n",
       "      <th>1</th>\n",
       "      <td>1</td>\n",
       "      <td>120</td>\n",
       "      <td>0.018957</td>\n",
       "    </tr>\n",
       "    <tr>\n",
       "      <th>2</th>\n",
       "      <td>1</td>\n",
       "      <td>307</td>\n",
       "      <td>0.009524</td>\n",
       "    </tr>\n",
       "    <tr>\n",
       "      <th>3</th>\n",
       "      <td>1</td>\n",
       "      <td>355</td>\n",
       "      <td>0.009524</td>\n",
       "    </tr>\n",
       "    <tr>\n",
       "      <th>4</th>\n",
       "      <td>1</td>\n",
       "      <td>372</td>\n",
       "      <td>0.046708</td>\n",
       "    </tr>\n",
       "  </tbody>\n",
       "</table>\n",
       "</div>"
      ],
      "text/plain": [
       "   CHROM  POS        PI\n",
       "0      1  108  0.180861\n",
       "1      1  120  0.018957\n",
       "2      1  307  0.009524\n",
       "3      1  355  0.009524\n",
       "4      1  372  0.046708"
      ]
     },
     "execution_count": 15,
     "metadata": {},
     "output_type": "execute_result"
    }
   ],
   "source": [
    "vcftools_diversity = pd.read_csv(get_project_dir() / \"experiments/test1M/allsamples_pi.sites.pi\", sep=\"\\t\")\n",
    "vcftools_diversity.head()"
   ]
  },
  {
   "cell_type": "code",
   "execution_count": 16,
   "metadata": {},
   "outputs": [
    {
     "name": "stdout",
     "output_type": "stream",
     "text": [
      "ts_diversity is 12844 in size\n",
      "vcftools_diversity is 12885 in size\n"
     ]
    }
   ],
   "source": [
    "\n",
    "print(f\"ts_diversity is {len(ts_diversity)} in size\")\n",
    "print(f\"vcftools_diversity is {len(vcftools_diversity)} in size\")"
   ]
  },
  {
   "cell_type": "markdown",
   "metadata": {},
   "source": [
    "this dataframe has more values than ts_diversity, since there are duplicated positions. Since I've\n",
    "dropped duplicated positions in `create_windows`, I need to drop duplicates in this dataframe. However\n",
    "the diveristy I can misure in those points will be different: "
   ]
  },
  {
   "cell_type": "code",
   "execution_count": 17,
   "metadata": {},
   "outputs": [],
   "source": [
    "vcftools_diversity.drop_duplicates(subset='POS', keep='first', inplace=True)"
   ]
  },
  {
   "cell_type": "markdown",
   "metadata": {},
   "source": [
    "Are this values similar?"
   ]
  },
  {
   "cell_type": "code",
   "execution_count": 18,
   "metadata": {},
   "outputs": [
    {
     "data": {
      "text/plain": [
       "True"
      ]
     },
     "execution_count": 18,
     "metadata": {},
     "output_type": "execute_result"
    }
   ],
   "source": [
    "np.isclose(ts_diversity, vcftools_diversity[\"PI\"], atol=1e-6).all()"
   ]
  },
  {
   "cell_type": "markdown",
   "metadata": {},
   "source": [
    "Calculate diversity using *branch*:"
   ]
  },
  {
   "cell_type": "code",
   "execution_count": 19,
   "metadata": {},
   "outputs": [
    {
     "name": "stdout",
     "output_type": "stream",
     "text": [
      "[163072.61104365 163072.61104365 163072.61104365 163072.61104365\n",
      " 163072.61104365 163072.61104365 163072.61104365 163072.61104365\n",
      " 163072.61104365 163072.61104365]\n",
      "ts_diversity_branch is 25579 in size\n"
     ]
    }
   ],
   "source": [
    "# remove the 0 values will be enough!\n",
    "ts_diversity_branch = ts.diversity(mode='branch', windows=create_windows(ts))\n",
    "ts_diversity_branch = ts_diversity_branch[ts_diversity_branch > 0]\n",
    "print(ts_diversity_branch[:10])\n",
    "print(f\"ts_diversity_branch is {len(ts_diversity_branch)} in size\")"
   ]
  },
  {
   "cell_type": "code",
   "execution_count": 20,
   "metadata": {},
   "outputs": [
    {
     "name": "stdout",
     "output_type": "stream",
     "text": [
      "[     0.         163072.61104365 163072.61104365 163072.61104365\n",
      " 163072.61104365 163072.61104365 163072.61104365 163072.61104365\n",
      " 163072.61104365 163072.61104365]\n",
      "[  0. 108. 109. 120. 121. 307. 308. 355. 356. 372.]\n"
     ]
    }
   ],
   "source": [
    "print(ts.diversity(mode='branch', windows=create_windows(ts))[:10])\n",
    "print(create_windows(ts)[:10])"
   ]
  },
  {
   "cell_type": "markdown",
   "metadata": {},
   "source": [
    "Try to plot the tow different diversities with vcftools output:"
   ]
  },
  {
   "cell_type": "code",
   "execution_count": 21,
   "metadata": {},
   "outputs": [
    {
     "data": {
      "text/plain": [
       "<matplotlib.collections.PathCollection at 0x7f1db2d79a30>"
      ]
     },
     "execution_count": 21,
     "metadata": {},
     "output_type": "execute_result"
    },
    {
     "data": {
      "image/png": "[encoded data removed]",
      "text/plain": [
       "<Figure size 640x480 with 1 Axes>"
      ]
     },
     "metadata": {},
     "output_type": "display_data"
    }
   ],
   "source": [
    "plt.scatter(ts_diversity, vcftools_diversity[\"PI\"])"
   ]
  },
  {
   "cell_type": "markdown",
   "metadata": {},
   "source": [
    "The *branch* nuclueotide diversity need to be fixed: it doesn't have `0` in positions between windows:"
   ]
  },
  {
   "cell_type": "code",
   "execution_count": 22,
   "metadata": {},
   "outputs": [],
   "source": [
    "# plt.scatter(ts_diversity_branch, vcftools_diversity[\"PI\"])\n",
    "# plt.xlim(0, 300)"
   ]
  }
 ],
 "metadata": {
  "kernelspec": {
   "display_name": "Python 3 (ipykernel)",
   "language": "python",
   "name": "python3"
  },
  "language_info": {
   "codemirror_mode": {
    "name": "ipython",
    "version": 3
   },
   "file_extension": ".py",
   "mimetype": "text/x-python",
   "name": "python",
   "nbconvert_exporter": "python",
   "pygments_lexer": "ipython3",
   "version": "3.9.16"
  }
 },
 "nbformat": 4,
 "nbformat_minor": 2
}
