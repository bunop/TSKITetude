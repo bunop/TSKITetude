{
 "cells": [
  {
   "cell_type": "markdown",
   "metadata": {},
   "source": [
    "# Population statistics\n",
    "\n",
    "try to do some statistics on smarter samples"
   ]
  },
  {
   "cell_type": "code",
   "execution_count": null,
   "metadata": {},
   "outputs": [],
   "source": [
    "import tskit\n",
    "import json\n",
    "import pandas as pd\n",
    "import numpy as np\n",
    "\n",
    "from lets_plot import *\n",
    "LetsPlot.setup_html()\n",
    "\n",
    "from collections import Counter\n",
    "from tskitetude import get_project_dir"
   ]
  },
  {
   "cell_type": "markdown",
   "metadata": {
    "vscode": {
     "languageId": "plaintext"
    }
   },
   "source": [
    "Determine chromosome and file to open"
   ]
  },
  {
   "cell_type": "code",
   "execution_count": null,
   "metadata": {},
   "outputs": [],
   "source": [
    "chromosome = 1\n",
    "tsFile = get_project_dir() / f\"results-compara/50K_simulations/10_breeds-0-50K/tsinfer/SMARTER-OA-OAR3-forward-0.4.10-50K.focal.{chromosome}.trees\""
   ]
  },
  {
   "cell_type": "code",
   "execution_count": null,
   "metadata": {},
   "outputs": [],
   "source": [
    "ts = tskit.load(tsFile)\n",
    "tsPos = [x.position for x in ts.sites()]"
   ]
  },
  {
   "cell_type": "code",
   "execution_count": null,
   "metadata": {},
   "outputs": [],
   "source": [
    "# Prepare some lists\n",
    "breeds = list(set([json.loads(ts.population(ts.node(u).population).metadata)['breed'] for u in ts.samples()]))\n",
    "\n",
    "sample_nodes = [ts.node(n) for n in ts.samples()]\n",
    "samples_listed_by_breed_dict = { pop: [s.id for s in sample_nodes if json.loads(ts.population(s.population).metadata)['breed'] == pop] for pop in breeds}\n",
    "\n",
    "samples_listed_by_breed = [ [s.id for s in sample_nodes if json.loads(ts.population(s.population).metadata)['breed'] == pop] for pop in breeds]"
   ]
  },
  {
   "cell_type": "code",
   "execution_count": null,
   "metadata": {},
   "outputs": [],
   "source": [
    "num_populations = ts.num_populations\n",
    "breedPairs = [(x, y) for x in range(num_populations) for y in range(num_populations) if x < y]\n",
    "\n",
    "windows = np.linspace(0, int(ts.sequence_length), num= int(ts.sequence_length) // 1_000)"
   ]
  },
  {
   "cell_type": "code",
   "execution_count": null,
   "metadata": {},
   "outputs": [],
   "source": [
    "tmrca = ts.divergence(sample_sets=samples_listed_by_breed, indexes=breedPairs, windows=windows, mode='branch') // 2"
   ]
  },
  {
   "cell_type": "code",
   "execution_count": null,
   "metadata": {},
   "outputs": [],
   "source": [
    "gnn = ts.genealogical_nearest_neighbours(\n",
    "    ts.samples(), samples_listed_by_breed\n",
    ")\n",
    "\n",
    "cols = {breed: gnn[:, u] for u, breed in enumerate(breeds)}\n",
    "cols[\"breed\"] = [json.loads(ts.population(ts.node(u).population).metadata)[\"breed\"] for u in ts.samples()]\n",
    "GnnDF = pd.DataFrame(cols)\n",
    "GnnDF.to_csv(f\"GnnDF_chr{chromosome}.csv\")"
   ]
  },
  {
   "cell_type": "markdown",
   "metadata": {},
   "source": [
    "Tajima by breed"
   ]
  },
  {
   "cell_type": "code",
   "execution_count": null,
   "metadata": {},
   "outputs": [],
   "source": [
    "popsTajima = pd.DataFrame()\n",
    "\n",
    "for breed in breeds:\n",
    "    tajima = ts.Tajimas_D(sample_sets=samples_listed_by_breed_dict[breed])\n",
    "    tmp = pd.DataFrame({\"TajimaD\": [tajima], \"Breed\": breed})\n",
    "    popsTajima = pd.concat([popsTajima, tmp])\n",
    "\n",
    "popsTajima.to_csv(\"Tajima_\" + str(chromosome) + \".csv\", index = None)\n"
   ]
  },
  {
   "cell_type": "markdown",
   "metadata": {},
   "source": [
    "Window Tajima by breed:"
   ]
  },
  {
   "cell_type": "code",
   "execution_count": null,
   "metadata": {},
   "outputs": [],
   "source": [
    "popsTajima = pd.DataFrame()\n",
    "\n",
    "for breed in breeds:\n",
    "    windowTajima = ts.Tajimas_D(sample_sets=samples_listed_by_breed_dict[breed], windows=windows)\n",
    "    tmp = pd.DataFrame({\"Breakpoint\": windows[:-1], \"TajimaD\": list(windowTajima), \"Breed\": breed})\n",
    "    popsTajima = pd.concat([popsTajima, tmp])\n",
    "\n",
    "popsTajima.to_csv(\"WindowedTajima_\" + str(chromosome) + \".csv\", index = None)"
   ]
  },
  {
   "cell_type": "markdown",
   "metadata": {},
   "source": [
    "DIversity by breed"
   ]
  },
  {
   "cell_type": "code",
   "execution_count": null,
   "metadata": {},
   "outputs": [],
   "source": [
    "popsDiversity = pd.DataFrame()\n",
    "for breed in breeds:\n",
    "    diversity = ts.diversity(sample_sets=samples_listed_by_breed_dict[breed])\n",
    "    tmp = pd.DataFrame({\"Diversity\": [diversity], \"Breed\": breed})\n",
    "    popsDiversity = pd.concat([popsDiversity, tmp])\n",
    "\n",
    "popsDiversity.to_csv(\"Diversity_\" +str(chromosome) + \".csv\", index = None)\n"
   ]
  },
  {
   "cell_type": "code",
   "execution_count": null,
   "metadata": {},
   "outputs": [],
   "source": [
    "popsDiversity = pd.DataFrame()\n",
    "for breed in breeds:\n",
    "    diversity = ts.diversity(sample_sets=samples_listed_by_breed_dict[breed])\n",
    "    tmp = pd.DataFrame({\"Diversity\": [diversity], \"Breed\": breed})\n",
    "    popsDiversity = pd.concat([popsDiversity, tmp])\n",
    "\n",
    "popsDiversity.to_csv(\"Diversity_\" +str(chromosome) + \".csv\", index = None)\n"
   ]
  },
  {
   "cell_type": "markdown",
   "metadata": {},
   "source": [
    "Window diversity by breed"
   ]
  },
  {
   "cell_type": "code",
   "execution_count": null,
   "metadata": {},
   "outputs": [],
   "source": [
    "popsDiversity = pd.DataFrame()\n",
    "for breed in breeds:\n",
    "    windowDiversity = ts.diversity(sample_sets=samples_listed_by_breed_dict[breed], windows=windows)\n",
    "    tmp = pd.DataFrame({\"Breakpoint\": windows[:-1], \"Diversity\": list(windowDiversity), \"Breed\": breed})\n",
    "    popsDiversity = pd.concat([popsDiversity, tmp])\n",
    "\n",
    "popsDiversity.to_csv(\"WindowedDiversity_\" +str(chromosome) + \".csv\", index = None)"
   ]
  },
  {
   "cell_type": "markdown",
   "metadata": {},
   "source": [
    "Fst by breed pairs"
   ]
  },
  {
   "cell_type": "code",
   "execution_count": null,
   "metadata": {},
   "outputs": [],
   "source": [
    "popsFst = pd.DataFrame()\n",
    "\n",
    "for breed1, breed2 in breedPairs:\n",
    "    breedName1 = breeds[breed1]\n",
    "    breedName2 = breeds[breed2]\n",
    "    windowFst = ts.Fst(sample_sets=[samples_listed_by_breed[breed1], samples_listed_by_breed[breed2]])\n",
    "    tmp = pd.DataFrame({\"Fst\": [windowFst], \"Breed1\": breedName1, \"Breed2\": breedName2})\n",
    "    popsFst = pd.concat([popsFst, tmp])\n",
    "\n",
    "popsFst.to_csv(\"WindowedFst_\" + str(chromosome) + \".csv\", index = None)"
   ]
  },
  {
   "cell_type": "code",
   "execution_count": null,
   "metadata": {},
   "outputs": [],
   "source": [
    "# Divergence by breed pairs\n",
    "popsDivergence = pd.DataFrame()\n",
    "for breed1, breed2 in breedPairs:\n",
    "    breedName1 = breeds[breed1]\n",
    "    breedName2 = breeds[breed2]\n",
    "    divergence = ts.divergence(sample_sets=[samples_listed_by_breed[breed1], samples_listed_by_breed[breed2]])\n",
    "    tmp = pd.DataFrame({\"Divergence\": [divergence], \"Breed1\": breedName1, \"Breed2\": breedName2})\n",
    "    popsDivergence = pd.concat([popsDivergence, tmp])\n",
    "\n",
    "popsDivergence.to_csv(\"Divergence_\" + str(chromosome) + \".csv\", index = None)"
   ]
  },
  {
   "cell_type": "code",
   "execution_count": null,
   "metadata": {},
   "outputs": [],
   "source": [
    "# Window divergence by breed pairs\n",
    "popsDivergence = pd.DataFrame()\n",
    "for breed1, breed2 in breedPairs:\n",
    "    breedName1 = breeds[breed1]\n",
    "    breedName2 = breeds[breed2]\n",
    "    windowDivergence = ts.divergence(sample_sets=[samples_listed_by_breed[breed1], samples_listed_by_breed[breed2]], windows=windows)\n",
    "    tmp = pd.DataFrame({\"Breakpoint\": windows[:-1], \"Divergence\": list(windowDivergence), \"Breed1\": breedName1, \"Breed2\": breedName2})\n",
    "    popsDivergence = pd.concat([popsDivergence, tmp])\n",
    "\n",
    "popsDivergence.to_csv(\"WindowedDivergence_\" + str(chromosome) + \".csv\", index = None)"
   ]
  },
  {
   "cell_type": "code",
   "execution_count": null,
   "metadata": {},
   "outputs": [],
   "source": [
    "breeds"
   ]
  },
  {
   "cell_type": "code",
   "execution_count": null,
   "metadata": {},
   "outputs": [],
   "source": []
  }
 ],
 "metadata": {
  "kernelspec": {
   "display_name": "tskitetude-hh-GIRXc-py3.9",
   "language": "python",
   "name": "python3"
  },
  "language_info": {
   "codemirror_mode": {
    "name": "ipython",
    "version": 3
   },
   "file_extension": ".py",
   "mimetype": "text/x-python",
   "name": "python",
   "nbconvert_exporter": "python",
   "pygments_lexer": "ipython3",
   "version": "3.9.16"
  }
 },
 "nbformat": 4,
 "nbformat_minor": 4
}
