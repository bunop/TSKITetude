{
 "cells": [
  {
   "cell_type": "markdown",
   "metadata": {},
   "source": [
    "# Get ancient information from ensemble compara\n",
    "\n",
    "Try to collect ancient alleles from ensemble compara."
   ]
  },
  {
   "cell_type": "code",
   "execution_count": 1,
   "metadata": {},
   "outputs": [],
   "source": [
    "from urllib.parse import urljoin\n",
    "from tqdm.notebook import tqdm\n",
    "import pandas as pd\n",
    "\n",
    "from ensemblrest import EnsemblRest\n",
    "from tskitetude.smarterapi import VariantsEndpoint\n",
    "from tskitetude.ensembl import ComparaSheepSNP"
   ]
  },
  {
   "cell_type": "markdown",
   "metadata": {},
   "source": [
    "If I want to recover the coordinates of old `OAR3` I need to connect to the compara\n",
    "archive:"
   ]
  },
  {
   "cell_type": "code",
   "execution_count": 2,
   "metadata": {},
   "outputs": [],
   "source": [
    "base_url = 'https://nov2020.rest.ensembl.org'\n",
    "ensRest = EnsemblRest(base_url=base_url)\n",
    "session = ensRest.session"
   ]
  },
  {
   "cell_type": "markdown",
   "metadata": {},
   "source": [
    "Get information on assembly. Mind to the *top level coordinates*, which are the \n",
    "assembled chromosomes."
   ]
  },
  {
   "cell_type": "code",
   "execution_count": 3,
   "metadata": {},
   "outputs": [
    {
     "data": {
      "text/html": [
       "<div>\n",
       "<style scoped>\n",
       "    .dataframe tbody tr th:only-of-type {\n",
       "        vertical-align: middle;\n",
       "    }\n",
       "\n",
       "    .dataframe tbody tr th {\n",
       "        vertical-align: top;\n",
       "    }\n",
       "\n",
       "    .dataframe thead th {\n",
       "        text-align: right;\n",
       "    }\n",
       "</style>\n",
       "<table border=\"1\" class=\"dataframe\">\n",
       "  <thead>\n",
       "    <tr style=\"text-align: right;\">\n",
       "      <th></th>\n",
       "      <th>name</th>\n",
       "      <th>coord_system</th>\n",
       "      <th>length</th>\n",
       "    </tr>\n",
       "  </thead>\n",
       "  <tbody>\n",
       "    <tr>\n",
       "      <th>0</th>\n",
       "      <td>1</td>\n",
       "      <td>chromosome</td>\n",
       "      <td>275612895</td>\n",
       "    </tr>\n",
       "    <tr>\n",
       "      <th>1</th>\n",
       "      <td>10</td>\n",
       "      <td>chromosome</td>\n",
       "      <td>86447213</td>\n",
       "    </tr>\n",
       "    <tr>\n",
       "      <th>2</th>\n",
       "      <td>11</td>\n",
       "      <td>chromosome</td>\n",
       "      <td>62248096</td>\n",
       "    </tr>\n",
       "    <tr>\n",
       "      <th>3</th>\n",
       "      <td>12</td>\n",
       "      <td>chromosome</td>\n",
       "      <td>79100223</td>\n",
       "    </tr>\n",
       "    <tr>\n",
       "      <th>4</th>\n",
       "      <td>13</td>\n",
       "      <td>chromosome</td>\n",
       "      <td>83079144</td>\n",
       "    </tr>\n",
       "  </tbody>\n",
       "</table>\n",
       "</div>"
      ],
      "text/plain": [
       "  name coord_system     length\n",
       "0    1   chromosome  275612895\n",
       "1   10   chromosome   86447213\n",
       "2   11   chromosome   62248096\n",
       "3   12   chromosome   79100223\n",
       "4   13   chromosome   83079144"
      ]
     },
     "execution_count": 3,
     "metadata": {},
     "output_type": "execute_result"
    }
   ],
   "source": [
    "data = ensRest.getInfoAssembly(species=\"ovis_aries\")\n",
    "chromosomes = pd.DataFrame(list(filter(lambda record: record['coord_system'] == \"chromosome\", data[\"top_level_region\"])))\n",
    "chromosomes.head()"
   ]
  },
  {
   "cell_type": "markdown",
   "metadata": {},
   "source": [
    "A simple test to collect alignments:"
   ]
  },
  {
   "cell_type": "code",
   "execution_count": 4,
   "metadata": {},
   "outputs": [
    {
     "data": {
      "text/plain": [
       "[{'alignments': [{'strand': 1,\n",
       "    'start': 818768,\n",
       "    'description': '',\n",
       "    'seq_region': '3',\n",
       "    'species': 'capra_hircus',\n",
       "    'end': 818868,\n",
       "    'seq': 'TGGAAGCAGCAGACGCAAGCCATGCCTG--AAGCT-CTGCAGCCTCGTGGAGGGAAAGAG--A-AAGCGCCAGACCGCAGAGCCAGCTCGAG---GTGA-GGGGTCTGCTA'},\n",
       "   {'start': 37294,\n",
       "    'strand': -1,\n",
       "    'seq_region': 'Ancestor_1888_968487',\n",
       "    'description': '',\n",
       "    'seq': 'TGGAAGCAGCAGACGCAAGCCATGCCTG--AAGCT-CTGCAGCCTCGTGGAGGGAAAGAG--A-ACGCGCCAGACCGCAGAGCCAGCTCGAG---GTGA-GGGGTCTGCTA',\n",
       "    'species': 'Chir-Oari[2]',\n",
       "    'end': 37394},\n",
       "   {'start': 649900,\n",
       "    'strand': 1,\n",
       "    'description': '',\n",
       "    'seq_region': '1',\n",
       "    'seq': 'TGGAAGCAGCAGACGCAAGCCATGCCTG--AAGCT-CTGCAGCCTCGTGGAGGGAAAGAG--A-GCGCGCCAGACCGCAGAGCCAGCTCGAG---GTGA-GGGGTCTGCTA',\n",
       "    'end': 650000,\n",
       "    'species': 'ovis_aries'}],\n",
       "  'tree': '(capra_hircus_3_818768_818868[+]:0.01130222,ovis_aries_1_649900_650000[+]:0.0111331)Chir-Oari[2]:0.0169365;'}]"
      ]
     },
     "execution_count": 4,
     "metadata": {},
     "output_type": "execute_result"
    }
   ],
   "source": [
    "url = urljoin(base_url, \"alignment/region/ovis_aries/1:649900..650000\")\n",
    "params = [\n",
    "    ('method', 'EPO'),\n",
    "    ('species_set_group', 'mammals'),\n",
    "    ('display_species_set', 'ovis_aries'),\n",
    "    ('display_species_set', 'capra_hircus')\n",
    "]\n",
    "\n",
    "response = session.get(url, params=params)\n",
    "response.json()"
   ]
  },
  {
   "cell_type": "markdown",
   "metadata": {},
   "source": [
    "Ok, now try to collect some variant from 50K from the SMARTER API endpoint:"
   ]
  },
  {
   "cell_type": "code",
   "execution_count": 5,
   "metadata": {},
   "outputs": [
    {
     "name": "stderr",
     "output_type": "stream",
     "text": [
      "2024-09-05 12:40:38,378 - tskitetude.smarterapi - INFO - Initialized VariantsEndpoint with URL: https://webserver.ibba.cnr.it/smarter-api/variants/sheep/OAR3\n"
     ]
    },
    {
     "name": "stdout",
     "output_type": "stream",
     "text": [
      "<class 'pandas.core.frame.DataFrame'>\n",
      "RangeIndex: 90 entries, 0 to 89\n",
      "Data columns (total 23 columns):\n",
      " #   Column                            Non-Null Count  Dtype \n",
      "---  ------                            --------------  ----- \n",
      " 0   affy_snp_id                       88 non-null     object\n",
      " 1   chip_name                         90 non-null     object\n",
      " 2   cust_id                           69 non-null     object\n",
      " 3   name                              90 non-null     object\n",
      " 4   probesets                         88 non-null     object\n",
      " 5   rs_id                             90 non-null     object\n",
      " 6   _id.$oid                          90 non-null     object\n",
      " 7   locations.alleles                 90 non-null     object\n",
      " 8   locations.chrom                   90 non-null     object\n",
      " 9   locations.illumina                90 non-null     object\n",
      " 10  locations.illumina_forward        90 non-null     object\n",
      " 11  locations.illumina_strand         86 non-null     object\n",
      " 12  locations.illumina_top            90 non-null     object\n",
      " 13  locations.imported_from           90 non-null     object\n",
      " 14  locations.position                90 non-null     int64 \n",
      " 15  locations.ss_id                   90 non-null     object\n",
      " 16  locations.strand                  90 non-null     object\n",
      " 17  locations.version                 90 non-null     object\n",
      " 18  sequence.AffymetrixAxiomBGovis2   76 non-null     object\n",
      " 19  sequence.AffymetrixAxiomBGovisNP  84 non-null     object\n",
      " 20  sequence.AffymetrixAxiomOviCan    73 non-null     object\n",
      " 21  sequence.IlluminaOvineHDSNP       71 non-null     object\n",
      " 22  sequence.IlluminaOvineSNP50       90 non-null     object\n",
      "dtypes: int64(1), object(22)\n",
      "memory usage: 16.3+ KB\n"
     ]
    }
   ],
   "source": [
    "variant_api = VariantsEndpoint(species=\"Sheep\", assembly=\"OAR3\")\n",
    "\n",
    "region = \"1:1-5000000\"\n",
    "chip_name = \"IlluminaOvineSNP50\"\n",
    "\n",
    "data = variant_api.get_variants(chip_name=chip_name, region=region)\n",
    "page = page = data[\"page\"]\n",
    "variants = pd.json_normalize(data[\"items\"])\n",
    "\n",
    "while data[\"next\"] is not None:\n",
    "    data = variant_api.get_variants(chip_name=chip_name, region=region, page=page+1)\n",
    "    df_page = pd.json_normalize(data[\"items\"])\n",
    "    page = data[\"page\"]\n",
    "    variants = pd.concat([variants, df_page], ignore_index=True)\n",
    "\n",
    "variants.info()"
   ]
  },
  {
   "cell_type": "markdown",
   "metadata": {},
   "source": [
    "Get a sample of the positions of the selected variants:"
   ]
  },
  {
   "cell_type": "code",
   "execution_count": 6,
   "metadata": {},
   "outputs": [
    {
     "data": {
      "text/html": [
       "<div>\n",
       "<style scoped>\n",
       "    .dataframe tbody tr th:only-of-type {\n",
       "        vertical-align: middle;\n",
       "    }\n",
       "\n",
       "    .dataframe tbody tr th {\n",
       "        vertical-align: top;\n",
       "    }\n",
       "\n",
       "    .dataframe thead th {\n",
       "        text-align: right;\n",
       "    }\n",
       "</style>\n",
       "<table border=\"1\" class=\"dataframe\">\n",
       "  <thead>\n",
       "    <tr style=\"text-align: right;\">\n",
       "      <th></th>\n",
       "      <th>rs_id</th>\n",
       "      <th>locations.chrom</th>\n",
       "      <th>locations.position</th>\n",
       "      <th>locations.alleles</th>\n",
       "    </tr>\n",
       "  </thead>\n",
       "  <tbody>\n",
       "    <tr>\n",
       "      <th>0</th>\n",
       "      <td>[rs430360910]</td>\n",
       "      <td>1</td>\n",
       "      <td>52854</td>\n",
       "      <td>A/G</td>\n",
       "    </tr>\n",
       "    <tr>\n",
       "      <th>1</th>\n",
       "      <td>[rs402427398]</td>\n",
       "      <td>1</td>\n",
       "      <td>81978</td>\n",
       "      <td>C/G</td>\n",
       "    </tr>\n",
       "    <tr>\n",
       "      <th>2</th>\n",
       "      <td>[rs413624639]</td>\n",
       "      <td>1</td>\n",
       "      <td>120098</td>\n",
       "      <td>C/T</td>\n",
       "    </tr>\n",
       "    <tr>\n",
       "      <th>3</th>\n",
       "      <td>[rs424810706]</td>\n",
       "      <td>1</td>\n",
       "      <td>204694</td>\n",
       "      <td>A/G</td>\n",
       "    </tr>\n",
       "    <tr>\n",
       "      <th>4</th>\n",
       "      <td>[rs55630911]</td>\n",
       "      <td>1</td>\n",
       "      <td>315497</td>\n",
       "      <td>A/G</td>\n",
       "    </tr>\n",
       "  </tbody>\n",
       "</table>\n",
       "</div>"
      ],
      "text/plain": [
       "           rs_id locations.chrom  locations.position locations.alleles\n",
       "0  [rs430360910]               1               52854               A/G\n",
       "1  [rs402427398]               1               81978               C/G\n",
       "2  [rs413624639]               1              120098               C/T\n",
       "3  [rs424810706]               1              204694               A/G\n",
       "4   [rs55630911]               1              315497               A/G"
      ]
     },
     "execution_count": 6,
     "metadata": {},
     "output_type": "execute_result"
    }
   ],
   "source": [
    "variants[[\"rs_id\", \"locations.chrom\", \"locations.position\", \"locations.alleles\"]].head()"
   ]
  },
  {
   "cell_type": "markdown",
   "metadata": {},
   "source": [
    "Get an helper object to query ensemble compara:"
   ]
  },
  {
   "cell_type": "code",
   "execution_count": 7,
   "metadata": {},
   "outputs": [
    {
     "name": "stderr",
     "output_type": "stream",
     "text": [
      "2024-09-05 12:40:38,584 - tskitetude.ensembl - INFO - Using base URL: https://nov2020.rest.ensembl.org\n"
     ]
    }
   ],
   "source": [
    "compara = ComparaSheepSNP(base_url=base_url)"
   ]
  },
  {
   "cell_type": "markdown",
   "metadata": {},
   "source": [
    "Now try to collect ancestor alleles from alignments:"
   ]
  },
  {
   "cell_type": "code",
   "execution_count": 8,
   "metadata": {},
   "outputs": [
    {
     "data": {
      "application/vnd.jupyter.widget-view+json": {
       "model_id": "d8a0a959a2fe41e58ee95d9b73614aa8",
       "version_major": 2,
       "version_minor": 0
      },
      "text/plain": [
       "  0%|          | 0/90 [00:00<?, ?it/s]"
      ]
     },
     "metadata": {},
     "output_type": "display_data"
    }
   ],
   "source": [
    "results = []\n",
    "for idx, variant in tqdm(variants.iterrows(), total=variants.shape[0]):\n",
    "    ancestor = compara.get_ancestor(chrom=variant[\"locations.chrom\"], position=variant[\"locations.position\"])\n",
    "    results.append(ancestor)"
   ]
  },
  {
   "cell_type": "markdown",
   "metadata": {},
   "source": [
    "Get only ancestor allele when an alignment is found:"
   ]
  },
  {
   "cell_type": "code",
   "execution_count": 9,
   "metadata": {},
   "outputs": [],
   "source": [
    "ancestor_alleles = [None if result is None else result[\"seq\"] for result in results]"
   ]
  },
  {
   "cell_type": "markdown",
   "metadata": {},
   "source": [
    "Add ancestor allele to the variant dataframe:"
   ]
  },
  {
   "cell_type": "code",
   "execution_count": 10,
   "metadata": {},
   "outputs": [
    {
     "data": {
      "text/html": [
       "<div>\n",
       "<style scoped>\n",
       "    .dataframe tbody tr th:only-of-type {\n",
       "        vertical-align: middle;\n",
       "    }\n",
       "\n",
       "    .dataframe tbody tr th {\n",
       "        vertical-align: top;\n",
       "    }\n",
       "\n",
       "    .dataframe thead th {\n",
       "        text-align: right;\n",
       "    }\n",
       "</style>\n",
       "<table border=\"1\" class=\"dataframe\">\n",
       "  <thead>\n",
       "    <tr style=\"text-align: right;\">\n",
       "      <th></th>\n",
       "      <th>rs_id</th>\n",
       "      <th>locations.chrom</th>\n",
       "      <th>locations.position</th>\n",
       "      <th>locations.alleles</th>\n",
       "      <th>ancestor_alleles</th>\n",
       "    </tr>\n",
       "  </thead>\n",
       "  <tbody>\n",
       "    <tr>\n",
       "      <th>16</th>\n",
       "      <td>[rs399425964]</td>\n",
       "      <td>1</td>\n",
       "      <td>1193562</td>\n",
       "      <td>C/T</td>\n",
       "      <td>C</td>\n",
       "    </tr>\n",
       "    <tr>\n",
       "      <th>17</th>\n",
       "      <td>[rs404997262]</td>\n",
       "      <td>1</td>\n",
       "      <td>1245222</td>\n",
       "      <td>A/G</td>\n",
       "      <td>T</td>\n",
       "    </tr>\n",
       "    <tr>\n",
       "      <th>18</th>\n",
       "      <td>[rs430138341]</td>\n",
       "      <td>1</td>\n",
       "      <td>1390945</td>\n",
       "      <td>A/C</td>\n",
       "      <td>T</td>\n",
       "    </tr>\n",
       "    <tr>\n",
       "      <th>19</th>\n",
       "      <td>[rs401390747]</td>\n",
       "      <td>1</td>\n",
       "      <td>1406764</td>\n",
       "      <td>C/G</td>\n",
       "      <td>G</td>\n",
       "    </tr>\n",
       "    <tr>\n",
       "      <th>20</th>\n",
       "      <td>[rs398738941]</td>\n",
       "      <td>1</td>\n",
       "      <td>1513820</td>\n",
       "      <td>A/G</td>\n",
       "      <td>T</td>\n",
       "    </tr>\n",
       "  </tbody>\n",
       "</table>\n",
       "</div>"
      ],
      "text/plain": [
       "            rs_id locations.chrom  locations.position locations.alleles  \\\n",
       "16  [rs399425964]               1             1193562               C/T   \n",
       "17  [rs404997262]               1             1245222               A/G   \n",
       "18  [rs430138341]               1             1390945               A/C   \n",
       "19  [rs401390747]               1             1406764               C/G   \n",
       "20  [rs398738941]               1             1513820               A/G   \n",
       "\n",
       "   ancestor_alleles  \n",
       "16                C  \n",
       "17                T  \n",
       "18                T  \n",
       "19                G  \n",
       "20                T  "
      ]
     },
     "execution_count": 10,
     "metadata": {},
     "output_type": "execute_result"
    }
   ],
   "source": [
    "variants[\"ancestor_alleles\"] = ancestor_alleles\n",
    "filtered_variants = variants[variants[\"ancestor_alleles\"].notna()]\n",
    "filtered_variants[[\"rs_id\", \"locations.chrom\", \"locations.position\", \"locations.alleles\", \"ancestor_alleles\"]].head()"
   ]
  },
  {
   "cell_type": "markdown",
   "metadata": {},
   "source": [
    "Please note that I can collect an ancestral allele which is not present in the alleles itself"
   ]
  },
  {
   "cell_type": "code",
   "execution_count": null,
   "metadata": {},
   "outputs": [],
   "source": []
  }
 ],
 "metadata": {
  "kernelspec": {
   "display_name": "Python 3 (ipykernel)",
   "language": "python",
   "name": "python3"
  },
  "language_info": {
   "codemirror_mode": {
    "name": "ipython",
    "version": 3
   },
   "file_extension": ".py",
   "mimetype": "text/x-python",
   "name": "python",
   "nbconvert_exporter": "python",
   "pygments_lexer": "ipython3",
   "version": "3.9.16"
  }
 },
 "nbformat": 4,
 "nbformat_minor": 2
}
