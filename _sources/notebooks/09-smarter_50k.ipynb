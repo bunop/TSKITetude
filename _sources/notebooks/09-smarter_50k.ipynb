{
 "cells": [
  {
   "cell_type": "markdown",
   "metadata": {},
   "source": [
    "# SMARTER 50K\n",
    "\n",
    "This is an attempt to test tstree with different 50K data. A single example of\n",
    "50 samples is described in `notebooks/03-smarter_database.ipynb`. Here we want\n",
    "to select different breeds from 50K and test how the tstree will results"
   ]
  },
  {
   "cell_type": "code",
   "execution_count": 1,
   "metadata": {},
   "outputs": [],
   "source": [
    "import numpy as np\n",
    "import pandas as pd\n",
    "import seaborn as sns\n",
    "import matplotlib.pyplot as plt\n",
    "\n",
    "from tskitetude import get_data_dir\n",
    "from tskitetude.smarterapi import SheepEndpoint"
   ]
  },
  {
   "cell_type": "markdown",
   "metadata": {},
   "source": [
    "Collect all sheep samples from 50K:"
   ]
  },
  {
   "cell_type": "code",
   "execution_count": 2,
   "metadata": {},
   "outputs": [
    {
     "name": "stdout",
     "output_type": "stream",
     "text": [
      "<class 'pandas.core.frame.DataFrame'>\n",
      "RangeIndex: 5892 entries, 0 to 5891\n",
      "Data columns (total 17 columns):\n",
      " #   Column       Non-Null Count  Dtype  \n",
      "---  ------       --------------  -----  \n",
      " 0   _id          5892 non-null   object \n",
      " 1   breed        5892 non-null   object \n",
      " 2   breed_code   5892 non-null   object \n",
      " 3   chip_name    5892 non-null   object \n",
      " 4   country      5892 non-null   object \n",
      " 5   dataset_id   5892 non-null   object \n",
      " 6   locations    4849 non-null   object \n",
      " 7   metadata     4878 non-null   object \n",
      " 8   original_id  5892 non-null   object \n",
      " 9   phenotype    577 non-null    object \n",
      " 10  smarter_id   5892 non-null   object \n",
      " 11  species      5892 non-null   object \n",
      " 12  type         5892 non-null   object \n",
      " 13  father_id    58 non-null     object \n",
      " 14  mother_id    58 non-null     object \n",
      " 15  sex          501 non-null    float64\n",
      " 16  alias        156 non-null    object \n",
      "dtypes: float64(1), object(16)\n",
      "memory usage: 782.7+ KB\n"
     ]
    }
   ],
   "source": [
    "sheep_api = SheepEndpoint()\n",
    "\n",
    "data = sheep_api.get_samples(chip_name=\"IlluminaOvineSNP50\")\n",
    "page = page = data[\"page\"]\n",
    "sheep = pd.DataFrame(data[\"items\"])\n",
    "\n",
    "while data[\"next\"] is not None:\n",
    "    data = sheep_api.get_samples(page=page+1, _type=\"background\")\n",
    "    df_page = pd.DataFrame(data[\"items\"])\n",
    "    page = data[\"page\"]\n",
    "    sheep = pd.concat([sheep, df_page], ignore_index=True)\n",
    "\n",
    "sheep.info()"
   ]
  },
  {
   "cell_type": "markdown",
   "metadata": {},
   "source": [
    "Count how many samples I have by breed:"
   ]
  },
  {
   "cell_type": "code",
   "execution_count": 3,
   "metadata": {},
   "outputs": [
    {
     "data": {
      "text/html": [
       "<div>\n",
       "<style scoped>\n",
       "    .dataframe tbody tr th:only-of-type {\n",
       "        vertical-align: middle;\n",
       "    }\n",
       "\n",
       "    .dataframe tbody tr th {\n",
       "        vertical-align: top;\n",
       "    }\n",
       "\n",
       "    .dataframe thead th {\n",
       "        text-align: right;\n",
       "    }\n",
       "</style>\n",
       "<table border=\"1\" class=\"dataframe\">\n",
       "  <thead>\n",
       "    <tr style=\"text-align: right;\">\n",
       "      <th></th>\n",
       "      <th>breed_code</th>\n",
       "      <th>count</th>\n",
       "    </tr>\n",
       "  </thead>\n",
       "  <tbody>\n",
       "    <tr>\n",
       "      <th>0</th>\n",
       "      <td>AAW</td>\n",
       "      <td>24</td>\n",
       "    </tr>\n",
       "    <tr>\n",
       "      <th>1</th>\n",
       "      <td>ADP</td>\n",
       "      <td>21</td>\n",
       "    </tr>\n",
       "    <tr>\n",
       "      <th>2</th>\n",
       "      <td>AFS</td>\n",
       "      <td>37</td>\n",
       "    </tr>\n",
       "    <tr>\n",
       "      <th>3</th>\n",
       "      <td>AIM</td>\n",
       "      <td>88</td>\n",
       "    </tr>\n",
       "    <tr>\n",
       "      <th>4</th>\n",
       "      <td>ALP</td>\n",
       "      <td>24</td>\n",
       "    </tr>\n",
       "    <tr>\n",
       "      <th>...</th>\n",
       "      <td>...</td>\n",
       "      <td>...</td>\n",
       "    </tr>\n",
       "    <tr>\n",
       "      <th>204</th>\n",
       "      <td>WIL</td>\n",
       "      <td>23</td>\n",
       "    </tr>\n",
       "    <tr>\n",
       "      <th>205</th>\n",
       "      <td>WMH</td>\n",
       "      <td>24</td>\n",
       "    </tr>\n",
       "    <tr>\n",
       "      <th>206</th>\n",
       "      <td>XIS</td>\n",
       "      <td>24</td>\n",
       "    </tr>\n",
       "    <tr>\n",
       "      <th>207</th>\n",
       "      <td>ZEL</td>\n",
       "      <td>24</td>\n",
       "    </tr>\n",
       "    <tr>\n",
       "      <th>208</th>\n",
       "      <td>ZUJ</td>\n",
       "      <td>5</td>\n",
       "    </tr>\n",
       "  </tbody>\n",
       "</table>\n",
       "<p>209 rows × 2 columns</p>\n",
       "</div>"
      ],
      "text/plain": [
       "    breed_code  count\n",
       "0          AAW     24\n",
       "1          ADP     21\n",
       "2          AFS     37\n",
       "3          AIM     88\n",
       "4          ALP     24\n",
       "..         ...    ...\n",
       "204        WIL     23\n",
       "205        WMH     24\n",
       "206        XIS     24\n",
       "207        ZEL     24\n",
       "208        ZUJ      5\n",
       "\n",
       "[209 rows x 2 columns]"
      ]
     },
     "execution_count": 3,
     "metadata": {},
     "output_type": "execute_result"
    }
   ],
   "source": [
    "sheep_count = sheep.groupby('breed_code').size().reset_index(name='count')\n",
    "sheep_count"
   ]
  },
  {
   "cell_type": "markdown",
   "metadata": {},
   "source": [
    "Plot count distribution:"
   ]
  },
  {
   "cell_type": "code",
   "execution_count": 4,
   "metadata": {},
   "outputs": [
    {
     "data": {
      "image/png": "[encoded data removed]",
      "text/plain": [
       "<Figure size 1200x600 with 1 Axes>"
      ]
     },
     "metadata": {},
     "output_type": "display_data"
    }
   ],
   "source": [
    "fig, ax = plt.subplots(figsize=(12, 6))\n",
    "sns.histplot(data=sheep_count, x='count', kde=True, binwidth=10, ax=ax)\n",
    "plt.show()"
   ]
  },
  {
   "cell_type": "markdown",
   "metadata": {},
   "source": [
    "The majority of the breed have <= 50 samples. Try to focus to the higher column,\n",
    "for example where counts > 20 and <=30:"
   ]
  },
  {
   "cell_type": "code",
   "execution_count": 5,
   "metadata": {},
   "outputs": [
    {
     "name": "stdout",
     "output_type": "stream",
     "text": [
      "There are 84 breeds having samples between 20 and 30\n"
     ]
    }
   ],
   "source": [
    "selected = sheep_count[(sheep_count['count'] <= 30) & (sheep_count['count'] > 20)]\n",
    "print(f\"There are {selected['count'].shape[0]} breeds having samples between 20 and 30\")"
   ]
  },
  {
   "cell_type": "markdown",
   "metadata": {},
   "source": [
    "Now extract randomly a certain number of breeds and make a CSV file that I can use\n",
    "to extract genotypes using `nf-treeseq` pipeline:"
   ]
  },
  {
   "cell_type": "code",
   "execution_count": 6,
   "metadata": {},
   "outputs": [],
   "source": [
    "np.random.seed(42)\n",
    "repeats = 5\n",
    "breed_size = [1, 2, 5, 10, 15, 20]\n",
    "\n",
    "for i in breed_size:\n",
    "    for j in range(repeats):\n",
    "        sample = selected['breed_code'].sample(n=i, replace=False)\n",
    "        filename = f\"{i}_breeds-{j}-50K.csv\"\n",
    "        sample_df = sheep[sheep['breed_code'].isin(sample)]\n",
    "        sample_df[[\"breed_code\", \"smarter_id\"]].to_csv(get_data_dir() / filename, index=False, header=False, sep=\"\\t\")"
   ]
  },
  {
   "cell_type": "markdown",
   "metadata": {},
   "source": []
  }
 ],
 "metadata": {
  "kernelspec": {
   "display_name": "Python 3 (ipykernel)",
   "language": "python",
   "name": "python3"
  },
  "language_info": {
   "codemirror_mode": {
    "name": "ipython",
    "version": 3
   },
   "file_extension": ".py",
   "mimetype": "text/x-python",
   "name": "python",
   "nbconvert_exporter": "python",
   "pygments_lexer": "ipython3",
   "version": "3.9.16"
  }
 },
 "nbformat": 4,
 "nbformat_minor": 2
}
