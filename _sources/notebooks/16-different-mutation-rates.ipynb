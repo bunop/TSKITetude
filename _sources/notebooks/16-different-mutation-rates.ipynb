{
 "cells": [
  {
   "cell_type": "markdown",
   "id": "b55b69d1",
   "metadata": {},
   "source": [
    "# Test TreeSequences with different mutation rates\n",
    "\n",
    "Load a tree sequence object and try to change the mutation rate."
   ]
  },
  {
   "cell_type": "code",
   "execution_count": null,
   "id": "6fdf285a",
   "metadata": {},
   "outputs": [],
   "source": [
    "import numpy as np\n",
    "import msprime\n",
    "import tskit\n",
    "\n",
    "from tskitetude import get_data_dir"
   ]
  },
  {
   "cell_type": "markdown",
   "id": "9bc41135",
   "metadata": {},
   "source": [
    "Now load the tree sequence file generated with *msprime*"
   ]
  },
  {
   "cell_type": "code",
   "execution_count": null,
   "id": "c69e3b79",
   "metadata": {},
   "outputs": [],
   "source": [
    "tsm100M300I = tskit.load(get_data_dir() / \"sheepTSsimMilano/tsm100M300I.trees\")\n",
    "tsm100M300I"
   ]
  },
  {
   "cell_type": "markdown",
   "id": "b4cfa30a",
   "metadata": {},
   "source": [
    "cut first `1MB` from the treesequence object: remember to trim the right sequence\n",
    "(with no data)"
   ]
  },
  {
   "cell_type": "code",
   "execution_count": null,
   "id": "6242bb87",
   "metadata": {},
   "outputs": [],
   "source": [
    "intervals = np.array([[1, 1_000_000]])\n",
    "tsm1M300I = tsm100M300I.keep_intervals(intervals).rtrim()\n",
    "tsm1M300I"
   ]
  },
  {
   "cell_type": "code",
   "execution_count": null,
   "id": "f63a6966",
   "metadata": {},
   "outputs": [],
   "source": [
    "n_mutations = sum(1 for m in tsm1M300I.mutations())\n",
    "print(f\"Number of mutations in tsm1M300I: {n_mutations}\")"
   ]
  },
  {
   "cell_type": "markdown",
   "id": "f9b42f14",
   "metadata": {},
   "source": [
    "Attempt to remove the mutations: collect the tables, remove mutations and generate a new tree sequence:"
   ]
  },
  {
   "cell_type": "code",
   "execution_count": null,
   "id": "4445a053",
   "metadata": {},
   "outputs": [],
   "source": [
    "tables = tsm1M300I.tables\n",
    "tables.mutations.clear()\n",
    "tsm1M300I_no_mutations = tables.tree_sequence()\n",
    "tsm1M300I_no_mutations"
   ]
  },
  {
   "cell_type": "markdown",
   "id": "90aba79d",
   "metadata": {},
   "source": [
    "Now generate TS objects with mutations:"
   ]
  },
  {
   "cell_type": "code",
   "execution_count": null,
   "id": "0adde855",
   "metadata": {},
   "outputs": [],
   "source": [
    "mu = 5.87e-9\n",
    "mutations = [0.1, 0.5, 2, 10]\n",
    "mutation_rates = [mutation * mu for mutation in mutations]\n",
    "\n",
    "def simulate_mutations(ts, mutation_rate):\n",
    "    return(msprime.sim_mutations(ts, rate=mutation_rate, random_seed=42))\n",
    "\n",
    "simulated_trees = [simulate_mutations(tsm1M300I_no_mutations, mutation_rate) for mutation_rate in mutation_rates]\n"
   ]
  },
  {
   "cell_type": "markdown",
   "id": "26e129df",
   "metadata": {},
   "source": [
    "inspect a simulated tree:"
   ]
  },
  {
   "cell_type": "code",
   "execution_count": null,
   "id": "9eca5554",
   "metadata": {},
   "outputs": [],
   "source": [
    "simulated_trees[0]"
   ]
  },
  {
   "cell_type": "code",
   "execution_count": null,
   "id": "6186c36b",
   "metadata": {},
   "outputs": [],
   "source": [
    "for idx, ts in enumerate(simulated_trees):\n",
    "    outfile = get_data_dir() / \"sheepTSsimMilano\" / f\"tsm1M300I_{mutations[idx]}mu.trees\"\n",
    "    ts.dump(outfile)\n",
    "    print(f\"Dumped {outfile}\")"
   ]
  },
  {
   "cell_type": "code",
   "execution_count": null,
   "id": "1ce5eab0",
   "metadata": {},
   "outputs": [],
   "source": []
  }
 ],
 "metadata": {
  "kernelspec": {
   "display_name": "Python 3",
   "language": "python",
   "name": "python3"
  },
  "language_info": {
   "codemirror_mode": {
    "name": "ipython",
    "version": 3
   },
   "file_extension": ".py",
   "mimetype": "text/x-python",
   "name": "python",
   "nbconvert_exporter": "python",
   "pygments_lexer": "ipython3",
   "version": "3.10.15"
  }
 },
 "nbformat": 4,
 "nbformat_minor": 5
}
