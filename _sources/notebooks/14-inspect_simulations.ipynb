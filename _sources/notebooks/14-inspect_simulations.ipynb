{
 "cells": [
  {
   "cell_type": "markdown",
   "metadata": {},
   "source": [
    "# Analyze the simulated data\n",
    "\n",
    "## Simulation on 2K SNPs"
   ]
  },
  {
   "cell_type": "code",
   "execution_count": null,
   "metadata": {},
   "outputs": [],
   "source": [
    "import numpy as np\n",
    "import pandas as pd\n",
    "\n",
    "import tskit\n",
    "\n",
    "from tskitetude import get_data_dir"
   ]
  },
  {
   "cell_type": "markdown",
   "metadata": {},
   "source": [
    "Analyze the `data/sheepTSsimMilano/ts300I2k.vcf.gz` generated using msprime. Get a list of all sample names from VCF file:\n",
    "\n",
    "```bash\n",
    "export TSKIT_DIR=${PWD}\n",
    "cd data/sheepTSsimMilano/\n",
    "bcftools query -l ts300I2k.vcf.gz > ts300I2k.sample_names.txt\n",
    "```"
   ]
  },
  {
   "cell_type": "markdown",
   "metadata": {},
   "source": [
    "Now add population information to the sample names, and then write them into a file:"
   ]
  },
  {
   "cell_type": "code",
   "execution_count": null,
   "metadata": {},
   "outputs": [],
   "source": [
    "with open(get_data_dir() / \"sheepTSsimMilano\" / \"ts300I2k.sample_names.txt\") as f:\n",
    "    sample_names = f.read().splitlines()\n",
    "\n",
    "pop_names = [\"MM\", \"II\", \"A\", \"B\", \"C\", \"D\", \"E\", \"F\", \"G\"]\n",
    "\n",
    "# create a column for FID\n",
    "fids = [pop_names[0]] * 5 + [pop_name for pop_name in pop_names[1:] for _ in range(300)]\n",
    "sample_names = pd.DataFrame({\"FID\": fids, \"IID\": sample_names})\n",
    "\n",
    "sample_names.to_csv(\n",
    "    get_data_dir() / \"sheepTSsimMilano\" / \"ts300I2k.sample_names_fid.csv\",\n",
    "    sep=\"\\t\",\n",
    "    index=False,\n",
    "    header=False\n",
    ")"
   ]
  },
  {
   "cell_type": "markdown",
   "metadata": {},
   "source": [
    "Analyze the `data/sheepTSsimMilano/ts300I2k.vcf.gz` generated using msprime. Call the `create_tstree` with the following parameters:\n",
    "\n",
    "```bash\n",
    "create_tstree --vcf ts300I2k.vcf.gz --focal ts300I2k.sample_names_fid.csv --ancestral_as_reference \\\n",
    "    --output_samples ts300I2k.inferred.samples --output_trees ts300I2k.inferred.trees --num_threads 16 \\\n",
    "    --mutation_rate 5.87e-9 --ne 34500\n",
    "```\n",
    "\n",
    "The `5.87-9` and `34500` are the mutation rate and effective population size respectively. The `--ancestral_as_reference` flag is used to treat the ancestral allele as the reference allele. The `--num_threads 4` flag is used to specify the number of threads to use. The `--output_samples` flag is used to specify the output file for the inferred samples. The `--output_trees` flag is used to specify the output file for the inferred trees. "
   ]
  },
  {
   "cell_type": "code",
   "execution_count": null,
   "metadata": {},
   "outputs": [],
   "source": [
    "mutation_rate = 5.87e-9\n",
    "print(\"Mutation rate: \", mutation_rate)"
   ]
  },
  {
   "cell_type": "code",
   "execution_count": null,
   "metadata": {},
   "outputs": [],
   "source": [
    "ts300I2k = tskit.load(get_data_dir() / \"sheepTSsimMilano/ts300I2k.inferred.trees\")\n",
    "ts300I2k"
   ]
  },
  {
   "cell_type": "code",
   "execution_count": null,
   "metadata": {},
   "outputs": [],
   "source": [
    "ts300I2k.diversity()"
   ]
  },
  {
   "cell_type": "code",
   "execution_count": null,
   "metadata": {},
   "outputs": [],
   "source": [
    "ts300I2k.diversity(mode=\"branch\") * mutation_rate"
   ]
  },
  {
   "cell_type": "markdown",
   "metadata": {},
   "source": [
    "## Simulation on 25K SNPs\n",
    "\n",
    "Get sample names (should be equal to previous run):\n",
    "\n",
    "```bash\n",
    "bcftools query -l ts300I25k.vcf.gz > ts300I25k.sample_names.txt\n",
    "```"
   ]
  },
  {
   "cell_type": "markdown",
   "metadata": {},
   "source": [
    "Now add population information to the sample names, and then write them into a file:"
   ]
  },
  {
   "cell_type": "code",
   "execution_count": null,
   "metadata": {},
   "outputs": [],
   "source": [
    "with open(get_data_dir() / \"sheepTSsimMilano\" / \"ts300I25k.sample_names.txt\") as f:\n",
    "    sample_names = f.read().splitlines()\n",
    "\n",
    "pop_names = [\"MM\", \"II\", \"A\", \"B\", \"C\", \"D\", \"E\", \"F\", \"G\"]\n",
    "\n",
    "# create a column for FID\n",
    "fids = [pop_names[0]] * 5 + [pop_name for pop_name in pop_names[1:] for _ in range(300)]\n",
    "sample_names = pd.DataFrame({\"FID\": fids, \"IID\": sample_names})\n",
    "\n",
    "sample_names.to_csv(\n",
    "    get_data_dir() / \"sheepTSsimMilano\" / \"ts300I25k.sample_names_fid.csv\",\n",
    "    sep=\"\\t\",\n",
    "    index=False,\n",
    "    header=False\n",
    ")"
   ]
  },
  {
   "cell_type": "markdown",
   "metadata": {},
   "source": [
    "Generate tree:\n",
    "\n",
    "```bash\n",
    "create_tstree --vcf ts300I25k.vcf.gz --focal ts300I25k.sample_names_fid.csv --ancestral_as_reference \\\n",
    "    --output_samples ts300I25k.inferred.samples --output_trees ts300I25k.inferred.trees --num_threads 16 \\\n",
    "    --mutation_rate 5.87e-9 --ne 34500\n",
    "```"
   ]
  },
  {
   "cell_type": "code",
   "execution_count": null,
   "metadata": {},
   "outputs": [],
   "source": [
    "ts300I25k = tskit.load(get_data_dir() / \"sheepTSsimMilano/ts300I25k.inferred.trees\")\n",
    "ts300I25k"
   ]
  },
  {
   "cell_type": "code",
   "execution_count": null,
   "metadata": {},
   "outputs": [],
   "source": [
    "ts300I25k.diversity()"
   ]
  },
  {
   "cell_type": "code",
   "execution_count": null,
   "metadata": {},
   "outputs": [],
   "source": [
    "ts300I25k.diversity(mode=\"branch\") * mutation_rate"
   ]
  },
  {
   "cell_type": "markdown",
   "metadata": {},
   "source": [
    "## Simulation on entire dataset\n",
    "\n",
    "Get samples names (like we did before):\n",
    "\n",
    "```bash\n",
    "bbcftools query -l tsm100M300I.vcf.gz > tsm100M300I.sample_names.txt\n",
    "```"
   ]
  },
  {
   "cell_type": "markdown",
   "metadata": {},
   "source": [
    "Now add population information to the sample names, and then write them into a file:"
   ]
  },
  {
   "cell_type": "code",
   "execution_count": null,
   "metadata": {},
   "outputs": [],
   "source": [
    "with open(get_data_dir() / \"sheepTSsimMilano\" / \"tsm100M300I.sample_names.txt\") as f:\n",
    "    sample_names = f.read().splitlines()\n",
    "\n",
    "pop_names = [\"MM\", \"II\", \"A\", \"B\", \"C\", \"D\", \"E\", \"F\", \"G\"]\n",
    "\n",
    "# create a column for FID\n",
    "fids = [pop_names[0]] * 5 + [pop_name for pop_name in pop_names[1:] for _ in range(300)]\n",
    "sample_names = pd.DataFrame({\"FID\": fids, \"IID\": sample_names})\n",
    "\n",
    "sample_names.to_csv(\n",
    "    get_data_dir() / \"sheepTSsimMilano\" / \"tsm100M300I.sample_names_fid.csv\",\n",
    "    sep=\"\\t\",\n",
    "    index=False,\n",
    "    header=False\n",
    ")"
   ]
  },
  {
   "cell_type": "markdown",
   "metadata": {},
   "source": [
    "This step will require a lot of time: Submit the job to the cluster:\n",
    "\n",
    "```bash\n",
    "cd ${TSKIT_DIR}\n",
    "sbatch scripts/simulation-tsm100M300I.sh\n",
    "```"
   ]
  },
  {
   "cell_type": "code",
   "execution_count": null,
   "metadata": {},
   "outputs": [],
   "source": [
    "tsm100M300I = tskit.load(get_data_dir() / \"sheepTSsimMilano/tsm100M300I.inferred.trees\")\n",
    "tsm100M300I"
   ]
  },
  {
   "cell_type": "code",
   "execution_count": null,
   "metadata": {},
   "outputs": [],
   "source": [
    "tsm100M300I.diversity()"
   ]
  },
  {
   "cell_type": "code",
   "execution_count": null,
   "metadata": {},
   "outputs": [],
   "source": [
    "tsm100M300I.diversity(mode=\"branch\") * mutation_rate"
   ]
  },
  {
   "cell_type": "markdown",
   "metadata": {},
   "source": [
    "## Calculate FST\n",
    "define individuals list:"
   ]
  },
  {
   "cell_type": "code",
   "execution_count": null,
   "metadata": {},
   "outputs": [],
   "source": [
    "indList = [np.arange(10)] + [np.arange(600*i+10, 600*(i+1)+10) for i in range(8)]"
   ]
  },
  {
   "cell_type": "code",
   "execution_count": null,
   "metadata": {},
   "outputs": [],
   "source": [
    "[i.Fst([indList[0], indList[1]], mode=\"branch\") for i in [ts300I2k, ts300I25k, tsm100M300I]]\n"
   ]
  },
  {
   "cell_type": "markdown",
   "metadata": {},
   "source": [
    "And then with `site` mode:"
   ]
  },
  {
   "cell_type": "code",
   "execution_count": null,
   "metadata": {},
   "outputs": [],
   "source": [
    "[i.Fst([indList[0], indList[1]], mode=\"site\") for i in [ts300I2k, ts300I25k, tsm100M300I]]\n"
   ]
  },
  {
   "cell_type": "code",
   "execution_count": null,
   "metadata": {},
   "outputs": [],
   "source": [
    "tmp = {\n",
    "    \"simulation\": [\"ts300I2k\", \"ts300I25k\", \"tsm100M300I\"],\n",
    "    \"diversity\": [ts300I2k.diversity(), ts300I25k.diversity(), tsm100M300I.diversity()],\n",
    "    \"diversity_branch\": [\n",
    "        ts300I2k.diversity(mode=\"branch\") * mutation_rate,\n",
    "        ts300I25k.diversity(mode=\"branch\") * mutation_rate,\n",
    "        tsm100M300I.diversity(mode=\"branch\") * mutation_rate\n",
    "    ],\n",
    "    \"FST_branch\": [i.Fst([indList[0], indList[1]], mode=\"branch\") for i in [ts300I2k, ts300I25k, tsm100M300I]],\n",
    "    \"FST_site\": [i.Fst([indList[0], indList[1]], mode=\"site\") for i in [ts300I2k, ts300I25k, tsm100M300I]]\n",
    "}\n",
    "pd.DataFrame(tmp)"
   ]
  },
  {
   "cell_type": "code",
   "execution_count": null,
   "metadata": {},
   "outputs": [],
   "source": [
    "tree = ts300I2k.at_index(1)\n",
    "tree.draw_svg(y_axis=True, size=(1000, 200))"
   ]
  },
  {
   "cell_type": "code",
   "execution_count": null,
   "metadata": {},
   "outputs": [],
   "source": [
    "tree.root"
   ]
  },
  {
   "cell_type": "markdown",
   "metadata": {},
   "source": [
    "Print the age of the tree:"
   ]
  },
  {
   "cell_type": "code",
   "execution_count": null,
   "metadata": {},
   "outputs": [],
   "source": [
    "tree.time(tree.root)"
   ]
  },
  {
   "cell_type": "markdown",
   "metadata": {},
   "source": [
    "Iterate over the trees and get time (throw away the 0 time nodes):"
   ]
  },
  {
   "cell_type": "code",
   "execution_count": null,
   "metadata": {},
   "outputs": [],
   "source": [
    "for u in tree.nodes():\n",
    "    if tree.time(u) > 0:\n",
    "        print(f\"Node {u}: time {tree.time(u)}\")"
   ]
  }
 ],
 "metadata": {
  "kernelspec": {
   "display_name": "Python 3",
   "language": "python",
   "name": "python3"
  },
  "language_info": {
   "codemirror_mode": {
    "name": "ipython",
    "version": 3
   },
   "file_extension": ".py",
   "mimetype": "text/x-python",
   "name": "python",
   "nbconvert_exporter": "python",
   "pygments_lexer": "ipython3",
   "version": "3.10.15"
  }
 },
 "nbformat": 4,
 "nbformat_minor": 2
}
