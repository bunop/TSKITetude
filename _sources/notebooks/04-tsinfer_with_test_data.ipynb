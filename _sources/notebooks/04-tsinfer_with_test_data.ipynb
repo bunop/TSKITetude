{
 "cells": [
  {
   "cell_type": "markdown",
   "metadata": {},
   "source": [
    "# TSINFER with SMARTER test data\n",
    "I've created a test dataset consisting of 10 samples and genotype data for the\n",
    "chromosome *26* of the SMARTER database. I've created a nextflow pipeline to prepare\n",
    "a dataset and generate a *phased/imputed* genotype with *Beagle*. You can simply test the \n",
    "pipeline using the nextflow test profile: first collect test input file in the `data` directory:\n",
    "\n",
    "```bash\n",
    "wget https://github.com/cnr-ibba/nf-treeseq/raw/master/tests/Oar_v3.1_chr26.fna.gz?download= -O data/Oar_v3.1_chr26.fna.gz\n",
    "wget https://raw.githubusercontent.com/cnr-ibba/nf-treeseq/master/tests/test_dataset.tsv -O data/test_dataset.tsv\n",
    "wget https://raw.githubusercontent.com/cnr-ibba/nf-treeseq/master/tests/test_outgroup.tsv -O data/test_outgroup.tsv\n",
    "wget https://github.com/cnr-ibba/nf-treeseq/raw/master/tests/test_dataset.bed?download= -O data/test_dataset.bed\n",
    "wget https://github.com/cnr-ibba/nf-treeseq/raw/master/tests/test_dataset.bim?download= -O data/test_dataset.bim\n",
    "wget https://github.com/cnr-ibba/nf-treeseq/raw/master/tests/test_dataset.fam?download= -O data/test_dataset.fam\n",
    "```\n",
    "\n",
    "Then run the pipeline with the test profile:\n",
    "\n",
    "```bash\n",
    "nextflow run cnr-ibba/nf-treeseq -r v0.2.1 -profile test,singularity --plink_bfile data/test_dataset \\\n",
    "    --plink_keep data/test_dataset.tsv --genome data/Oar_v3.1_chr26.fna.gz \\\n",
    "    --outdir results-estsfs/test --with_estsfs --outgroup1 data/test_outgroup.tsv\n",
    "```\n",
    "\n",
    "Now try to read and determine a *tstree* object with *tsdata*:"
   ]
  },
  {
   "cell_type": "code",
   "execution_count": 1,
   "metadata": {},
   "outputs": [],
   "source": [
    "import json\n",
    "\n",
    "import tsinfer\n",
    "import tsdate\n",
    "import cyvcf2\n",
    "from tqdm.notebook import tqdm\n",
    "from tskit import MISSING_DATA\n",
    "\n",
    "from tskitetude import get_project_dir\n",
    "from tskitetude.helper import add_populations, add_diploid_individuals, get_ancestors_alleles"
   ]
  },
  {
   "cell_type": "markdown",
   "metadata": {},
   "source": [
    "Define some useful stuff:"
   ]
  },
  {
   "cell_type": "code",
   "execution_count": 2,
   "metadata": {},
   "outputs": [],
   "source": [
    "def get_chromosome_lengths(vcf):\n",
    "    results = {}\n",
    "    for seqname, seqlen in zip(vcf.seqnames, vcf.seqlens):\n",
    "        results[seqname] = seqlen\n",
    "\n",
    "    return results\n",
    "\n",
    "vcf_location = get_project_dir() / \"results-estsfs/test/focal/test_dataset.focal.26.vcf.gz\"\n",
    "samples_location = get_project_dir() / \"results-estsfs/test/tsinfer/test_dataset.focal.26.samples\"\n",
    "\n",
    "vcf = cyvcf2.VCF(vcf_location)\n",
    "chromosome_lengths = get_chromosome_lengths(vcf)"
   ]
  },
  {
   "cell_type": "markdown",
   "metadata": {},
   "source": [
    "I've derived ancient alleles with `est-sfs`. Try to load data from my results:"
   ]
  },
  {
   "cell_type": "code",
   "execution_count": 3,
   "metadata": {},
   "outputs": [],
   "source": [
    "ancestors_alleles = get_ancestors_alleles(get_project_dir() / \"results-estsfs/test/estsfs/samples-merged.26.ancestral.csv\")"
   ]
  },
  {
   "cell_type": "markdown",
   "metadata": {},
   "source": [
    "Now try to define a custom function to deal with VCF data:"
   ]
  },
  {
   "cell_type": "code",
   "execution_count": 4,
   "metadata": {},
   "outputs": [],
   "source": [
    "def add_diploid_sites(vcf, samples, ancestors_alleles):\n",
    "    \"\"\"\n",
    "    Read the sites in the vcf and add them to the samples object.\n",
    "    \"\"\"\n",
    "    # You may want to change the following line, e.g. here we allow\n",
    "    # \"*\" (a spanning deletion) to be a valid allele state\n",
    "    allele_chars = set(\"ATGCatgc*\")\n",
    "    pos = 0\n",
    "    progressbar = tqdm(total=samples.sequence_length, desc=\"Read VCF\", unit='bp')\n",
    "\n",
    "    for variant in vcf:  # Loop over variants, each assumed at a unique site\n",
    "        progressbar.update(variant.POS - pos)\n",
    "\n",
    "        if pos == variant.POS:\n",
    "            print(f\"Duplicate entries at position {pos}, ignoring all but the first\")\n",
    "            continue\n",
    "\n",
    "        else:\n",
    "            pos = variant.POS\n",
    "\n",
    "        if any([not phased for _, _, phased in variant.genotypes]):\n",
    "            raise ValueError(\"Unphased genotypes for variant at position\", pos)\n",
    "\n",
    "        alleles = [variant.REF.upper()] + [v.upper() for v in variant.ALT]\n",
    "        ancestral_allele = ancestors_alleles.get((variant.CHROM, variant.POS), MISSING_DATA)\n",
    "\n",
    "        # Check we have ATCG alleles\n",
    "        for a in alleles:\n",
    "            if len(set(a) - allele_chars) > 0:\n",
    "                print(f\"Ignoring site at pos {pos}: allele {a} not in {allele_chars}\")\n",
    "                continue\n",
    "\n",
    "        # Map original allele indexes to their indexes in the new alleles list.\n",
    "        genotypes = [g for row in variant.genotypes for g in row[0:2]]\n",
    "        samples.add_site(pos, genotypes, alleles, ancestral_allele=ancestral_allele)"
   ]
  },
  {
   "cell_type": "markdown",
   "metadata": {},
   "source": [
    "Add individual and populations to empty samples data:"
   ]
  },
  {
   "cell_type": "code",
   "execution_count": 5,
   "metadata": {},
   "outputs": [
    {
     "data": {
      "application/vnd.jupyter.widget-view+json": {
       "model_id": "bfaa3e8942f54560bdbd65ca1bab0042",
       "version_major": 2,
       "version_minor": 0
      },
      "text/plain": [
       "Read VCF:   0%|          | 0/44077779.0 [00:00<?, ?bp/s]"
      ]
     },
     "metadata": {},
     "output_type": "display_data"
    }
   ],
   "source": [
    "with tsinfer.SampleData(\n",
    "        path=str(samples_location), sequence_length=chromosome_lengths[\"26\"]) as samples:\n",
    "    samples_tsv = get_project_dir() / \"data/test_dataset.tsv\"\n",
    "    pop_lookup = add_populations(samples_tsv, samples)\n",
    "    indv_lookup = add_diploid_individuals(samples_tsv, pop_lookup, samples)\n",
    "    add_diploid_sites(vcf, samples, ancestors_alleles)"
   ]
  },
  {
   "cell_type": "code",
   "execution_count": 6,
   "metadata": {},
   "outputs": [
    {
     "name": "stdout",
     "output_type": "stream",
     "text": [
      "Sample file created for 18 samples (9 individuals) with 680 variable sites.\n"
     ]
    },
    {
     "name": "stderr",
     "output_type": "stream",
     "text": [
      "2024-09-05 12:22:01,763 - tsinfer.inference - INFO - Starting addition of 680 sites\n",
      "2024-09-05 12:22:01,792 - tsinfer.inference - INFO - Finished adding sites\n",
      "2024-09-05 12:22:01,794 - tsinfer.inference - INFO - Starting build for 548 ancestors\n",
      "2024-09-05 12:22:01,903 - tsinfer.inference - INFO - Finished building ancestors\n",
      "2024-09-05 12:22:01,909 - tsinfer.inference - INFO - Mismatch prevented by setting constant high recombination and low mismatch probabilities\n",
      "2024-09-05 12:22:01,910 - tsinfer.inference - INFO - Summary of recombination probabilities between sites: min=0.01; max=0.01; median=0.01; mean=0.01\n",
      "2024-09-05 12:22:01,911 - tsinfer.inference - INFO - Summary of mismatch probabilities over sites: min=1e-20; max=1e-20; median=1e-20; mean=1e-20\n",
      "2024-09-05 12:22:01,912 - tsinfer.inference - INFO - Matching using 13 digits of precision in likelihood calcs\n",
      "2024-09-05 12:22:01,917 - tsinfer.inference - INFO - Starting ancestor matching for 18 epochs\n",
      "2024-09-05 12:22:02,002 - tsinfer.inference - INFO - Built ancestors tree sequence: 630 nodes (80 pc ancestors); 2809 edges; 550 sites; 550 mutations\n",
      "2024-09-05 12:22:02,003 - tsinfer.inference - INFO - Finished ancestor matching\n",
      "2024-09-05 12:22:02,006 - tsinfer.inference - INFO - Mismatch prevented by setting constant high recombination and low mismatch probabilities\n",
      "2024-09-05 12:22:02,007 - tsinfer.inference - INFO - Summary of recombination probabilities between sites: min=0.01; max=0.01; median=0.01; mean=0.01\n",
      "2024-09-05 12:22:02,008 - tsinfer.inference - INFO - Summary of mismatch probabilities over sites: min=1e-20; max=1e-20; median=1e-20; mean=1e-20\n",
      "2024-09-05 12:22:02,009 - tsinfer.inference - INFO - Matching using 13 digits of precision in likelihood calcs\n",
      "2024-09-05 12:22:02,025 - tsinfer.inference - INFO - Loaded 18 samples 630 nodes; 2809 edges; 550 sites; 550 mutations\n",
      "2024-09-05 12:22:02,026 - tsinfer.inference - INFO - Started matching for 18 samples\n",
      "2024-09-05 12:22:02,050 - tsinfer.inference - INFO - Inserting sample paths: 1225 edges in total\n",
      "2024-09-05 12:22:02,053 - tsinfer.inference - INFO - Finalising tree sequence\n",
      "2024-09-05 12:22:02,073 - tsinfer.inference - INFO - Built samples tree sequence: 657 nodes (89 pc); 4031 edges; 550 sites; 550 mutations\n",
      "2024-09-05 12:22:02,074 - tsinfer.inference - INFO - Mapping additional sites\n",
      "2024-09-05 12:22:02,092 - tsinfer.inference - INFO - Removing the oldest edge to detach the virtual-root-like ancestor\n",
      "2024-09-05 12:22:02,096 - tsinfer.inference - INFO - Located the all zeros ultimate ancestor\n",
      "2024-09-05 12:22:02,101 - tsinfer.inference - INFO - Splitting ultimate ancestor into 301 nodes\n",
      "2024-09-05 12:22:02,109 - tsinfer.inference - INFO - Erased flanks covering 0.5445215377117799% of the genome: 166516.0 units at the start and 73497.0 units at the end\n",
      "2024-09-05 12:22:02,109 - tsinfer.inference - INFO - Simplifying with filter_sites=False, filter_populations=False, filter_individuals=False, and keep_unary=True on 958 nodes and 5024 edges\n",
      "2024-09-05 12:22:02,111 - tsinfer.inference - INFO - Finished simplify; now have 950 nodes and 3840 edges\n"
     ]
    },
    {
     "name": "stdout",
     "output_type": "stream",
     "text": [
      "Inferred tree sequence `sparrow_ts`: 536 trees over 44.077779 Mb\n",
      "Node 0 labels a chr26 sampled from individual {'sample_id': 'UYOA-TEX-000000001'} in {'breed': 'TEX'}\n",
      "Node 1 labels a chr26 sampled from individual {'sample_id': 'UYOA-TEX-000000001'} in {'breed': 'TEX'}\n",
      "Node 2 labels a chr26 sampled from individual {'sample_id': 'GROA-FRZ-000000170'} in {'breed': 'FRZ'}\n",
      "Node 3 labels a chr26 sampled from individual {'sample_id': 'GROA-FRZ-000000170'} in {'breed': 'FRZ'}\n",
      "Node 4 labels a chr26 sampled from individual {'sample_id': 'UYOA-MER-000000224'} in {'breed': 'MER'}\n",
      "Node 5 labels a chr26 sampled from individual {'sample_id': 'UYOA-MER-000000224'} in {'breed': 'MER'}\n",
      "Node 6 labels a chr26 sampled from individual {'sample_id': 'UYOA-CRR-000000320'} in {'breed': 'CRR'}\n",
      "Node 7 labels a chr26 sampled from individual {'sample_id': 'UYOA-CRR-000000320'} in {'breed': 'CRR'}\n",
      "Node 8 labels a chr26 sampled from individual {'sample_id': 'UYOA-CRL-000000380'} in {'breed': 'CRL'}\n",
      "Node 9 labels a chr26 sampled from individual {'sample_id': 'UYOA-CRL-000000380'} in {'breed': 'CRL'}\n",
      "Node 10 labels a chr26 sampled from individual {'sample_id': 'FROA-BER-000000478'} in {'breed': 'BER'}\n",
      "Node 11 labels a chr26 sampled from individual {'sample_id': 'FROA-BER-000000478'} in {'breed': 'BER'}\n",
      "Node 12 labels a chr26 sampled from individual {'sample_id': 'ITOA-ALT-000001084'} in {'breed': 'ALT'}\n",
      "Node 13 labels a chr26 sampled from individual {'sample_id': 'ITOA-ALT-000001084'} in {'breed': 'ALT'}\n",
      "Node 14 labels a chr26 sampled from individual {'sample_id': 'ITOA-LEC-000002620'} in {'breed': 'LEC'}\n",
      "Node 15 labels a chr26 sampled from individual {'sample_id': 'ITOA-LEC-000002620'} in {'breed': 'LEC'}\n",
      "Node 16 labels a chr26 sampled from individual {'sample_id': 'ITOA-SAB-000003324'} in {'breed': 'SAB'}\n",
      "Node 17 labels a chr26 sampled from individual {'sample_id': 'ITOA-SAB-000003324'} in {'breed': 'SAB'}\n"
     ]
    }
   ],
   "source": [
    "print(\n",
    "    \"Sample file created for {} samples \".format(samples.num_samples)\n",
    "    + \"({} individuals) \".format(samples.num_individuals)\n",
    "    + \"with {} variable sites.\".format(samples.num_sites),\n",
    "    flush=True,\n",
    ")\n",
    "\n",
    "# Do the inference\n",
    "sparrow_ts = tsinfer.infer(samples)\n",
    "\n",
    "print(\n",
    "    \"Inferred tree sequence `{}`: {} trees over {} Mb\".format(\n",
    "        \"sparrow_ts\", sparrow_ts.num_trees, sparrow_ts.sequence_length / 1e6\n",
    "    )\n",
    ")\n",
    "# Check the metadata\n",
    "for sample_node_id in sparrow_ts.samples():\n",
    "    individual_id = sparrow_ts.node(sample_node_id).individual\n",
    "    population_id = sparrow_ts.node(sample_node_id).population\n",
    "    print(\n",
    "        \"Node\",\n",
    "        sample_node_id,\n",
    "        \"labels a chr26 sampled from individual\",\n",
    "        json.loads(sparrow_ts.individual(individual_id).metadata),\n",
    "        \"in\",\n",
    "        json.loads(sparrow_ts.population(population_id).metadata),\n",
    "    )"
   ]
  },
  {
   "cell_type": "markdown",
   "metadata": {},
   "source": [
    "Try to infer *dates* on my tree:"
   ]
  },
  {
   "cell_type": "code",
   "execution_count": 7,
   "metadata": {},
   "outputs": [
    {
     "name": "stderr",
     "output_type": "stream",
     "text": [
      "2024-09-05 12:22:02,174 - tsdate.util - INFO - Beginning preprocessing\n",
      "2024-09-05 12:22:02,175 - tsdate.util - INFO - Minimum_gap: None and remove_telomeres: None\n",
      "2024-09-05 12:22:02,176 - tsdate.util - INFO - REMOVING TELOMERE: Snip topology from 0 to first site at 166515.0.\n",
      "2024-09-05 12:22:02,177 - tsdate.util - INFO - REMOVING TELOMERE: Snip topology from 44004282.0 to end of sequence at 44077779.0.\n"
     ]
    },
    {
     "data": {
      "text/html": [
       "\n",
       "            <div>\n",
       "              <style>\n",
       "                .tskit-table thead tr th {text-align: left;padding: 0.5em 0.5em;}\n",
       "                .tskit-table tbody tr td {padding: 0.5em 0.5em;}\n",
       "                .tskit-table tbody tr td:first-of-type {text-align: left;}\n",
       "                .tskit-details-label {vertical-align: top; padding-right:5px;}\n",
       "                .tskit-table-set {display: inline-flex;flex-wrap: wrap;margin: -12px 0 0 -12px;width: calc(100% + 12px);}\n",
       "                .tskit-table-set-table {margin: 12px 0 0 12px;}\n",
       "                details {display: inline-block;}\n",
       "                summary {cursor: pointer; outline: 0; display: list-item;}\n",
       "              </style>\n",
       "              <div class=\"tskit-table-set\">\n",
       "                <div class=\"tskit-table-set-table\">\n",
       "                  <table class=\"tskit-table\">\n",
       "                    <thead>\n",
       "                      <tr>\n",
       "                        <th style=\"padding:0;line-height:21px;\">\n",
       "                          <img style=\"height: 32px;display: inline-block;padding: 3px 5px 3px 0;\" src=\"https://raw.githubusercontent.com/tskit-dev/administrative/main/tskit_logo.svg\"/>\n",
       "                          <a target=\"_blank\" href=\"https://tskit.dev/tskit/docs/latest/python-api.html#the-treesequence-class\"> Tree Sequence </a>\n",
       "                        </th>\n",
       "                      </tr>\n",
       "                    </thead>\n",
       "                    <tbody>\n",
       "                      <tr><td>Trees</td><td>536</td></tr>\n",
       "                      <tr><td>Sequence Length</td><td>44077779.0</td></tr>\n",
       "                      <tr><td>Time Units</td><td>generations</td></tr>\n",
       "                      <tr><td>Sample Nodes</td><td>18</td></tr>\n",
       "                      <tr><td>Total Size</td><td>305.1 KiB</td></tr>\n",
       "                      <tr>\n",
       "                        <td>Metadata</td><td style=\"text-align: left;\">\n",
       "                <div>\n",
       "                  <span class=\"tskit-details-label\"></span>\n",
       "                  <details open>\n",
       "                    <summary>dict</summary>\n",
       "                    \n",
       "                  </details>\n",
       "                </div>\n",
       "                </td></tr>\n",
       "                    </tbody>\n",
       "                  </table>\n",
       "                </div>\n",
       "                <div class=\"tskit-table-set-table\">\n",
       "                  <table class=\"tskit-table\">\n",
       "                    <thead>\n",
       "                      <tr>\n",
       "                        <th style=\"line-height:21px;\">Table</th>\n",
       "                        <th>Rows</th>\n",
       "                        <th>Size</th>\n",
       "                        <th>Has Metadata</th>\n",
       "                      </tr>\n",
       "                    </thead>\n",
       "                    <tbody>\n",
       "                    \n",
       "                  <tr>\n",
       "                    <td>Edges</td>\n",
       "                      <td>4468</td>\n",
       "                      <td>139.6 KiB</td>\n",
       "                      <td style=\"text-align: center;\">\n",
       "                        \n",
       "                      </td>\n",
       "                    </tr>\n",
       "                \n",
       "                  <tr>\n",
       "                    <td>Individuals</td>\n",
       "                      <td>9</td>\n",
       "                      <td>591 Bytes</td>\n",
       "                      <td style=\"text-align: center;\">\n",
       "                        ✅\n",
       "                      </td>\n",
       "                    </tr>\n",
       "                \n",
       "                  <tr>\n",
       "                    <td>Migrations</td>\n",
       "                      <td>0</td>\n",
       "                      <td>8 Bytes</td>\n",
       "                      <td style=\"text-align: center;\">\n",
       "                        \n",
       "                      </td>\n",
       "                    </tr>\n",
       "                \n",
       "                  <tr>\n",
       "                    <td>Mutations</td>\n",
       "                      <td>858</td>\n",
       "                      <td>31.0 KiB</td>\n",
       "                      <td style=\"text-align: center;\">\n",
       "                        \n",
       "                      </td>\n",
       "                    </tr>\n",
       "                \n",
       "                  <tr>\n",
       "                    <td>Nodes</td>\n",
       "                      <td>824</td>\n",
       "                      <td>62.4 KiB</td>\n",
       "                      <td style=\"text-align: center;\">\n",
       "                        ✅\n",
       "                      </td>\n",
       "                    </tr>\n",
       "                \n",
       "                  <tr>\n",
       "                    <td>Populations</td>\n",
       "                      <td>9</td>\n",
       "                      <td>224 Bytes</td>\n",
       "                      <td style=\"text-align: center;\">\n",
       "                        ✅\n",
       "                      </td>\n",
       "                    </tr>\n",
       "                \n",
       "                  <tr>\n",
       "                    <td>Provenances</td>\n",
       "                      <td>3</td>\n",
       "                      <td>1.9 KiB</td>\n",
       "                      <td style=\"text-align: center;\">\n",
       "                        \n",
       "                      </td>\n",
       "                    </tr>\n",
       "                \n",
       "                  <tr>\n",
       "                    <td>Sites</td>\n",
       "                      <td>680</td>\n",
       "                      <td>34.4 KiB</td>\n",
       "                      <td style=\"text-align: center;\">\n",
       "                        ✅\n",
       "                      </td>\n",
       "                    </tr>\n",
       "                \n",
       "                    </tbody>\n",
       "                  </table>\n",
       "                </div>\n",
       "              </div>\n",
       "            </div>\n",
       "            "
      ],
      "text/plain": [
       "<tskit.trees.TreeSequence at 0x7f3254ff1370>"
      ]
     },
     "execution_count": 7,
     "metadata": {},
     "output_type": "execute_result"
    }
   ],
   "source": [
    "# Removes unary nodes (currently required in tsdate), keeps historical-only sites\n",
    "inferred_ts = tsdate.preprocess_ts(sparrow_ts, filter_sites=False)\n",
    "dated_ts = tsdate.date(inferred_ts, mutation_rate=1e-8, Ne=1e4)\n",
    "\n",
    "dated_ts"
   ]
  },
  {
   "cell_type": "code",
   "execution_count": null,
   "metadata": {},
   "outputs": [],
   "source": []
  }
 ],
 "metadata": {
  "kernelspec": {
   "display_name": "Python 3 (ipykernel)",
   "language": "python",
   "name": "python3"
  },
  "language_info": {
   "codemirror_mode": {
    "name": "ipython",
    "version": 3
   },
   "file_extension": ".py",
   "mimetype": "text/x-python",
   "name": "python",
   "nbconvert_exporter": "python",
   "pygments_lexer": "ipython3",
   "version": "3.9.16"
  }
 },
 "nbformat": 4,
 "nbformat_minor": 2
}
