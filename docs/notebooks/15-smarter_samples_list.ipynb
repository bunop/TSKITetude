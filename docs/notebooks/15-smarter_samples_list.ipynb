{
 "cells": [
  {
   "cell_type": "markdown",
   "metadata": {},
   "source": [
    "# Get SMARTER samples list\n",
    "\n",
    "This notebook is used to get the list of samples that are used in the SMARTER dataset. Here's another example of how to use the `SheepEndPoints` class to get the list of samples:"
   ]
  },
  {
   "cell_type": "code",
   "execution_count": null,
   "metadata": {},
   "outputs": [],
   "source": [
    "import pandas as pd\n",
    "\n",
    "from tskitetude import get_data_dir\n",
    "from tskitetude.smarterapi import SheepEndpoint"
   ]
  },
  {
   "cell_type": "markdown",
   "metadata": {},
   "source": [
    "Collecting all samples (no parameters are provided using the `SheepEndPoints.get_samples()` method:"
   ]
  },
  {
   "cell_type": "code",
   "execution_count": null,
   "metadata": {},
   "outputs": [],
   "source": [
    "sheep_api = SheepEndpoint()\n",
    "\n",
    "data = sheep_api.get_samples()\n",
    "page = 1\n",
    "sheep = pd.DataFrame(data[\"items\"])\n",
    "\n",
    "while data[\"next\"] is not None:\n",
    "    data = sheep_api.get_samples(page=page+1,)\n",
    "    df_page = pd.DataFrame(data[\"items\"])\n",
    "    page = data[\"page\"]\n",
    "    sheep = pd.concat([sheep, df_page], ignore_index=True)\n",
    "\n",
    "sheep.info()"
   ]
  },
  {
   "cell_type": "markdown",
   "metadata": {},
   "source": [
    "Inspecting the first 5 samples of the dataframe:"
   ]
  },
  {
   "cell_type": "code",
   "execution_count": null,
   "metadata": {},
   "outputs": [],
   "source": [
    "sheep.head()"
   ]
  },
  {
   "cell_type": "markdown",
   "metadata": {},
   "source": [
    "Collect some useful information about the samples into a CSV file:"
   ]
  },
  {
   "cell_type": "code",
   "execution_count": null,
   "metadata": {},
   "outputs": [],
   "source": [
    "sheep[[\"smarter_id\", \"breed\", \"breed_code\", \"phenotype\"]].to_csv(\n",
    "    get_data_dir() / \"smarter_sheep_list.csv\", index=False)"
   ]
  }
 ],
 "metadata": {
  "kernelspec": {
   "display_name": "tskitetude-hh-GIRXc-py3.9",
   "language": "python",
   "name": "python3"
  },
  "language_info": {
   "codemirror_mode": {
    "name": "ipython",
    "version": 3
   },
   "file_extension": ".py",
   "mimetype": "text/x-python",
   "name": "python",
   "nbconvert_exporter": "python",
   "pygments_lexer": "ipython3",
   "version": "3.9.16"
  }
 },
 "nbformat": 4,
 "nbformat_minor": 2
}
