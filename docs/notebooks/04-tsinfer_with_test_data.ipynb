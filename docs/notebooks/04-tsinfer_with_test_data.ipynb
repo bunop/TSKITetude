{
 "cells": [
  {
   "cell_type": "markdown",
   "metadata": {},
   "source": [
    "# TSINFER with SMARTER test data\n",
    "I've created a test dataset consisting of 10 samples and genotype data for the\n",
    "chromosome *26* of the SMARTER database. I've created a nextflow pipeline to prepare\n",
    "a dataset and generate a *phased/imputed* genotype with *Beagle*. You can simply test the \n",
    "pipeline using the nextflow test profile: first collect test input file in the `data` directory:\n",
    "\n",
    "```bash\n",
    "wget https://github.com/cnr-ibba/nf-treeseq/raw/master/tests/Oar_v3.1_chr26.fna.gz?download= -O data/Oar_v3.1_chr26.fna.gz\n",
    "wget https://raw.githubusercontent.com/cnr-ibba/nf-treeseq/master/tests/test_dataset.tsv -O data/test_dataset.tsv\n",
    "wget https://raw.githubusercontent.com/cnr-ibba/nf-treeseq/master/tests/test_outgroup.tsv -O data/test_outgroup.tsv\n",
    "wget https://github.com/cnr-ibba/nf-treeseq/raw/master/tests/test_dataset.bed?download= -O data/test_dataset.bed\n",
    "wget https://github.com/cnr-ibba/nf-treeseq/raw/master/tests/test_dataset.bim?download= -O data/test_dataset.bim\n",
    "wget https://github.com/cnr-ibba/nf-treeseq/raw/master/tests/test_dataset.fam?download= -O data/test_dataset.fam\n",
    "```\n",
    "\n",
    "Then run the pipeline with the test profile:\n",
    "\n",
    "```bash\n",
    "nextflow run cnr-ibba/nf-treeseq -r v0.2.1 -profile test,singularity --plink_bfile data/test_dataset \\\n",
    "    --plink_keep data/test_dataset.tsv --genome data/Oar_v3.1_chr26.fna.gz \\\n",
    "    --outdir results-estsfs/test --with_estsfs --outgroup1 data/test_outgroup.tsv\n",
    "```\n",
    "\n",
    "Now try to read and determine a *tstree* object with *tsdata*:"
   ]
  },
  {
   "cell_type": "code",
   "execution_count": null,
   "metadata": {},
   "outputs": [],
   "source": [
    "import json\n",
    "\n",
    "import tsinfer\n",
    "import tsdate\n",
    "import cyvcf2\n",
    "from tqdm.notebook import tqdm\n",
    "from tskit import MISSING_DATA\n",
    "\n",
    "from tskitetude import get_project_dir\n",
    "from tskitetude.helper import add_populations, add_diploid_individuals, get_ancestors_alleles"
   ]
  },
  {
   "cell_type": "markdown",
   "metadata": {},
   "source": [
    "Define some useful stuff:"
   ]
  },
  {
   "cell_type": "code",
   "execution_count": null,
   "metadata": {},
   "outputs": [],
   "source": [
    "def get_chromosome_lengths(vcf):\n",
    "    results = {}\n",
    "    for seqname, seqlen in zip(vcf.seqnames, vcf.seqlens):\n",
    "        results[seqname] = seqlen\n",
    "\n",
    "    return results\n",
    "\n",
    "vcf_location = get_project_dir() / \"results-estsfs/test/focal/test_dataset.focal.26.vcf.gz\"\n",
    "samples_location = get_project_dir() / \"results-estsfs/test/tsinfer/test_dataset.focal.26.samples\"\n",
    "\n",
    "vcf = cyvcf2.VCF(vcf_location)\n",
    "chromosome_lengths = get_chromosome_lengths(vcf)"
   ]
  },
  {
   "cell_type": "markdown",
   "metadata": {},
   "source": [
    "I've derived ancient alleles with `est-sfs`. Try to load data from my results:"
   ]
  },
  {
   "cell_type": "code",
   "execution_count": null,
   "metadata": {},
   "outputs": [],
   "source": [
    "ancestors_alleles = get_ancestors_alleles(get_project_dir() / \"results-estsfs/test/estsfs/samples-merged.26.ancestral.csv\")"
   ]
  },
  {
   "cell_type": "markdown",
   "metadata": {},
   "source": [
    "Now try to define a custom function to deal with VCF data:"
   ]
  },
  {
   "cell_type": "code",
   "execution_count": null,
   "metadata": {},
   "outputs": [],
   "source": [
    "def add_diploid_sites(vcf, samples, ancestors_alleles):\n",
    "    \"\"\"\n",
    "    Read the sites in the vcf and add them to the samples object.\n",
    "    \"\"\"\n",
    "    # You may want to change the following line, e.g. here we allow\n",
    "    # \"*\" (a spanning deletion) to be a valid allele state\n",
    "    allele_chars = set(\"ATGCatgc*\")\n",
    "    pos = 0\n",
    "    progressbar = tqdm(total=samples.sequence_length, desc=\"Read VCF\", unit='bp')\n",
    "\n",
    "    for variant in vcf:  # Loop over variants, each assumed at a unique site\n",
    "        progressbar.update(variant.POS - pos)\n",
    "\n",
    "        if pos == variant.POS:\n",
    "            print(f\"Duplicate entries at position {pos}, ignoring all but the first\")\n",
    "            continue\n",
    "\n",
    "        else:\n",
    "            pos = variant.POS\n",
    "\n",
    "        if any([not phased for _, _, phased in variant.genotypes]):\n",
    "            raise ValueError(\"Unphased genotypes for variant at position\", pos)\n",
    "\n",
    "        alleles = [variant.REF.upper()] + [v.upper() for v in variant.ALT]\n",
    "        ancestral_allele = ancestors_alleles.get((variant.CHROM, variant.POS), MISSING_DATA)\n",
    "\n",
    "        # Check we have ATCG alleles\n",
    "        for a in alleles:\n",
    "            if len(set(a) - allele_chars) > 0:\n",
    "                print(f\"Ignoring site at pos {pos}: allele {a} not in {allele_chars}\")\n",
    "                continue\n",
    "\n",
    "        # Map original allele indexes to their indexes in the new alleles list.\n",
    "        genotypes = [g for row in variant.genotypes for g in row[0:2]]\n",
    "        samples.add_site(pos, genotypes, alleles, ancestral_allele=ancestral_allele)"
   ]
  },
  {
   "cell_type": "markdown",
   "metadata": {},
   "source": [
    "Add individual and populations to empty samples data:"
   ]
  },
  {
   "cell_type": "code",
   "execution_count": null,
   "metadata": {},
   "outputs": [],
   "source": [
    "with tsinfer.SampleData(\n",
    "        path=str(samples_location), sequence_length=chromosome_lengths[\"26\"]) as samples:\n",
    "    samples_tsv = get_project_dir() / \"data/test_dataset.tsv\"\n",
    "    pop_lookup = add_populations(samples_tsv, samples)\n",
    "    indv_lookup = add_diploid_individuals(samples_tsv, pop_lookup, samples)\n",
    "    add_diploid_sites(vcf, samples, ancestors_alleles)"
   ]
  },
  {
   "cell_type": "code",
   "execution_count": null,
   "metadata": {},
   "outputs": [],
   "source": [
    "print(\n",
    "    \"Sample file created for {} samples \".format(samples.num_samples)\n",
    "    + \"({} individuals) \".format(samples.num_individuals)\n",
    "    + \"with {} variable sites.\".format(samples.num_sites),\n",
    "    flush=True,\n",
    ")\n",
    "\n",
    "# Do the inference\n",
    "sparrow_ts = tsinfer.infer(samples)\n",
    "\n",
    "print(\n",
    "    \"Inferred tree sequence `{}`: {} trees over {} Mb\".format(\n",
    "        \"sparrow_ts\", sparrow_ts.num_trees, sparrow_ts.sequence_length / 1e6\n",
    "    )\n",
    ")\n",
    "# Check the metadata\n",
    "for sample_node_id in sparrow_ts.samples():\n",
    "    individual_id = sparrow_ts.node(sample_node_id).individual\n",
    "    population_id = sparrow_ts.node(sample_node_id).population\n",
    "    print(\n",
    "        \"Node\",\n",
    "        sample_node_id,\n",
    "        \"labels a chr26 sampled from individual\",\n",
    "        json.loads(sparrow_ts.individual(individual_id).metadata),\n",
    "        \"in\",\n",
    "        json.loads(sparrow_ts.population(population_id).metadata),\n",
    "    )"
   ]
  },
  {
   "cell_type": "markdown",
   "metadata": {},
   "source": [
    "Try to infer *dates* on my tree:"
   ]
  },
  {
   "cell_type": "code",
   "execution_count": null,
   "metadata": {},
   "outputs": [],
   "source": [
    "# Removes unary nodes (currently required in tsdate), keeps historical-only sites\n",
    "inferred_ts = tsdate.preprocess_ts(sparrow_ts, filter_sites=False)\n",
    "dated_ts = tsdate.date(inferred_ts, mutation_rate=1e-8, Ne=1e4)\n",
    "\n",
    "dated_ts"
   ]
  },
  {
   "cell_type": "code",
   "execution_count": null,
   "metadata": {},
   "outputs": [],
   "source": []
  }
 ],
 "metadata": {
  "kernelspec": {
   "display_name": "Python 3 (ipykernel)",
   "language": "python",
   "name": "python3"
  },
  "language_info": {
   "codemirror_mode": {
    "name": "ipython",
    "version": 3
   },
   "file_extension": ".py",
   "mimetype": "text/x-python",
   "name": "python",
   "nbconvert_exporter": "python",
   "pygments_lexer": "ipython3",
   "version": "3.9.16"
  }
 },
 "nbformat": 4,
 "nbformat_minor": 2
}
