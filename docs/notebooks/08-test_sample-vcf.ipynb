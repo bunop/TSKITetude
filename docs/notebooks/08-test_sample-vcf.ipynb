{
 "cells": [
  {
   "cell_type": "markdown",
   "metadata": {},
   "source": [
    "# Inference from a test VCF file\n",
    "\n",
    "Try to infer a tstree object like I did with `nf-treeseq` pipeline but using the \n",
    "sample VCF provided in [sheepTSexample](https://github.com/HighlanderLab/sheepTSexample)"
   ]
  },
  {
   "cell_type": "code",
   "execution_count": null,
   "metadata": {},
   "outputs": [],
   "source": [
    "import cyvcf2\n",
    "import tsinfer\n",
    "import tsdate\n",
    "import numpy as np\n",
    "import matplotlib.pyplot as plt\n",
    "import pandas as pd\n",
    "\n",
    "from tskitetude import get_project_dir\n",
    "from tskitetude.helper import get_chromosome_lengths, add_diploid_sites, create_windows"
   ]
  },
  {
   "cell_type": "markdown",
   "metadata": {},
   "source": [
    "Configure `tskitetude` module to use `tqdm.notebook`:"
   ]
  },
  {
   "cell_type": "code",
   "execution_count": null,
   "metadata": {},
   "outputs": [],
   "source": [
    "from tqdm.notebook import tqdm\n",
    "\n",
    "import tskitetude.helper\n",
    "\n",
    "tskitetude.helper.tqdm = tqdm"
   ]
  },
  {
   "cell_type": "code",
   "execution_count": null,
   "metadata": {},
   "outputs": [],
   "source": [
    "vcf_file = str(get_project_dir() / \"experiments/test1M/test1M.out.inf.vcf.gz\")\n",
    "vcf = cyvcf2.VCF(vcf_file)\n",
    "chromosome_lengths = get_chromosome_lengths(vcf)\n",
    "\n",
    "# get first variant like I did in the helper script\n",
    "variant = next(vcf)\n",
    "sequence_length = chromosome_lengths[variant.CHROM]\n",
    "\n",
    "print(f\"Getting information for chromosome {variant.CHROM} with length {sequence_length} bp\")"
   ]
  },
  {
   "cell_type": "markdown",
   "metadata": {},
   "source": [
    "Create `SampleData` object. Add additional information (as we did in [tutorial](https://github.com/HighlanderLab/sheepTSexample/blob/main/Notebooks/10Inference.ipynb)):"
   ]
  },
  {
   "cell_type": "code",
   "execution_count": null,
   "metadata": {},
   "outputs": [],
   "source": [
    "# reset the VCF file\n",
    "vcf = cyvcf2.VCF(vcf_file)\n",
    "\n",
    "with tsinfer.SampleData(\n",
    "        path = str(get_project_dir() / \"experiments/test1M/test1M.out.inf.samples\"),\n",
    "        sequence_length = sequence_length) as samples:\n",
    "\n",
    "    # add population information (optional)\n",
    "    samples.add_population(metadata={\"name\": \"Mouflon\"})\n",
    "    samples.add_population(metadata={\"name\": \"Iranian\"})\n",
    "    samples.add_population(metadata={\"name\": \"Border\"})\n",
    "\n",
    "    # add individuals (optional)\n",
    "\n",
    "    # create a population lookup list to iterate over\n",
    "    popID = np.repeat([0,1,2], [5, 50, 50]).tolist()\n",
    "\n",
    "    for i in range(105):\n",
    "        samples.add_individual(ploidy=2, population=popID[i], metadata={\"name\": f\"tsk_{i}\"})\n",
    "\n",
    "    add_diploid_sites(vcf, samples, {}, allele_chars=set(\"01\"))\n",
    "\n",
    "print(\n",
    "    f\"Sample file created for {samples.num_samples} samples \"\n",
    "    f\"({samples.num_individuals} individuals) \"\n",
    "    f\"with {samples.num_sites} variable sites.\"\n",
    ")"
   ]
  },
  {
   "cell_type": "code",
   "execution_count": null,
   "metadata": {},
   "outputs": [],
   "source": [
    "# Do the inference\n",
    "sparrow_ts = tsinfer.infer(\n",
    "    samples,\n",
    "    num_threads=4\n",
    ")\n",
    "\n",
    "# Simplify the tree sequence\n",
    "ts = sparrow_ts.simplify()\n",
    "\n",
    "print(\n",
    "    f\"Inferred tree sequence `ts`: {ts.num_trees} \"\n",
    "    f\"trees over {ts.sequence_length / 1e6} Mb\"\n",
    ")"
   ]
  },
  {
   "cell_type": "code",
   "execution_count": null,
   "metadata": {},
   "outputs": [],
   "source": [
    "ts"
   ]
  },
  {
   "cell_type": "code",
   "execution_count": null,
   "metadata": {},
   "outputs": [],
   "source": [
    "# Removes unary nodes (currently required in tsdate), keeps historical-only sites\n",
    "ts = tsdate.preprocess_ts(ts, filter_sites=False)\n",
    "\n",
    "ts = tsdate.date(\n",
    "    ts,\n",
    "    method=\"inside_outside\",\n",
    "    mutation_rate=1e-8,\n",
    "    Ne=1e4\n",
    ")\n",
    "\n",
    "ts"
   ]
  },
  {
   "cell_type": "markdown",
   "metadata": {},
   "source": [
    "dump the *treesequence* file:"
   ]
  },
  {
   "cell_type": "code",
   "execution_count": null,
   "metadata": {},
   "outputs": [],
   "source": [
    "# save generated tree\n",
    "ts.dump(get_project_dir() / \"tests/test1M.out.inf.trees\")"
   ]
  },
  {
   "cell_type": "markdown",
   "metadata": {},
   "source": [
    "I want to try to collect the first tree like I did in a previous example:"
   ]
  },
  {
   "cell_type": "code",
   "execution_count": null,
   "metadata": {},
   "outputs": [],
   "source": [
    "POS = 108\n",
    "tree = ts.at(POS)\n",
    "tree"
   ]
  },
  {
   "cell_type": "markdown",
   "metadata": {},
   "source": [
    "Now get the intervals of this tree. Then try to filter out edges between those positions:"
   ]
  },
  {
   "cell_type": "code",
   "execution_count": null,
   "metadata": {},
   "outputs": [],
   "source": [
    "interval = tree.interval\n",
    "left_bound = interval.left\n",
    "right_bound = interval.right\n",
    "\n",
    "filtered_edges = ts.tables.edges[\n",
    "    np.logical_and(ts.tables.edges.left >= left_bound, ts.tables.edges.right <= right_bound)]\n",
    "filtered_edges[:10]"
   ]
  },
  {
   "cell_type": "code",
   "execution_count": null,
   "metadata": {},
   "outputs": [],
   "source": [
    "len(filtered_edges)"
   ]
  },
  {
   "cell_type": "markdown",
   "metadata": {},
   "source": [
    "why so few edges in this cases? How I can draw a tree with so few edges? Maybe the table\n",
    "itself doesn't model every connection between nodes. Or the way I collect data on edges\n",
    "is completely wrong."
   ]
  },
  {
   "cell_type": "markdown",
   "metadata": {},
   "source": [
    "Can I filter out the nodes in the same way? In this case I don't have a left and right \n",
    "position like in the edge table. However, from the edge table I can derive which nodes are\n",
    "*child* of *parents*:"
   ]
  },
  {
   "cell_type": "code",
   "execution_count": null,
   "metadata": {},
   "outputs": [],
   "source": [
    "parents = set(filtered_edges.parent)\n",
    "childs = set(filtered_edges.child)\n",
    "\n",
    "node_ids = parents.union(childs)\n",
    "print(f\"Got {len(node_ids)} distinct nodes\")\n"
   ]
  },
  {
   "cell_type": "code",
   "execution_count": null,
   "metadata": {},
   "outputs": [],
   "source": [
    "# heavy intensive operation\n",
    "# tree.draw_svg(\n",
    "#     size=(800, 400),\n",
    "#     time_scale=\"log_time\",\n",
    "# )"
   ]
  },
  {
   "cell_type": "markdown",
   "metadata": {},
   "source": [
    "## Exploring nucleotide diversity\n",
    "\n",
    "Calculate diversity *per SNP positions*: use the `create_windows` function and select all the\n",
    "odd positions:"
   ]
  },
  {
   "cell_type": "code",
   "execution_count": null,
   "metadata": {},
   "outputs": [],
   "source": [
    "# remove the 0 values will be enough!\n",
    "ts_diversity = ts.diversity(windows=create_windows(ts))\n",
    "ts_diversity = ts_diversity[ts_diversity > 0]\n",
    "ts_diversity[:10]"
   ]
  },
  {
   "cell_type": "markdown",
   "metadata": {},
   "source": [
    "Now let's compare the nucleotide diversity calculated using vcftools: here's the \n",
    "command line to calculate nucleotide diversity *per site*:\n",
    "\n",
    "```bash\n",
    "cd test\n",
    "vcftools --gzvcf test1M.out.inf.vcf.gz --out allsamples_pi --site-pi\n",
    "```\n",
    "\n",
    "The `allsamples_pi.sites.pi` is a *TSV* file with the positions and the nucleotide diversity. Read it with pandas:"
   ]
  },
  {
   "cell_type": "code",
   "execution_count": null,
   "metadata": {},
   "outputs": [],
   "source": [
    "vcftools_diversity = pd.read_csv(get_project_dir() / \"experiments/test1M/allsamples_pi.sites.pi\", sep=\"\\t\")\n",
    "vcftools_diversity.head()"
   ]
  },
  {
   "cell_type": "code",
   "execution_count": null,
   "metadata": {},
   "outputs": [],
   "source": [
    "\n",
    "print(f\"ts_diversity is {len(ts_diversity)} in size\")\n",
    "print(f\"vcftools_diversity is {len(vcftools_diversity)} in size\")"
   ]
  },
  {
   "cell_type": "markdown",
   "metadata": {},
   "source": [
    "this dataframe has more values than ts_diversity, since there are duplicated positions. Since I've\n",
    "dropped duplicated positions in `create_windows`, I need to drop duplicates in this dataframe. However\n",
    "the diveristy I can misure in those points will be different: "
   ]
  },
  {
   "cell_type": "code",
   "execution_count": null,
   "metadata": {},
   "outputs": [],
   "source": [
    "vcftools_diversity.drop_duplicates(subset='POS', keep='first', inplace=True)"
   ]
  },
  {
   "cell_type": "markdown",
   "metadata": {},
   "source": [
    "Are this values similar?"
   ]
  },
  {
   "cell_type": "code",
   "execution_count": null,
   "metadata": {},
   "outputs": [],
   "source": [
    "np.isclose(ts_diversity, vcftools_diversity[\"PI\"], atol=1e-6).all()"
   ]
  },
  {
   "cell_type": "markdown",
   "metadata": {},
   "source": [
    "Calculate diversity using *branch*:"
   ]
  },
  {
   "cell_type": "code",
   "execution_count": null,
   "metadata": {},
   "outputs": [],
   "source": [
    "# remove the 0 values will be enough!\n",
    "ts_diversity_branch = ts.diversity(mode='branch', windows=create_windows(ts))\n",
    "ts_diversity_branch = ts_diversity_branch[ts_diversity_branch > 0]\n",
    "print(ts_diversity_branch[:10])\n",
    "print(f\"ts_diversity_branch is {len(ts_diversity_branch)} in size\")"
   ]
  },
  {
   "cell_type": "code",
   "execution_count": null,
   "metadata": {},
   "outputs": [],
   "source": [
    "print(ts.diversity(mode='branch', windows=create_windows(ts))[:10])\n",
    "print(create_windows(ts)[:10])"
   ]
  },
  {
   "cell_type": "markdown",
   "metadata": {},
   "source": [
    "Try to plot the tow different diversities with vcftools output:"
   ]
  },
  {
   "cell_type": "code",
   "execution_count": null,
   "metadata": {},
   "outputs": [],
   "source": [
    "plt.scatter(ts_diversity, vcftools_diversity[\"PI\"])"
   ]
  },
  {
   "cell_type": "markdown",
   "metadata": {},
   "source": [
    "The *branch* nuclueotide diversity need to be fixed: it doesn't have `0` in positions between windows:"
   ]
  },
  {
   "cell_type": "code",
   "execution_count": null,
   "metadata": {},
   "outputs": [],
   "source": [
    "# plt.scatter(ts_diversity_branch, vcftools_diversity[\"PI\"])\n",
    "# plt.xlim(0, 300)"
   ]
  }
 ],
 "metadata": {
  "kernelspec": {
   "display_name": "tskitetude-hh-GIRXc-py3.10",
   "language": "python",
   "name": "python3"
  },
  "language_info": {
   "codemirror_mode": {
    "name": "ipython",
    "version": 3
   },
   "file_extension": ".py",
   "mimetype": "text/x-python",
   "name": "python",
   "nbconvert_exporter": "python",
   "pygments_lexer": "ipython3",
   "version": "3.10.15"
  }
 },
 "nbformat": 4,
 "nbformat_minor": 2
}
