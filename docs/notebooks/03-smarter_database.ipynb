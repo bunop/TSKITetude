{
 "cells": [
  {
   "cell_type": "markdown",
   "metadata": {},
   "source": [
    "# Infer ancestry using EST-SFS\n",
    "This was the first attempt to create *tstree* object using EST-SFS. In this example\n",
    "we collect all *background* samples from SMARTER database and we use all *Ovis\n",
    "aries* samples as *focal samples*, and *european*, *sardinian* and *spanish mouflon*\n",
    "as three different *outgroups* to make inference with EST-SFS. We will write all\n",
    "selection of samples as CSV files with `FID` and `IID` columns in order to extract\n",
    "from the whole genotype files only the samples we need.\n",
    "\n",
    "Try to collect sheep *background* samples from SMARTER database:"
   ]
  },
  {
   "cell_type": "code",
   "execution_count": null,
   "metadata": {},
   "outputs": [],
   "source": [
    "import pandas as pd\n",
    "\n",
    "from tskitetude import get_data_dir\n",
    "from tskitetude.smarterapi import SheepEndpoint, BreedEndpoint"
   ]
  },
  {
   "cell_type": "markdown",
   "metadata": {},
   "source": [
    "Connect to *SMARTER* database and retrieve information on *background* samples:"
   ]
  },
  {
   "cell_type": "code",
   "execution_count": null,
   "metadata": {},
   "outputs": [],
   "source": [
    "sheep_api = SheepEndpoint()\n",
    "\n",
    "data = sheep_api.get_samples(_type=\"background\")\n",
    "page = 1\n",
    "sheep = pd.DataFrame(data[\"items\"])\n",
    "\n",
    "while data[\"next\"] is not None:\n",
    "    data = sheep_api.get_samples(page=page+1, _type=\"background\")\n",
    "    df_page = pd.DataFrame(data[\"items\"])\n",
    "    page = data[\"page\"]\n",
    "    sheep = pd.concat([sheep, df_page], ignore_index=True)\n",
    "\n",
    "sheep.info()"
   ]
  },
  {
   "cell_type": "markdown",
   "metadata": {},
   "source": [
    "Are those all *background* samples?"
   ]
  },
  {
   "cell_type": "code",
   "execution_count": null,
   "metadata": {},
   "outputs": [],
   "source": [
    "sheep.value_counts(\"type\")"
   ]
  },
  {
   "cell_type": "markdown",
   "metadata": {},
   "source": [
    "Ok. Let's collect all available species:"
   ]
  },
  {
   "cell_type": "code",
   "execution_count": null,
   "metadata": {},
   "outputs": [],
   "source": [
    "sheep.value_counts(\"species\")"
   ]
  },
  {
   "cell_type": "markdown",
   "metadata": {},
   "source": [
    "Ok, now collect all samples which are *Ovis aries*:"
   ]
  },
  {
   "cell_type": "code",
   "execution_count": null,
   "metadata": {},
   "outputs": [],
   "source": [
    "ovis_aries = sheep[sheep[\"species\"] == \"Ovis aries\"]\n",
    "ovis_aries.head()"
   ]
  },
  {
   "cell_type": "markdown",
   "metadata": {},
   "source": [
    "How many breeds I have?"
   ]
  },
  {
   "cell_type": "code",
   "execution_count": null,
   "metadata": {},
   "outputs": [],
   "source": [
    "ovis_aries.value_counts(\"breed\")"
   ]
  },
  {
   "cell_type": "markdown",
   "metadata": {},
   "source": [
    "Ensure that there are no *mouflon* in sheep breed names:"
   ]
  },
  {
   "cell_type": "code",
   "execution_count": null,
   "metadata": {},
   "outputs": [],
   "source": [
    "ovis_aries[\"breed\"].str.contains(\"Mouflon\", case=False).any()"
   ]
  },
  {
   "cell_type": "markdown",
   "metadata": {},
   "source": [
    "Ok, now collect *Ovis aries musimon* samples:"
   ]
  },
  {
   "cell_type": "code",
   "execution_count": null,
   "metadata": {},
   "outputs": [],
   "source": [
    "ovis_aries_musimon = sheep[sheep[\"species\"] == \"Ovis aries musimon\"]\n",
    "ovis_aries_musimon.head()"
   ]
  },
  {
   "cell_type": "markdown",
   "metadata": {},
   "source": [
    "How many breeds I have?"
   ]
  },
  {
   "cell_type": "code",
   "execution_count": null,
   "metadata": {},
   "outputs": [],
   "source": [
    "ovis_aries_musimon.value_counts(\"breed\")"
   ]
  },
  {
   "cell_type": "markdown",
   "metadata": {},
   "source": [
    "Ok, try to collect *European mouflon*:"
   ]
  },
  {
   "cell_type": "code",
   "execution_count": null,
   "metadata": {},
   "outputs": [],
   "source": [
    "european_mouflon = ovis_aries_musimon[ovis_aries_musimon[\"breed\"] == \"European mouflon\"]\n",
    "european_mouflon.head()"
   ]
  },
  {
   "cell_type": "markdown",
   "metadata": {},
   "source": [
    "Ok, I'm also interested in *Sardinian mouflon*:"
   ]
  },
  {
   "cell_type": "code",
   "execution_count": null,
   "metadata": {},
   "outputs": [],
   "source": [
    "sardinian_mouflon = ovis_aries_musimon[ovis_aries_musimon[\"breed\"] == \"Sardinian mouflon\"]\n",
    "sardinian_mouflon.head()"
   ]
  },
  {
   "cell_type": "markdown",
   "metadata": {},
   "source": [
    "Should I take *Spanish mouflon* as third outgroup?"
   ]
  },
  {
   "cell_type": "code",
   "execution_count": null,
   "metadata": {},
   "outputs": [],
   "source": [
    "spanish_mouflon = ovis_aries_musimon[ovis_aries_musimon[\"breed\"] == \"Spanish mouflon\"]\n",
    "spanish_mouflon.head()"
   ]
  },
  {
   "cell_type": "markdown",
   "metadata": {},
   "source": [
    "Ok, now track those breeds as three different *outgroup* list:"
   ]
  },
  {
   "cell_type": "code",
   "execution_count": null,
   "metadata": {},
   "outputs": [],
   "source": [
    "european_mouflon[[\"breed_code\", \"smarter_id\"]].to_csv(get_data_dir() / \"european_mouflon.tsv\", index=False, header=False, sep=\"\\t\")\n",
    "sardinian_mouflon[[\"breed_code\", \"smarter_id\"]].to_csv(get_data_dir() / \"sardinian_mouflon.tsv\", index=False, header=False, sep=\"\\t\")\n",
    "spanish_mouflon[[\"breed_code\", \"smarter_id\"]].to_csv(get_data_dir() / \"spanish_mouflon.tsv\", index=False, header=False, sep=\"\\t\")"
   ]
  },
  {
   "cell_type": "markdown",
   "metadata": {},
   "source": [
    "Now, create a *sample txt* file which I can use to extract the *focal* sample I need from smarter database using plink:"
   ]
  },
  {
   "cell_type": "code",
   "execution_count": null,
   "metadata": {},
   "outputs": [],
   "source": [
    "ovis_aries[[\"breed_code\", \"smarter_id\"]].to_csv(get_data_dir() / \"sheep_dataset.tsv\", index=False, header=False, sep=\"\\t\")"
   ]
  },
  {
   "cell_type": "markdown",
   "metadata": {},
   "source": [
    "## Attempt to limit sample size\n",
    "\n",
    "Ok try to download a small dataset to test the pipeline: get information about\n",
    "breeds:"
   ]
  },
  {
   "cell_type": "code",
   "execution_count": null,
   "metadata": {},
   "outputs": [],
   "source": [
    "breed_api = BreedEndpoint()\n",
    "\n",
    "data = breed_api.get_breeds(species=\"Sheep\")\n",
    "page = 1\n",
    "breeds = pd.DataFrame(data[\"items\"])\n",
    "\n",
    "while data[\"next\"] is not None:\n",
    "    data = breed_api.get_breeds(page=page+1, species=\"Sheep\")\n",
    "    df_page = pd.DataFrame(data[\"items\"])\n",
    "    page = data[\"page\"]\n",
    "    breeds = pd.concat([breeds, df_page], ignore_index=True)\n",
    "\n",
    "breeds.info()"
   ]
  },
  {
   "cell_type": "markdown",
   "metadata": {},
   "source": [
    "Try to select samples with a limited number of individuals, for example 50:"
   ]
  },
  {
   "cell_type": "code",
   "execution_count": null,
   "metadata": {},
   "outputs": [],
   "source": [
    "breeds[breeds[\"n_individuals\"] == 50]"
   ]
  },
  {
   "cell_type": "markdown",
   "metadata": {},
   "source": [
    "Ok first focus on `AustralianMerino` breed:"
   ]
  },
  {
   "cell_type": "code",
   "execution_count": null,
   "metadata": {},
   "outputs": [],
   "source": [
    "data = sheep_api.get_samples(code=\"AME\")\n",
    "page = 1\n",
    "sheep = pd.DataFrame(data[\"items\"])\n",
    "sheep.head()"
   ]
  },
  {
   "cell_type": "markdown",
   "metadata": {},
   "source": [
    "These samples seem to come from *50K* chip:"
   ]
  },
  {
   "cell_type": "code",
   "execution_count": null,
   "metadata": {},
   "outputs": [],
   "source": [
    "sheep[\"chip_name\"].value_counts()"
   ]
  },
  {
   "cell_type": "markdown",
   "metadata": {},
   "source": [
    "Track those samples in a CSV file:"
   ]
  },
  {
   "cell_type": "code",
   "execution_count": null,
   "metadata": {},
   "outputs": [],
   "source": [
    "sheep[[\"breed_code\", \"smarter_id\"]].to_csv(get_data_dir() / \"AME_50K.tsv\", index=False, header=False, sep=\"\\t\")"
   ]
  },
  {
   "cell_type": "markdown",
   "metadata": {},
   "source": [
    "Now on `Île de France` breed:"
   ]
  },
  {
   "cell_type": "code",
   "execution_count": null,
   "metadata": {},
   "outputs": [],
   "source": [
    "data = sheep_api.get_samples(code=\"IDF\")\n",
    "page = 1\n",
    "sheep = pd.DataFrame(data[\"items\"])\n",
    "sheep.head()"
   ]
  },
  {
   "cell_type": "markdown",
   "metadata": {},
   "source": [
    "These samples seem to come from bot *50k* and *HD* chip:"
   ]
  },
  {
   "cell_type": "code",
   "execution_count": null,
   "metadata": {},
   "outputs": [],
   "source": [
    "sheep[\"chip_name\"].value_counts()"
   ]
  },
  {
   "cell_type": "markdown",
   "metadata": {},
   "source": [
    "Ok take only *HD* samples:"
   ]
  },
  {
   "cell_type": "code",
   "execution_count": null,
   "metadata": {},
   "outputs": [],
   "source": [
    "sheep = sheep[sheep[\"chip_name\"] == \"IlluminaOvineHDSNP\"]\n",
    "sheep.info()"
   ]
  },
  {
   "cell_type": "markdown",
   "metadata": {},
   "source": [
    "Track those samples in a CSV file:"
   ]
  },
  {
   "cell_type": "code",
   "execution_count": null,
   "metadata": {},
   "outputs": [],
   "source": [
    "sheep[[\"breed_code\", \"smarter_id\"]].to_csv(get_data_dir() / \"IDF_HD.tsv\", index=False, header=False, sep=\"\\t\")"
   ]
  }
 ],
 "metadata": {
  "kernelspec": {
   "display_name": "Python 3 (ipykernel)",
   "language": "python",
   "name": "python3"
  },
  "language_info": {
   "codemirror_mode": {
    "name": "ipython",
    "version": 3
   },
   "file_extension": ".py",
   "mimetype": "text/x-python",
   "name": "python",
   "nbconvert_exporter": "python",
   "pygments_lexer": "ipython3",
   "version": "3.9.16"
  }
 },
 "nbformat": 4,
 "nbformat_minor": 2
}
