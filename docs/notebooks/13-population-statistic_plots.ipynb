{
 "cells": [
  {
   "cell_type": "code",
   "execution_count": null,
   "metadata": {},
   "outputs": [],
   "source": [
    "import pandas as pd\n",
    "from lets_plot import *\n",
    "LetsPlot.setup_html()"
   ]
  },
  {
   "cell_type": "code",
   "execution_count": null,
   "metadata": {},
   "outputs": [],
   "source": [
    "import os\n",
    "os.getcwd()"
   ]
  },
  {
   "cell_type": "markdown",
   "metadata": {},
   "source": [
    "Define which chromosome to be plotted and the breed of interest. Also determine a\n",
    "second breed for comparisons. \n",
    "chr argument should be numeric"
   ]
  },
  {
   "cell_type": "code",
   "execution_count": null,
   "metadata": {},
   "outputs": [],
   "source": [
    "# import sys\n",
    "# args = sys.argv\n",
    "# chr=args[1]\n",
    "# pop1=args[2]\n",
    "# pop2=args[3]\n",
    "\n",
    "# these are exmaple values. Must be changed!!!!\n",
    "# 'LAT', 'CHR'\n",
    "chr = 1\n",
    "pop1 = 'LAT'\n",
    "pop2 = 'CHR'"
   ]
  },
  {
   "cell_type": "code",
   "execution_count": null,
   "metadata": {},
   "outputs": [],
   "source": [
    "tajima = pd.DataFrame()\n",
    "\n",
    "for chromosome in range(1, 2):\n",
    "    tmp = pd.read_csv(\"WindowedTajima_\" + str(chromosome) + \".csv\")\n",
    "    tmp.loc[:, \"Chr\"] = chromosome\n",
    "    tajima = pd.concat([tajima, tmp])"
   ]
  },
  {
   "cell_type": "code",
   "execution_count": null,
   "metadata": {},
   "outputs": [],
   "source": [
    "plot = ggplot(data = tajima) + geom_line(aes(x = \"Breakpoint\", y = \"TajimaD\")) + \\\n",
    "    facet_wrap(facets = [\"Chr\", \"Breed\"], scales = \"free\") + ggtitle(\"TajimaD, remapped\")\n",
    "plot"
   ]
  },
  {
   "cell_type": "code",
   "execution_count": null,
   "metadata": {},
   "outputs": [],
   "source": [
    "ggsave(plot, \"WindowedTajimaD_\" + pop1 + \".png\")"
   ]
  },
  {
   "cell_type": "code",
   "execution_count": null,
   "metadata": {},
   "outputs": [],
   "source": [
    "# tajima not windowed\n",
    "tajima = pd.read_csv(\"Tajima_\" + str(chr) + \".csv\")"
   ]
  },
  {
   "cell_type": "code",
   "execution_count": null,
   "metadata": {},
   "outputs": [],
   "source": [
    "plot = ggplot(data = tajima) + \\\n",
    "    geom_bar(aes(x = \"Breed\", y = \"TajimaD\"), stat = \"identity\") + \\\n",
    "        ggtitle(f\"Chr{chr}'s TajimaD, not windowed\")\n",
    "\n",
    "plot"
   ]
  },
  {
   "cell_type": "code",
   "execution_count": null,
   "metadata": {},
   "outputs": [],
   "source": [
    "ggsave(plot, f\"TajimaD_chr{chr}.png\")"
   ]
  }
 ],
 "metadata": {
  "kernelspec": {
   "display_name": "tskitetude-hh-GIRXc-py3.10",
   "language": "python",
   "name": "python3"
  },
  "language_info": {
   "codemirror_mode": {
    "name": "ipython",
    "version": 3
   },
   "file_extension": ".py",
   "mimetype": "text/x-python",
   "name": "python",
   "nbconvert_exporter": "python",
   "pygments_lexer": "ipython3",
   "version": "3.10.15"
  }
 },
 "nbformat": 4,
 "nbformat_minor": 4
}
