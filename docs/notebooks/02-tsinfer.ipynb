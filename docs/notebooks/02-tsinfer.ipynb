{
 "cells": [
  {
   "cell_type": "markdown",
   "metadata": {},
   "source": [
    "# TSINFER tutorial\n",
    "## Toy example\n",
    "Supposing to have phased haplotype data for five samples at six sites like this:\n",
    "\n",
    "```text\n",
    "sample  haplotype\n",
    "0       AGCGAT\n",
    "1       TGACAG\n",
    "2       AGACAC\n",
    "3       ACCGCT\n",
    "4       ACCGCT\n",
    "```\n",
    "\n",
    "Before to derive a `tstree` object that model these data, in need to import data\n",
    "with `tsinfer`: this requires to know the ancestral alleles first:"
   ]
  },
  {
   "cell_type": "code",
   "execution_count": null,
   "metadata": {},
   "outputs": [],
   "source": [
    "import string\n",
    "import numpy as np\n",
    "import tsinfer\n",
    "import cyvcf2\n",
    "import json\n",
    "import tsdate\n",
    "\n",
    "from tqdm.notebook import tqdm\n",
    "from tskit import MISSING_DATA\n",
    "\n",
    "from tskitetude import get_data_dir"
   ]
  },
  {
   "cell_type": "code",
   "execution_count": null,
   "metadata": {},
   "outputs": [],
   "source": [
    "with tsinfer.SampleData(sequence_length=6) as sample_data:\n",
    "    sample_data.add_site(0, [0, 1, 0, 0, 0], [\"A\", \"T\"], ancestral_allele=0)\n",
    "    sample_data.add_site(1, [0, 0, 0, 1, 1], [\"G\", \"C\"], ancestral_allele=0)\n",
    "    sample_data.add_site(2, [0, 1, 1, 0, 0], [\"C\", \"A\"], ancestral_allele=0)\n",
    "    sample_data.add_site(3, [0, 1, 1, 0, 0], [\"G\", \"C\"], ancestral_allele=MISSING_DATA)\n",
    "    sample_data.add_site(4, [0, 0, 0, 1, 1], [\"A\", \"C\"], ancestral_allele=0)\n",
    "    sample_data.add_site(5, [0, 1, 2, 0, 0], [\"T\", \"G\", \"C\"], ancestral_allele=0)"
   ]
  },
  {
   "cell_type": "markdown",
   "metadata": {},
   "source": [
    "`tsinfer.Sampledata` is the object required for inferring a `tstree` object. Using \n",
    "the `add_site()` method a can add information for each SNP respectively. The first\n",
    "argument is the *SNP position*: here for simplicity we track SNP in positional order\n",
    "but it can be any positive value (even float). The only requirement is that this \n",
    "position should be unique and added in increasing order. The 2nd argument is for \n",
    "the *genotypes* of each sample in this position: is and index of the allele I can \n",
    "find in the 3rd argument. If I have a missing data, I need to use the `tskit.MISSING_DATA`\n",
    "The last argument is the index of the ancestral allele. Not all the sites are used\n",
    "to infer the *tree* object: sites with missing data or ancestral alleles or sites with\n",
    "more than 2 genotypes are not considered by will be modeled in the resulting tree.\n",
    "Once we have the `SampleData` instance, we can infer a `tstree` object using\n",
    "`tsinfer.infer`:"
   ]
  },
  {
   "cell_type": "code",
   "execution_count": null,
   "metadata": {},
   "outputs": [],
   "source": [
    "ts = tsinfer.infer(sample_data)"
   ]
  },
  {
   "cell_type": "markdown",
   "metadata": {},
   "source": [
    "This `ts` object is a full *Tree Sequence* object:"
   ]
  },
  {
   "cell_type": "code",
   "execution_count": null,
   "metadata": {},
   "outputs": [],
   "source": [
    "ts"
   ]
  },
  {
   "cell_type": "markdown",
   "metadata": {},
   "source": [
    "This *Tree sequence* object can be analyzed as usual:"
   ]
  },
  {
   "cell_type": "code",
   "execution_count": null,
   "metadata": {},
   "outputs": [],
   "source": [
    "print(\"==Haplotypes==\")\n",
    "for sample_id, h in enumerate(ts.haplotypes()):\n",
    "    print(sample_id, h, sep=\"\\t\")\n",
    "ts.draw_svg(y_axis=True)"
   ]
  },
  {
   "cell_type": "markdown",
   "metadata": {},
   "source": [
    "If I understand correctly, `tsinfer` can impute missing data (check this). For the\n",
    "data I put, there's a *root* note with three *childs*: this is also known as *polytomy*.\n",
    "Every *internal* node represent an ancestral sequence, By default, the time of those\n",
    "nodes is not measured in years or generations, but is the frequency of the shared\n",
    "derived alleles on which the ancestral sequence is based. This is why the time is\n",
    "*uncalibrated* in the graph above."
   ]
  },
  {
   "cell_type": "code",
   "execution_count": null,
   "metadata": {},
   "outputs": [],
   "source": [
    "# Extra code to label and order the tips alphabetically rather than numerically\n",
    "labels = {i: string.ascii_lowercase[i] for i in range(ts.num_nodes)}\n",
    "genome_order = [n for n in ts.first().nodes(order=\"minlex_postorder\") if ts.node(n).is_sample()]\n",
    "labels.update({n: labels[i] for i, n in enumerate(genome_order)})\n",
    "style1 = (\n",
    "    \".node:not(.sample) > .sym, .node:not(.sample) > .lab {visibility: hidden;}\"\n",
    "    \".mut {font-size: 12px} .y-axis .tick .lab {font-size: 85%}\")\n",
    "sz = (800, 250)  # size of the plot, slightly larger than the default\n",
    "\n",
    "# ticks = [0, 5000, 10000, 15000, 20000]\n",
    "# get max generations time:\n",
    "max_time = ts.node(ts.get_num_nodes() - 1).time\n",
    "ticks = np.linspace(0, max_time, 5)\n",
    "ts.draw_svg(\n",
    "    size=sz, node_labels=labels, style=style1, y_label=\"Time ago (uncalibrated)\",\n",
    "    y_axis=True, y_ticks=ticks)"
   ]
  },
  {
   "cell_type": "markdown",
   "metadata": {},
   "source": [
    "## Inferring dates\n",
    "\n",
    "To infer *dates* we can use `tsdate.date` with default parameter and by \n",
    "specifying *Effective population sizes* and *mutation rate*:"
   ]
  },
  {
   "cell_type": "code",
   "execution_count": null,
   "metadata": {},
   "outputs": [],
   "source": [
    "dated_ts = tsdate.date(ts, mutation_rate=1e-8, Ne=1e4)\n",
    "dated_ts"
   ]
  },
  {
   "cell_type": "code",
   "execution_count": null,
   "metadata": {},
   "outputs": [],
   "source": [
    "dated_ts.draw_svg(y_axis=True, size=(800, 250))"
   ]
  },
  {
   "cell_type": "markdown",
   "metadata": {},
   "source": [
    "## Data example\n",
    "\n",
    "This is the [Data example](https://tskit.dev/tsinfer/docs/stable/tutorial.html#data-example)\n",
    "part of the tutorial:"
   ]
  },
  {
   "cell_type": "code",
   "execution_count": null,
   "metadata": {},
   "outputs": [],
   "source": [
    "def add_diploid_sites(vcf, samples):\n",
    "    \"\"\"\n",
    "    Read the sites in the vcf and add them to the samples object.\n",
    "    \"\"\"\n",
    "    # You may want to change the following line, e.g. here we allow\n",
    "    # \"*\" (a spanning deletion) to be a valid allele state\n",
    "    allele_chars = set(\"ATGCatgc*\")\n",
    "    pos = 0\n",
    "    progressbar = tqdm(total=samples.sequence_length, desc=\"Read VCF\", unit='bp')\n",
    "\n",
    "    for variant in vcf:  # Loop over variants, each assumed at a unique site\n",
    "        progressbar.update(variant.POS - pos)\n",
    "\n",
    "        if pos == variant.POS:\n",
    "            print(f\"Duplicate entries at position {pos}, ignoring all but the first\")\n",
    "            continue\n",
    "\n",
    "        else:\n",
    "            pos = variant.POS\n",
    "\n",
    "        if any([not phased for _, _, phased in variant.genotypes]):\n",
    "            raise ValueError(\"Unphased genotypes for variant at position\", pos)\n",
    "\n",
    "        alleles = [variant.REF.upper()] + [v.upper() for v in variant.ALT]\n",
    "        ancestral = variant.INFO.get(\"AA\", \".\")  # \".\" means unknown\n",
    "\n",
    "        # some VCFs (e.g. from 1000G) have many values in the AA field: take the 1st\n",
    "        ancestral = ancestral.split(\"|\")[0].upper()\n",
    "\n",
    "        if ancestral == \".\" or ancestral == \"\":\n",
    "            ancestral_allele = MISSING_DATA\n",
    "            # alternatively, you could specify `ancestral = variant.REF.upper()`\n",
    "\n",
    "        else:\n",
    "            ancestral_allele = alleles.index(ancestral)\n",
    "\n",
    "        # Check we have ATCG alleles\n",
    "        for a in alleles:\n",
    "            if len(set(a) - allele_chars) > 0:\n",
    "                print(f\"Ignoring site at pos {pos}: allele {a} not in {allele_chars}\")\n",
    "                continue\n",
    "\n",
    "        # Map original allele indexes to their indexes in the new alleles list.\n",
    "        genotypes = [g for row in variant.genotypes for g in row[0:2]]\n",
    "        samples.add_site(pos, genotypes, alleles, ancestral_allele=ancestral_allele)\n",
    "\n",
    "\n",
    "def chromosome_length(vcf):\n",
    "    assert len(vcf.seqlens) == 1\n",
    "    return vcf.seqlens[0]\n",
    "\n",
    "\n",
    "# NB: could also read from an online version by setting vcf_location to\n",
    "# \"https://github.com/tskit-dev/tsinfer/raw/main/docs/_static/P_dom_chr24_phased.vcf.gz\"\n",
    "vcf_location =  get_data_dir() / \"P_dom_chr24_phased.vcf.gz\"\n",
    "samples_location = get_data_dir() / \"P_dom_chr24_phased.samples\"\n",
    "\n",
    "vcf = cyvcf2.VCF(vcf_location)\n",
    "\n",
    "with tsinfer.SampleData(\n",
    "    path=str(samples_location), sequence_length=chromosome_length(vcf)\n",
    ") as samples:\n",
    "    add_diploid_sites(vcf, samples)\n",
    "\n",
    "print(\n",
    "    \"Sample file created for {} samples \".format(samples.num_samples)\n",
    "    + \"({} individuals) \".format(samples.num_individuals)\n",
    "    + \"with {} variable sites.\".format(samples.num_sites),\n",
    "    flush=True,\n",
    ")\n",
    "\n",
    "# Do the inference\n",
    "ts = tsinfer.infer(samples)\n",
    "print(\n",
    "    \"Inferred tree sequence: {} trees over {} Mb ({} edges)\".format(\n",
    "        ts.num_trees, ts.sequence_length / 1e6, ts.num_edges\n",
    "    )\n",
    ")"
   ]
  },
  {
   "cell_type": "markdown",
   "metadata": {},
   "source": [
    "There's also a parallel version of this `add_diploid_sites` [here](https://github.com/tskit-dev/tsinfer/issues/277#issuecomment-652024871).\n",
    "Well, until now I added 20 different individuals (with a single chromosome) instead \n",
    "of adding 10 diploid individuals. I can change something to add more chromosomes \n",
    "to the same individual, and even add other meta information to the three:"
   ]
  },
  {
   "cell_type": "code",
   "execution_count": null,
   "metadata": {},
   "outputs": [],
   "source": [
    "def add_populations(vcf, samples):\n",
    "    \"\"\"\n",
    "    Add tsinfer Population objects and returns a list of IDs corresponding to the VCF samples.\n",
    "    \"\"\"\n",
    "\n",
    "    # In this VCF, the first letter of the sample name refers to the population\n",
    "    samples_first_letter = [sample_name[0] for sample_name in vcf.samples]\n",
    "\n",
    "    pop_lookup = {}\n",
    "    pop_lookup[\"8\"] = samples.add_population(metadata={\"country\": \"Norway\"})\n",
    "    pop_lookup[\"F\"] = samples.add_population(metadata={\"country\": \"France\"})\n",
    "\n",
    "    return [pop_lookup[first_letter] for first_letter in samples_first_letter]\n",
    "\n",
    "\n",
    "def add_diploid_individuals(vcf, samples, populations):\n",
    "    for name, population in zip(vcf.samples, populations):\n",
    "        samples.add_individual(ploidy=2, metadata={\"name\": name}, population=population)\n",
    "\n",
    "\n",
    "# Repeat as previously but add both populations and individuals\n",
    "vcf_location =  get_data_dir() / \"P_dom_chr24_phased.vcf.gz\"\n",
    "samples_location = get_data_dir() / \"P_dom_chr24_phased.samples\"\n",
    "\n",
    "vcf = cyvcf2.VCF(vcf_location)\n",
    "with tsinfer.SampleData(\n",
    "        path=str(samples_location), sequence_length=chromosome_length(vcf)\n",
    "        ) as samples:\n",
    "    populations = add_populations(vcf, samples)\n",
    "    add_diploid_individuals(vcf, samples, populations)\n",
    "    add_diploid_sites(vcf, samples)\n",
    "\n",
    "print(\n",
    "    \"Sample file created for {} samples \".format(samples.num_samples)\n",
    "    + \"({} individuals) \".format(samples.num_individuals)\n",
    "    + \"with {} variable sites.\".format(samples.num_sites),\n",
    "    flush=True,\n",
    ")\n",
    "\n",
    "# Do the inference\n",
    "sparrow_ts = tsinfer.infer(samples)\n",
    "\n",
    "print(\n",
    "    \"Inferred tree sequence `{}`: {} trees over {} Mb\".format(\n",
    "        \"sparrow_ts\", sparrow_ts.num_trees, sparrow_ts.sequence_length / 1e6\n",
    "    )\n",
    ")\n",
    "# Check the metadata\n",
    "for sample_node_id in sparrow_ts.samples():\n",
    "    individual_id = sparrow_ts.node(sample_node_id).individual\n",
    "    population_id = sparrow_ts.node(sample_node_id).population\n",
    "    print(\n",
    "        \"Node\",\n",
    "        sample_node_id,\n",
    "        \"labels a chr24 sampled from individual\",\n",
    "        json.loads(sparrow_ts.individual(individual_id).metadata),\n",
    "        \"in\",\n",
    "        json.loads(sparrow_ts.population(population_id).metadata)[\"country\"],\n",
    "    )"
   ]
  },
  {
   "cell_type": "markdown",
   "metadata": {},
   "source": [
    "## Analysis\n",
    "\n",
    "Now analyses can be done with `tskit` libraries. I can't show the full *tree sequences*\n",
    "for this object, I can focus to a segment however:"
   ]
  },
  {
   "cell_type": "code",
   "execution_count": null,
   "metadata": {},
   "outputs": [],
   "source": [
    "colours = {\"Norway\": \"red\", \"France\": \"blue\"}\n",
    "colours_for_node = {}\n",
    "\n",
    "for n in sparrow_ts.samples():\n",
    "    population_data = sparrow_ts.population(sparrow_ts.node(n).population)\n",
    "    colours_for_node[n] = colours[json.loads(population_data.metadata)[\"country\"]]\n",
    "\n",
    "individual_for_node = {}\n",
    "for n in sparrow_ts.samples():\n",
    "    individual_data = sparrow_ts.individual(sparrow_ts.node(n).individual)\n",
    "    individual_for_node[n] = json.loads(individual_data.metadata)[\"name\"]\n",
    "\n",
    "tree = sparrow_ts.at(1e6)\n",
    "tree.draw(\n",
    "    height=700,\n",
    "    width=1200,\n",
    "    node_labels=individual_for_node,\n",
    "    node_colours=colours_for_node,\n",
    ")"
   ]
  },
  {
   "cell_type": "code",
   "execution_count": null,
   "metadata": {},
   "outputs": [],
   "source": []
  }
 ],
 "metadata": {
  "kernelspec": {
   "display_name": "Python 3 (ipykernel)",
   "language": "python",
   "name": "python3"
  },
  "language_info": {
   "codemirror_mode": {
    "name": "ipython",
    "version": 3
   },
   "file_extension": ".py",
   "mimetype": "text/x-python",
   "name": "python",
   "nbconvert_exporter": "python",
   "pygments_lexer": "ipython3",
   "version": "3.9.2"
  }
 },
 "nbformat": 4,
 "nbformat_minor": 2
}
