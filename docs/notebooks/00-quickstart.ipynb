{
 "cells": [
  {
   "cell_type": "markdown",
   "metadata": {},
   "source": [
    "# Quickstart\n",
    "\n",
    "This document tries to follow the [tskit quickstart](https://tskit.dev/tskit/docs/stable/quickstart.html).\n",
    "\n",
    "A *tree sequence* represents the ancestral relationships between a set of DNA sequences. It provides an efficient way to store genetic variation data. For a more comprehensive description of *tree sequence* see [What is a tree sequence?](https://tskit.dev/tutorials/what_is.html)\n",
    "\n",
    "Any *tree sequences* generated or not with [msprime](https://tskit.dev/msprime/docs/stable/intro.html) can be loaded and a summary table printed"
   ]
  },
  {
   "cell_type": "code",
   "execution_count": null,
   "metadata": {},
   "outputs": [],
   "source": [
    "import tskit\n",
    "import string\n",
    "import numpy as np\n",
    "\n",
    "from tskitetude import get_project_dir"
   ]
  },
  {
   "cell_type": "markdown",
   "metadata": {},
   "source": [
    "Collect the `` from GitHub:\n",
    "\n",
    "```bash\n",
    "wget https://github.com/tskit-dev/tskit/raw/main/docs/data/basic_tree_seq.trees -O data/basic_tree_seq.trees\n",
    "```"
   ]
  },
  {
   "cell_type": "code",
   "execution_count": null,
   "metadata": {},
   "outputs": [],
   "source": [
    "# load a sample tree sequence\n",
    "ts = tskit.load(get_project_dir() / \"data/basic_tree_seq.trees\")  # Or generate using e.g. msprime.sim_ancestry()\n",
    "ts  # In a Jupyter notebook this displays a summary table. Otherwise use print(ts)"
   ]
  },
  {
   "cell_type": "markdown",
   "metadata": {},
   "source": [
    "Get and print first tree in sequence:"
   ]
  },
  {
   "cell_type": "code",
   "execution_count": null,
   "metadata": {},
   "outputs": [],
   "source": [
    "first_tree = ts.first()\n",
    "print(\"Total branch length in first tree is\", first_tree.total_branch_length, ts.time_units)\n",
    "print(\"The first of\", ts.num_trees, \"trees is plotted below\")\n",
    "first_tree.draw_svg(y_axis=True)  # plot the tree: only useful for small trees"
   ]
  },
  {
   "cell_type": "markdown",
   "metadata": {},
   "source": [
    "Printing trees with mutation sites:"
   ]
  },
  {
   "cell_type": "code",
   "execution_count": null,
   "metadata": {},
   "outputs": [],
   "source": [
    "# Extra code to label and order the tips alphabetically rather than numerically\n",
    "labels = {i: string.ascii_lowercase[i] for i in range(ts.num_nodes)}\n",
    "genome_order = [n for n in ts.first().nodes(order=\"minlex_postorder\") if ts.node(n).is_sample()]\n",
    "labels.update({n: labels[i] for i, n in enumerate(genome_order)})\n",
    "style1 = (\n",
    "    \".node:not(.sample) > .sym, .node:not(.sample) > .lab {visibility: hidden;}\"\n",
    "    \".mut {font-size: 12px} .y-axis .tick .lab {font-size: 85%}\")\n",
    "sz = (800, 250)  # size of the plot, slightly larger than the default\n",
    "\n",
    "# ticks = [0, 5000, 10000, 15000, 20000]\n",
    "# get max generations time:\n",
    "max_time = ts.node(ts.get_num_nodes() - 1).time\n",
    "ticks = np.linspace(0, max_time, 5)\n",
    "ts.draw_svg(\n",
    "    size=sz, node_labels=labels, style=style1, y_label=\"Time ago\",\n",
    "    y_axis=True, y_ticks=ticks)"
   ]
  },
  {
   "cell_type": "markdown",
   "metadata": {},
   "source": [
    "## Extract genetic data\n",
    "A tree sequence provides an extremely compact way to store [genetic variation data](https://tskit.dev/tutorials/what_is.html#sec-what-is-dna-data). The trees allow this data to be decoded at each site:"
   ]
  },
  {
   "cell_type": "code",
   "execution_count": null,
   "metadata": {},
   "outputs": [],
   "source": [
    "for variant in ts.variants():\n",
    "    print(\n",
    "        \"Variable site\", variant.site.id,\n",
    "        \"at genome position\", variant.site.position,\n",
    "        \":\", [variant.alleles[g] for g in variant.genotypes],\n",
    "    )"
   ]
  },
  {
   "cell_type": "markdown",
   "metadata": {},
   "source": [
    "Here is how I can display mutations in trees (adapted from [An efficient encoding of DNA data](https://tskit.dev/tutorials/what_is.html#sec-what-is-dna-data)):"
   ]
  },
  {
   "cell_type": "code",
   "execution_count": null,
   "metadata": {},
   "outputs": [],
   "source": [
    "mut_labels = {}  # An array of labels for the mutations, listing position & allele change\n",
    "l = \"{:g} ({}→{})\"\n",
    "for mut in ts.mutations():  # This entire loop is just to make pretty labels\n",
    "    site = ts.site(mut.site)\n",
    "    older_mut = mut.parent >= 0  # is there an older mutation at the same position?\n",
    "    prev = ts.mutation(mut.parent).derived_state if older_mut else site.ancestral_state\n",
    "    mut_labels[mut.id] = l.format(site.position, prev, mut.derived_state)\n",
    "\n",
    "# Extra code to label and order the tips alphabetically rather than numerically\n",
    "labels = {i: string.ascii_lowercase[i] for i in range(ts.num_nodes)}\n",
    "genome_order = [n for n in ts.first().nodes(order=\"minlex_postorder\") if ts.node(n).is_sample()]\n",
    "labels.update({n: labels[i] for i, n in enumerate(genome_order)})\n",
    "style1 = (\n",
    "    \".node:not(.sample) > .sym, .node:not(.sample) > .lab {visibility: hidden;}\"\n",
    "    \".mut {font-size: 12px} .y-axis .tick .lab {font-size: 85%}\")\n",
    "sz = (800, 250)  # size of the plot, slightly larger than the default\n",
    "\n",
    "ts.draw_svg(\n",
    "    size=sz, style=style1, node_labels=labels, mutation_labels=mut_labels)"
   ]
  },
  {
   "cell_type": "markdown",
   "metadata": {},
   "source": [
    "## Analysis\n",
    "\n",
    "Tree sequences enable efficient [analysis](https://tskit.dev/tutorials/what_is.html#sec-what-is-analysis) \n",
    "of genetic variation using a comprehensive range of built-in [Statistics](https://tskit.dev/tskit/docs/stable/stats.html#sec-stats):"
   ]
  },
  {
   "cell_type": "code",
   "execution_count": null,
   "metadata": {},
   "outputs": [],
   "source": [
    "genetic_diversity = ts.diversity()\n",
    "print(\"Av. genetic diversity across the genome is\", genetic_diversity)\n",
    "\n",
    "branch_diversity = ts.diversity(mode=\"branch\")\n",
    "print(\"Av. genealogical dist. between pairs of tips is\", branch_diversity,  ts.time_units)"
   ]
  },
  {
   "cell_type": "markdown",
   "metadata": {},
   "source": [
    "## Plotting the whole tree sequence\n",
    "This can give you a visual feel for small genealogies:"
   ]
  },
  {
   "cell_type": "code",
   "execution_count": null,
   "metadata": {},
   "outputs": [],
   "source": [
    "ts.draw_svg(\n",
    "    size=(800, 300),\n",
    "    y_axis=True,\n",
    "    mutation_labels={m.id: m.derived_state for m in ts.mutations()},\n",
    ")"
   ]
  },
  {
   "cell_type": "markdown",
   "metadata": {},
   "source": [
    "## Underlying data structures\n",
    "The data that defines a tree sequence is stored in a set of tables. These tables\n",
    "can be viewed, and copies of the tables can be edited to create a new tree sequence."
   ]
  },
  {
   "cell_type": "code",
   "execution_count": null,
   "metadata": {},
   "outputs": [],
   "source": [
    "# The sites table is one of several tables that underlie a tree sequence\n",
    "ts.tables.sites"
   ]
  }
 ],
 "metadata": {
  "kernelspec": {
   "display_name": "Python 3 (ipykernel)",
   "language": "python",
   "name": "python3"
  },
  "language_info": {
   "codemirror_mode": {
    "name": "ipython",
    "version": 3
   },
   "file_extension": ".py",
   "mimetype": "text/x-python",
   "name": "python",
   "nbconvert_exporter": "python",
   "pygments_lexer": "ipython3",
   "version": "3.12.5"
  }
 },
 "nbformat": 4,
 "nbformat_minor": 2
}
