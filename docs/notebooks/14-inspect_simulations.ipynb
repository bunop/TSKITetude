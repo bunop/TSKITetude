{
 "cells": [
  {
   "cell_type": "markdown",
   "metadata": {},
   "source": [
    "# Analyze the simulated data\n",
    "\n",
    "## Simulation on 2K SNPs"
   ]
  },
  {
   "cell_type": "code",
   "execution_count": null,
   "metadata": {},
   "outputs": [],
   "source": [
    "import numpy as np\n",
    "import pandas as pd\n",
    "\n",
    "import tskit\n",
    "\n",
    "from tskitetude import get_data_dir"
   ]
  },
  {
   "cell_type": "markdown",
   "metadata": {},
   "source": [
    "Analyze the `data/sheepTSsimMilano/ts300I2k.vcf.gz` generated using msprime. Get a list of all sample names, then Call the `create_tstree` with the following parameters:\n",
    "\n",
    "```bash\n",
    "bcftools query -l ts300I2k.vcf.gz > ts300I2k.sample_names.txt\n",
    "create_tstree --vcf ts300I2k.vcf.gz --focal ts300I2k.sample_names.txt --ancestral_as_reference \\\n",
    "    --output_samples ts300I2k.inferred.samples --output_trees ts300I2k.inferred.trees --num_threads 16 \\\n",
    "    --mutation_rate 5.87e-9 --ne 34500\n",
    "```\n",
    "\n",
    "The `5.87-9` and `34500` are the mutation rate and effective population size respectively. The `--ancestral_as_reference` flag is used to treat the ancestral allele as the reference allele. The `--num_threads 4` flag is used to specify the number of threads to use. The `--output_samples` flag is used to specify the output file for the inferred samples. The `--output_trees` flag is used to specify the output file for the inferred trees. "
   ]
  },
  {
   "cell_type": "code",
   "execution_count": null,
   "metadata": {},
   "outputs": [],
   "source": [
    "mutation_rate = 5.87e-9\n",
    "print(\"Mutation rate: \", mutation_rate)"
   ]
  },
  {
   "cell_type": "code",
   "execution_count": null,
   "metadata": {},
   "outputs": [],
   "source": [
    "ts300I2k = tskit.load(get_data_dir() / \"sheepTSsimMilano/ts300I2k.inferred.trees\")\n",
    "ts300I2k"
   ]
  },
  {
   "cell_type": "code",
   "execution_count": null,
   "metadata": {},
   "outputs": [],
   "source": [
    "ts300I2k.diversity()"
   ]
  },
  {
   "cell_type": "code",
   "execution_count": null,
   "metadata": {},
   "outputs": [],
   "source": [
    "ts300I2k.diversity(mode=\"branch\") * mutation_rate"
   ]
  },
  {
   "cell_type": "markdown",
   "metadata": {},
   "source": [
    "## Simulation on 25K SNPs\n",
    "\n",
    "```bash\n",
    "bcftools query -l ts300I25k.vcf.gz > ts300I25k.sample_names.txt\n",
    "create_tstree --vcf ts300I25k.vcf.gz --focal ts300I25k.sample_names.txt --ancestral_as_reference \\\n",
    "    --output_samples ts300I25k.inferred.samples --output_trees ts300I25k.inferred.trees --num_threads 16 \\\n",
    "    --mutation_rate 5.87e-9 --ne 34500\n",
    "```"
   ]
  },
  {
   "cell_type": "code",
   "execution_count": null,
   "metadata": {},
   "outputs": [],
   "source": [
    "ts300I25k = tskit.load(get_data_dir() / \"sheepTSsimMilano/ts300I25k.inferred.trees\")\n",
    "ts300I25k"
   ]
  },
  {
   "cell_type": "code",
   "execution_count": null,
   "metadata": {},
   "outputs": [],
   "source": [
    "ts300I25k.diversity()"
   ]
  },
  {
   "cell_type": "code",
   "execution_count": null,
   "metadata": {},
   "outputs": [],
   "source": [
    "ts300I25k.diversity(mode=\"branch\") * mutation_rate"
   ]
  },
  {
   "cell_type": "markdown",
   "metadata": {},
   "source": [
    "## Simulation on entire dataset\n",
    "\n",
    "```bash\n",
    "bbcftools query -l tsm100M300I.vcf.gz > tsm100M300I.sample_names.txt\n",
    "create_tstree --vcf tsm100M300I.vcf.gz --focal tsm100M300I.sample_names.txt \\\n",
    "    --ancestral_as_reference --output_samples tsm100M300I.inferred.samples \\\n",
    "    --output_trees tsm100M300I.inferred.trees --num_threads 16 \\\n",
    "    --mutation_rate 5.87e-9 --ne 34500\n",
    "```"
   ]
  },
  {
   "cell_type": "code",
   "execution_count": null,
   "metadata": {},
   "outputs": [],
   "source": [
    "tsm100M300I = tskit.load(get_data_dir() / \"sheepTSsimMilano/tsm100M300I.inferred.trees\")\n",
    "tsm100M300I"
   ]
  },
  {
   "cell_type": "code",
   "execution_count": null,
   "metadata": {},
   "outputs": [],
   "source": [
    "tsm100M300I.diversity()"
   ]
  },
  {
   "cell_type": "code",
   "execution_count": null,
   "metadata": {},
   "outputs": [],
   "source": [
    "tsm100M300I.diversity(mode=\"branch\") * mutation_rate"
   ]
  },
  {
   "cell_type": "markdown",
   "metadata": {},
   "source": [
    "## Calculate FST\n",
    "define individuals list:"
   ]
  },
  {
   "cell_type": "code",
   "execution_count": null,
   "metadata": {},
   "outputs": [],
   "source": [
    "indList = [np.arange(10)] + [np.arange(600*i+10, 600*(i+1)+10) for i in range(8)]"
   ]
  },
  {
   "cell_type": "code",
   "execution_count": null,
   "metadata": {},
   "outputs": [],
   "source": [
    "[i.Fst([indList[0], indList[1]], mode=\"branch\") for i in [ts300I2k, ts300I25k, tsm100M300I]]\n"
   ]
  },
  {
   "cell_type": "markdown",
   "metadata": {},
   "source": [
    "And then with `site` mode:"
   ]
  },
  {
   "cell_type": "code",
   "execution_count": null,
   "metadata": {},
   "outputs": [],
   "source": [
    "[i.Fst([indList[0], indList[1]], mode=\"site\") for i in [ts300I2k, ts300I25k, tsm100M300I]]\n"
   ]
  },
  {
   "cell_type": "code",
   "execution_count": null,
   "metadata": {},
   "outputs": [],
   "source": [
    "tmp = {\n",
    "    \"simulation\": [\"ts300I2k\", \"ts300I25k\", \"tsm100M300I\"],\n",
    "    \"diversity\": [ts300I2k.diversity(), ts300I25k.diversity(), tsm100M300I.diversity()],\n",
    "    \"diversity_branch\": [\n",
    "        ts300I2k.diversity(mode=\"branch\") * mutation_rate,\n",
    "        ts300I25k.diversity(mode=\"branch\") * mutation_rate,\n",
    "        tsm100M300I.diversity(mode=\"branch\") * mutation_rate\n",
    "    ],\n",
    "    \"FST_branch\": [i.Fst([indList[0], indList[1]], mode=\"branch\") for i in [ts300I2k, ts300I25k, tsm100M300I]],\n",
    "    \"FST_site\": [i.Fst([indList[0], indList[1]], mode=\"site\") for i in [ts300I2k, ts300I25k, tsm100M300I]]\n",
    "}\n",
    "pd.DataFrame(tmp)"
   ]
  },
  {
   "cell_type": "code",
   "execution_count": null,
   "metadata": {},
   "outputs": [],
   "source": [
    "tree = ts300I2k.at_index(1)\n",
    "tree.draw()"
   ]
  },
  {
   "cell_type": "code",
   "execution_count": null,
   "metadata": {},
   "outputs": [],
   "source": [
    "tree.root"
   ]
  },
  {
   "cell_type": "markdown",
   "metadata": {},
   "source": [
    "Print the age of the tree:"
   ]
  },
  {
   "cell_type": "code",
   "execution_count": null,
   "metadata": {},
   "outputs": [],
   "source": [
    "tree.time(tree.root)"
   ]
  },
  {
   "cell_type": "markdown",
   "metadata": {},
   "source": [
    "Iterate over the trees and get time. Remove the first and the last trees:"
   ]
  },
  {
   "cell_type": "code",
   "execution_count": null,
   "metadata": {},
   "outputs": [],
   "source": [
    "skipped_trees = list(ts300I2k.trees())[1:(ts300I2k.num_trees - 1)]\n",
    "# skipped_trees = list(itertools.islice(\n",
    "#     list(ts300I2k.trees()), 1, ts300I2k.num_trees - 1))\n",
    "[tree.time(tree.roots[0]) for tree in skipped_trees]"
   ]
  },
  {
   "cell_type": "code",
   "execution_count": null,
   "metadata": {},
   "outputs": [],
   "source": [
    "skipped_trees"
   ]
  },
  {
   "cell_type": "code",
   "execution_count": null,
   "metadata": {},
   "outputs": [],
   "source": [
    "[(i, len(tree.roots)) for i, tree in enumerate(ts300I2k.trees()) if len(tree.roots) > 1]"
   ]
  }
 ],
 "metadata": {
  "kernelspec": {
   "display_name": "tskitetude-hh-GIRXc-py3.9",
   "language": "python",
   "name": "python3"
  },
  "language_info": {
   "codemirror_mode": {
    "name": "ipython",
    "version": 3
   },
   "file_extension": ".py",
   "mimetype": "text/x-python",
   "name": "python",
   "nbconvert_exporter": "python",
   "pygments_lexer": "ipython3",
   "version": "3.9.16"
  }
 },
 "nbformat": 4,
 "nbformat_minor": 2
}
